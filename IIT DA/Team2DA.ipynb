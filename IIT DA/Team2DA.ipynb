{
  "nbformat": 4,
  "nbformat_minor": 0,
  "metadata": {
    "colab": {
      "name": "Team2DA.ipynb",
      "provenance": [],
      "collapsed_sections": [],
      "toc_visible": true
    },
    "kernelspec": {
      "display_name": "Python 3",
      "name": "python3"
    }
  },
  "cells": [
    {
      "cell_type": "code",
      "metadata": {
        "id": "7QsZkFtgdobM"
      },
      "source": [
        "import pandas as pd\n",
        "import numpy as np\n",
        "import matplotlib.pyplot as plt\n",
        "import seaborn as sns\n",
        "import csv\n",
        "Train_data = 'https://drive.google.com/uc?id=1iDU9ysyoQ_RWPMSvWOg1-xBgtj2wzvGz&export=download'\n",
        "Test_data = 'https://drive.google.com/uc?id=1Hei17WH2oEpSYWrS7PuiH0n9gI3LHB4G&export=download'\n",
        "Sample_submission = 'https://drive.google.com/uc?id=16yA5FEZZOFZddbpn2nm1woWK9gFtG0nl&export=download'\n",
        "df = pd.read_csv(Train_data)"
      ],
      "execution_count": null,
      "outputs": []
    },
    {
      "cell_type": "code",
      "metadata": {
        "colab": {
          "base_uri": "https://localhost:8080/",
          "height": 232
        },
        "id": "qzTjwMHDWFZN",
        "outputId": "26dba40c-ee82-4702-b35a-2f9950f62588"
      },
      "source": [
        "df.head()"
      ],
      "execution_count": null,
      "outputs": [
        {
          "output_type": "execute_result",
          "data": {
            "text/html": [
              "<div>\n",
              "<style scoped>\n",
              "    .dataframe tbody tr th:only-of-type {\n",
              "        vertical-align: middle;\n",
              "    }\n",
              "\n",
              "    .dataframe tbody tr th {\n",
              "        vertical-align: top;\n",
              "    }\n",
              "\n",
              "    .dataframe thead th {\n",
              "        text-align: right;\n",
              "    }\n",
              "</style>\n",
              "<table border=\"1\" class=\"dataframe\">\n",
              "  <thead>\n",
              "    <tr style=\"text-align: right;\">\n",
              "      <th></th>\n",
              "      <th>id</th>\n",
              "      <th>acousticness</th>\n",
              "      <th>danceability</th>\n",
              "      <th>energy</th>\n",
              "      <th>explicit</th>\n",
              "      <th>instrumentalness</th>\n",
              "      <th>key</th>\n",
              "      <th>liveness</th>\n",
              "      <th>loudness</th>\n",
              "      <th>mode</th>\n",
              "      <th>release_date</th>\n",
              "      <th>speechiness</th>\n",
              "      <th>tempo</th>\n",
              "      <th>valence</th>\n",
              "      <th>year</th>\n",
              "      <th>duration-min</th>\n",
              "      <th>popularity</th>\n",
              "    </tr>\n",
              "  </thead>\n",
              "  <tbody>\n",
              "    <tr>\n",
              "      <th>0</th>\n",
              "      <td>2015</td>\n",
              "      <td>0.949</td>\n",
              "      <td>0.235</td>\n",
              "      <td>0.0276</td>\n",
              "      <td>No</td>\n",
              "      <td>0.9270</td>\n",
              "      <td>5</td>\n",
              "      <td>0.513</td>\n",
              "      <td>-27.398</td>\n",
              "      <td>Major</td>\n",
              "      <td>01-01-1947</td>\n",
              "      <td>0.0381</td>\n",
              "      <td>110.838</td>\n",
              "      <td>0.0398</td>\n",
              "      <td>1947</td>\n",
              "      <td>3.0</td>\n",
              "      <td>very low</td>\n",
              "    </tr>\n",
              "    <tr>\n",
              "      <th>1</th>\n",
              "      <td>15901</td>\n",
              "      <td>0.855</td>\n",
              "      <td>0.456</td>\n",
              "      <td>0.4850</td>\n",
              "      <td>No</td>\n",
              "      <td>0.0884</td>\n",
              "      <td>4</td>\n",
              "      <td>0.151</td>\n",
              "      <td>-10.046</td>\n",
              "      <td>Major</td>\n",
              "      <td>13-11-2020</td>\n",
              "      <td>0.0437</td>\n",
              "      <td>152.066</td>\n",
              "      <td>0.8590</td>\n",
              "      <td>2020</td>\n",
              "      <td>2.4</td>\n",
              "      <td>low</td>\n",
              "    </tr>\n",
              "    <tr>\n",
              "      <th>2</th>\n",
              "      <td>9002</td>\n",
              "      <td>0.827</td>\n",
              "      <td>0.495</td>\n",
              "      <td>0.4990</td>\n",
              "      <td>No</td>\n",
              "      <td>0.0000</td>\n",
              "      <td>0</td>\n",
              "      <td>0.401</td>\n",
              "      <td>-8.009</td>\n",
              "      <td>Minor</td>\n",
              "      <td>01-01-1950</td>\n",
              "      <td>0.0474</td>\n",
              "      <td>108.004</td>\n",
              "      <td>0.7090</td>\n",
              "      <td>1950</td>\n",
              "      <td>2.6</td>\n",
              "      <td>very low</td>\n",
              "    </tr>\n",
              "    <tr>\n",
              "      <th>3</th>\n",
              "      <td>6734</td>\n",
              "      <td>0.654</td>\n",
              "      <td>0.643</td>\n",
              "      <td>0.4690</td>\n",
              "      <td>No</td>\n",
              "      <td>0.1080</td>\n",
              "      <td>7</td>\n",
              "      <td>0.218</td>\n",
              "      <td>-15.917</td>\n",
              "      <td>Major</td>\n",
              "      <td>30-04-1974</td>\n",
              "      <td>0.0368</td>\n",
              "      <td>83.636</td>\n",
              "      <td>0.9640</td>\n",
              "      <td>1974</td>\n",
              "      <td>2.4</td>\n",
              "      <td>low</td>\n",
              "    </tr>\n",
              "    <tr>\n",
              "      <th>4</th>\n",
              "      <td>15563</td>\n",
              "      <td>0.738</td>\n",
              "      <td>0.705</td>\n",
              "      <td>0.3110</td>\n",
              "      <td>No</td>\n",
              "      <td>0.0000</td>\n",
              "      <td>5</td>\n",
              "      <td>0.322</td>\n",
              "      <td>-12.344</td>\n",
              "      <td>Major</td>\n",
              "      <td>01-01-1973</td>\n",
              "      <td>0.0488</td>\n",
              "      <td>117.260</td>\n",
              "      <td>0.7850</td>\n",
              "      <td>1973</td>\n",
              "      <td>3.4</td>\n",
              "      <td>average</td>\n",
              "    </tr>\n",
              "  </tbody>\n",
              "</table>\n",
              "</div>"
            ],
            "text/plain": [
              "      id  acousticness  danceability  ...  year duration-min  popularity\n",
              "0   2015         0.949         0.235  ...  1947          3.0    very low\n",
              "1  15901         0.855         0.456  ...  2020          2.4         low\n",
              "2   9002         0.827         0.495  ...  1950          2.6    very low\n",
              "3   6734         0.654         0.643  ...  1974          2.4         low\n",
              "4  15563         0.738         0.705  ...  1973          3.4     average\n",
              "\n",
              "[5 rows x 17 columns]"
            ]
          },
          "metadata": {
            "tags": []
          },
          "execution_count": 2
        }
      ]
    },
    {
      "cell_type": "code",
      "metadata": {
        "colab": {
          "base_uri": "https://localhost:8080/"
        },
        "id": "xKJYisePzBdd",
        "outputId": "1e605ff6-52ba-4fa6-c7ad-c0a38fc27b73"
      },
      "source": [
        "print(\"shape of dataset\")\n",
        "print(df.shape)\n",
        "print(\"columns in dataset\")\n",
        "print(df.columns)\n",
        "print(df.info())"
      ],
      "execution_count": null,
      "outputs": [
        {
          "output_type": "stream",
          "text": [
            "shape of dataset\n",
            "(12227, 17)\n",
            "columns in dataset\n",
            "Index(['id', 'acousticness', 'danceability', 'energy', 'explicit',\n",
            "       'instrumentalness', 'key', 'liveness', 'loudness', 'mode',\n",
            "       'release_date', 'speechiness', 'tempo', 'valence', 'year',\n",
            "       'duration-min', 'popularity'],\n",
            "      dtype='object')\n",
            "<class 'pandas.core.frame.DataFrame'>\n",
            "RangeIndex: 12227 entries, 0 to 12226\n",
            "Data columns (total 17 columns):\n",
            " #   Column            Non-Null Count  Dtype  \n",
            "---  ------            --------------  -----  \n",
            " 0   id                12227 non-null  int64  \n",
            " 1   acousticness      12227 non-null  float64\n",
            " 2   danceability      12227 non-null  float64\n",
            " 3   energy            12227 non-null  float64\n",
            " 4   explicit          12227 non-null  object \n",
            " 5   instrumentalness  12227 non-null  float64\n",
            " 6   key               12227 non-null  int64  \n",
            " 7   liveness          12227 non-null  float64\n",
            " 8   loudness          12227 non-null  float64\n",
            " 9   mode              12227 non-null  object \n",
            " 10  release_date      12227 non-null  object \n",
            " 11  speechiness       12227 non-null  float64\n",
            " 12  tempo             12227 non-null  float64\n",
            " 13  valence           12227 non-null  float64\n",
            " 14  year              12227 non-null  int64  \n",
            " 15  duration-min      12227 non-null  float64\n",
            " 16  popularity        12227 non-null  object \n",
            "dtypes: float64(10), int64(3), object(4)\n",
            "memory usage: 1.6+ MB\n",
            "None\n"
          ],
          "name": "stdout"
        }
      ]
    },
    {
      "cell_type": "code",
      "metadata": {
        "colab": {
          "base_uri": "https://localhost:8080/"
        },
        "id": "jDppyXKyziSd",
        "outputId": "89674769-3691-426a-cb0d-6410c5de4946"
      },
      "source": [
        "df['explicit']= pd.factorize(df.explicit)[0]\n",
        "print(df.explicit.value_counts())\n",
        "\n",
        "df['popularity']= pd.factorize(df.popularity)[0]\n",
        "print(df.popularity.value_counts())"
      ],
      "execution_count": null,
      "outputs": [
        {
          "output_type": "stream",
          "text": [
            "0    10906\n",
            "1     1321\n",
            "Name: explicit, dtype: int64\n",
            "0    3222\n",
            "1    3118\n",
            "2    2912\n",
            "3    2606\n",
            "4     369\n",
            "Name: popularity, dtype: int64\n"
          ],
          "name": "stdout"
        }
      ]
    },
    {
      "cell_type": "code",
      "metadata": {
        "colab": {
          "base_uri": "https://localhost:8080/",
          "height": 239
        },
        "id": "gOwcEP-FcpK_",
        "outputId": "2b44c43a-a762-468d-d08d-8051f130a04c"
      },
      "source": [
        "sns.set(style=\"whitegrid\")\n",
        "g = sns.catplot(x=\"popularity\", y=\"acousticness\", data=df,kind=\"box\",height=4, aspect=7)\n",
        "g.set_ylabels(\"acousticness\")"
      ],
      "execution_count": null,
      "outputs": [
        {
          "output_type": "execute_result",
          "data": {
            "text/plain": [
              "<seaborn.axisgrid.FacetGrid at 0x7f9d8ca99b90>"
            ]
          },
          "metadata": {
            "tags": []
          },
          "execution_count": 5
        },
        {
          "output_type": "display_data",
          "data": {
            "image/png": "[encoded data removed]",
            "text/plain": [
              "<Figure size 2016x288 with 1 Axes>"
            ]
          },
          "metadata": {
            "tags": []
          }
        }
      ]
    },
    {
      "cell_type": "code",
      "metadata": {
        "colab": {
          "base_uri": "https://localhost:8080/",
          "height": 239
        },
        "id": "IYSLpOnEdZ6j",
        "outputId": "19445d0d-74ae-4081-bfab-b8cb6218c4d9"
      },
      "source": [
        "sns.set(style=\"whitegrid\")\n",
        "g = sns.catplot(x=\"popularity\", y=\"danceability\", data=df,kind=\"box\",height=4, aspect=7)\n",
        "g.set_ylabels(\"danceability\")"
      ],
      "execution_count": null,
      "outputs": [
        {
          "output_type": "execute_result",
          "data": {
            "text/plain": [
              "<seaborn.axisgrid.FacetGrid at 0x7f9d8bd6f190>"
            ]
          },
          "metadata": {
            "tags": []
          },
          "execution_count": 6
        },
        {
          "output_type": "display_data",
          "data": {
            "image/png": "[encoded data removed]",
            "text/plain": [
              "<Figure size 2016x288 with 1 Axes>"
            ]
          },
          "metadata": {
            "tags": []
          }
        }
      ]
    },
    {
      "cell_type": "code",
      "metadata": {
        "colab": {
          "base_uri": "https://localhost:8080/",
          "height": 239
        },
        "id": "YYP7tlbBdf9n",
        "outputId": "fbfaa660-110a-4e5e-8dba-1299e3b9bac2"
      },
      "source": [
        "sns.set(style=\"whitegrid\")\n",
        "g = sns.catplot(x=\"popularity\", y=\"explicit\", data=df,kind=\"box\",height=4, aspect=7)\n",
        "g.set_ylabels(\"explicit\")"
      ],
      "execution_count": null,
      "outputs": [
        {
          "output_type": "execute_result",
          "data": {
            "text/plain": [
              "<seaborn.axisgrid.FacetGrid at 0x7f9d82c08090>"
            ]
          },
          "metadata": {
            "tags": []
          },
          "execution_count": 7
        },
        {
          "output_type": "display_data",
          "data": {
            "image/png": "[encoded data removed]",
            "text/plain": [
              "<Figure size 2016x288 with 1 Axes>"
            ]
          },
          "metadata": {
            "tags": []
          }
        }
      ]
    },
    {
      "cell_type": "code",
      "metadata": {
        "colab": {
          "base_uri": "https://localhost:8080/",
          "height": 239
        },
        "id": "fiuNhelZdlNc",
        "outputId": "9ec550c4-1b80-47c9-e3aa-fa5524f85c9e"
      },
      "source": [
        "sns.set(style=\"whitegrid\")\n",
        "g = sns.catplot(x=\"popularity\", y=\"energy\", data=df,kind=\"box\",height=4, aspect=7)\n",
        "g.set_ylabels(\"energy\")"
      ],
      "execution_count": null,
      "outputs": [
        {
          "output_type": "execute_result",
          "data": {
            "text/plain": [
              "<seaborn.axisgrid.FacetGrid at 0x7f9d8bda2b50>"
            ]
          },
          "metadata": {
            "tags": []
          },
          "execution_count": 8
        },
        {
          "output_type": "display_data",
          "data": {
            "image/png": "[encoded data removed]",
            "text/plain": [
              "<Figure size 2016x288 with 1 Axes>"
            ]
          },
          "metadata": {
            "tags": []
          }
        }
      ]
    },
    {
      "cell_type": "code",
      "metadata": {
        "colab": {
          "base_uri": "https://localhost:8080/",
          "height": 496
        },
        "id": "UI4SjOTa0cqZ",
        "outputId": "8cf5ae0a-fecb-4eaf-a572-07b02df749c4"
      },
      "source": [
        "fig, ax = plt.subplots(figsize=(6,6))\n",
        "sns.heatmap(df.corr(), center=0, cmap='Blues')\n",
        "ax.set_title('dependency')"
      ],
      "execution_count": null,
      "outputs": [
        {
          "output_type": "execute_result",
          "data": {
            "text/plain": [
              "Text(0.5, 1.0, 'dependency')"
            ]
          },
          "metadata": {
            "tags": []
          },
          "execution_count": 9
        },
        {
          "output_type": "display_data",
          "data": {
            "image/png": "[encoded data removed]",
            "text/plain": [
              "<Figure size 432x432 with 2 Axes>"
            ]
          },
          "metadata": {
            "tags": []
          }
        }
      ]
    },
    {
      "cell_type": "code",
      "metadata": {
        "colab": {
          "base_uri": "https://localhost:8080/",
          "height": 35
        },
        "id": "MZ9LSlqAM76y",
        "outputId": "fef3eb36-531d-42b1-81ad-9ab7c1ca56cf"
      },
      "source": [
        "min(df.corr())"
      ],
      "execution_count": null,
      "outputs": [
        {
          "output_type": "execute_result",
          "data": {
            "application/vnd.google.colaboratory.intrinsic+json": {
              "type": "string"
            },
            "text/plain": [
              "'acousticness'"
            ]
          },
          "metadata": {
            "tags": []
          },
          "execution_count": 10
        }
      ]
    },
    {
      "cell_type": "code",
      "metadata": {
        "colab": {
          "base_uri": "https://localhost:8080/",
          "height": 35
        },
        "id": "XaQZiBukXagg",
        "outputId": "41791527-0735-4809-a664-133353625a7c"
      },
      "source": [
        "max(df.corr())"
      ],
      "execution_count": null,
      "outputs": [
        {
          "output_type": "execute_result",
          "data": {
            "application/vnd.google.colaboratory.intrinsic+json": {
              "type": "string"
            },
            "text/plain": [
              "'year'"
            ]
          },
          "metadata": {
            "tags": []
          },
          "execution_count": 11
        }
      ]
    },
    {
      "cell_type": "markdown",
      "metadata": {
        "id": "7o1GC8W-XuIC"
      },
      "source": [
        "Exploring on Year"
      ]
    },
    {
      "cell_type": "code",
      "metadata": {
        "colab": {
          "base_uri": "https://localhost:8080/",
          "height": 427
        },
        "id": "NwYTXXhyj2zw",
        "outputId": "041a11d5-6e39-42e9-b3f2-c74d04379c41"
      },
      "source": [
        "import seaborn as sns\n",
        "import matplotlib.pyplot as plt\n",
        "plt.figure(figsize=(14, 6))\n",
        "#plt.grid(True)\n",
        "plt.title('Kernel Density Plot for released year')\n",
        "plt.xlabel('Year')\n",
        "plt.ylabel('Relative Density')\n",
        "sns.kdeplot(df[\"year\"])\n",
        "plt.axvline(df[\"year\"].mean(), linewidth=1.8, linestyle=\"dashed\")\n",
        "plt.axvline(np.quantile(df[\"year\"],0.25), linewidth=1.8, linestyle=\"dashed\", color=\"orange\")\n",
        "plt.axvline(np.quantile(df[\"year\"],0.50), linewidth=1.8, linestyle=\"dashed\", color=\"orange\")\n",
        "plt.axvline(np.quantile(df[\"year\"],0.75), linewidth=1.8, linestyle=\"dashed\", color=\"orange\")"
      ],
      "execution_count": null,
      "outputs": [
        {
          "output_type": "execute_result",
          "data": {
            "text/plain": [
              "<matplotlib.lines.Line2D at 0x7f9d82da6850>"
            ]
          },
          "metadata": {
            "tags": []
          },
          "execution_count": 12
        },
        {
          "output_type": "display_data",
          "data": {
            "image/png": "[encoded data removed]",
            "text/plain": [
              "<Figure size 1008x432 with 1 Axes>"
            ]
          },
          "metadata": {
            "tags": []
          }
        }
      ]
    },
    {
      "cell_type": "markdown",
      "metadata": {
        "id": "t-xGsMcmkqlv"
      },
      "source": [
        "Bucketing for Year"
      ]
    },
    {
      "cell_type": "code",
      "metadata": {
        "id": "8xmfYBEIkmME"
      },
      "source": [
        "D0=np.quantile(df[\"year\"],0)\n",
        "D1=np.quantile(df[\"year\"],0.10)\n",
        "D2=np.quantile(df[\"year\"],0.20)\n",
        "D3=np.quantile(df[\"year\"],0.30)\n",
        "D4=np.quantile(df[\"year\"],0.40)\n",
        "D5=np.quantile(df[\"year\"],0.50)\n",
        "D6=np.quantile(df[\"year\"],0.60)\n",
        "D7=np.quantile(df[\"year\"],0.70)\n",
        "D8=np.quantile(df[\"year\"],0.80)\n",
        "D9=np.quantile(df[\"year\"],0.90)\n",
        "D10=np.quantile(df[\"year\"],1)"
      ],
      "execution_count": null,
      "outputs": []
    },
    {
      "cell_type": "code",
      "metadata": {
        "colab": {
          "base_uri": "https://localhost:8080/"
        },
        "id": "s7J8S_rym3aV",
        "outputId": "98eb6c16-3c4b-46a8-9560-a1707bcb1584"
      },
      "source": [
        "print(D0,D1,D2,D3,D4,D5,D6,D7,D8,D9,D10)"
      ],
      "execution_count": null,
      "outputs": [
        {
          "output_type": "stream",
          "text": [
            "1920 1947.0 1960.0 1970.0 1979.0 1987.0 1995.0 2003.0 2012.0 2017.0 2021\n"
          ],
          "name": "stdout"
        }
      ]
    },
    {
      "cell_type": "code",
      "metadata": {
        "id": "1RPt-pt-lSag"
      },
      "source": [
        "df[\"Year_bucket\"]=pd.cut(df[\"year\"],bins = [0,D1,D2,D3,D4,D5,D6,D7,D8,D9,D10],\n",
        "                         labels=[\"1920-1947\",\"1947-1960\",\n",
        "                                 \"1960-1970\", \"1970-1979\",\n",
        "                                 \"1979-1987\",\"1987-1995\",\n",
        "                                 \"1995-2003\",\"2003-2012\",\n",
        "                                 \"2012-2017\",\"2017-2021\"])"
      ],
      "execution_count": null,
      "outputs": []
    },
    {
      "cell_type": "code",
      "metadata": {
        "colab": {
          "base_uri": "https://localhost:8080/"
        },
        "id": "tOMrqDvXNjHn",
        "outputId": "3b3d8b88-413f-43a1-8c69-1b2c39c37268"
      },
      "source": [
        "test = pd.read_csv(Test_data)\n",
        "test.info()"
      ],
      "execution_count": null,
      "outputs": [
        {
          "output_type": "stream",
          "text": [
            "<class 'pandas.core.frame.DataFrame'>\n",
            "RangeIndex: 4000 entries, 0 to 3999\n",
            "Data columns (total 16 columns):\n",
            " #   Column            Non-Null Count  Dtype  \n",
            "---  ------            --------------  -----  \n",
            " 0   id                4000 non-null   int64  \n",
            " 1   acousticness      4000 non-null   float64\n",
            " 2   danceability      4000 non-null   float64\n",
            " 3   energy            4000 non-null   float64\n",
            " 4   explicit          4000 non-null   object \n",
            " 5   instrumentalness  4000 non-null   float64\n",
            " 6   key               4000 non-null   int64  \n",
            " 7   liveness          4000 non-null   float64\n",
            " 8   loudness          4000 non-null   float64\n",
            " 9   mode              4000 non-null   object \n",
            " 10  release_date      4000 non-null   object \n",
            " 11  speechiness       4000 non-null   float64\n",
            " 12  tempo             4000 non-null   float64\n",
            " 13  valence           4000 non-null   float64\n",
            " 14  year              4000 non-null   int64  \n",
            " 15  duration-min      4000 non-null   float64\n",
            "dtypes: float64(10), int64(3), object(3)\n",
            "memory usage: 500.1+ KB\n"
          ],
          "name": "stdout"
        }
      ]
    },
    {
      "cell_type": "code",
      "metadata": {
        "colab": {
          "base_uri": "https://localhost:8080/"
        },
        "id": "D9DX4wrHNwAJ",
        "outputId": "5b17a26d-c509-4040-ea06-017912f21a47"
      },
      "source": [
        "test['explicit']= pd.factorize(test.explicit)[0]\n",
        "print(test.explicit.value_counts())"
      ],
      "execution_count": null,
      "outputs": [
        {
          "output_type": "stream",
          "text": [
            "0    3561\n",
            "1     439\n",
            "Name: explicit, dtype: int64\n"
          ],
          "name": "stdout"
        }
      ]
    },
    {
      "cell_type": "code",
      "metadata": {
        "colab": {
          "base_uri": "https://localhost:8080/"
        },
        "id": "Y6KtyZQgOCpX",
        "outputId": "181f5963-4de3-46a9-fc8b-212aaf046eb1"
      },
      "source": [
        "test[\"Year_bucket\"]=pd.cut(test[\"year\"],bins = [0,D1,D2,D3,D4,D5,D6,D7,D8,D9,D10],\n",
        "                         labels=[\"1920-1947\",\"1947-1960\",\n",
        "                                 \"1960-1970\", \"1970-1979\",\n",
        "                                 \"1979-1987\",\"1987-1995\",\n",
        "                                 \"1995-2003\",\"2003-2012\",\n",
        "                                 \"2012-2017\",\"2017-2021\"])\n",
        "test.info()"
      ],
      "execution_count": null,
      "outputs": [
        {
          "output_type": "stream",
          "text": [
            "<class 'pandas.core.frame.DataFrame'>\n",
            "RangeIndex: 4000 entries, 0 to 3999\n",
            "Data columns (total 17 columns):\n",
            " #   Column            Non-Null Count  Dtype   \n",
            "---  ------            --------------  -----   \n",
            " 0   id                4000 non-null   int64   \n",
            " 1   acousticness      4000 non-null   float64 \n",
            " 2   danceability      4000 non-null   float64 \n",
            " 3   energy            4000 non-null   float64 \n",
            " 4   explicit          4000 non-null   int64   \n",
            " 5   instrumentalness  4000 non-null   float64 \n",
            " 6   key               4000 non-null   int64   \n",
            " 7   liveness          4000 non-null   float64 \n",
            " 8   loudness          4000 non-null   float64 \n",
            " 9   mode              4000 non-null   object  \n",
            " 10  release_date      4000 non-null   object  \n",
            " 11  speechiness       4000 non-null   float64 \n",
            " 12  tempo             4000 non-null   float64 \n",
            " 13  valence           4000 non-null   float64 \n",
            " 14  year              4000 non-null   int64   \n",
            " 15  duration-min      4000 non-null   float64 \n",
            " 16  Year_bucket       4000 non-null   category\n",
            "dtypes: category(1), float64(10), int64(4), object(2)\n",
            "memory usage: 504.4+ KB\n"
          ],
          "name": "stdout"
        }
      ]
    },
    {
      "cell_type": "markdown",
      "metadata": {
        "id": "KVeO9N8lY4Dv"
      },
      "source": [
        "Exploring Released Month "
      ]
    },
    {
      "cell_type": "code",
      "metadata": {
        "id": "7MMThHGTo2ym"
      },
      "source": [
        "### Extracting month\n",
        "\n",
        "df[\"released_month\"]=\"\"\n",
        "released_month=[]\n",
        "for row in range(0, len(df),1):\n",
        "  released_month.append(df.iloc[row][\"release_date\"][3:5])\n",
        "\n",
        "df[\"released_month\"]=released_month"
      ],
      "execution_count": null,
      "outputs": []
    },
    {
      "cell_type": "code",
      "metadata": {
        "colab": {
          "base_uri": "https://localhost:8080/"
        },
        "id": "KJLlZcjyOjm-",
        "outputId": "aae2b37e-d027-494f-c16b-39c296815705"
      },
      "source": [
        "df.info()"
      ],
      "execution_count": null,
      "outputs": [
        {
          "output_type": "stream",
          "text": [
            "<class 'pandas.core.frame.DataFrame'>\n",
            "RangeIndex: 12227 entries, 0 to 12226\n",
            "Data columns (total 19 columns):\n",
            " #   Column            Non-Null Count  Dtype   \n",
            "---  ------            --------------  -----   \n",
            " 0   id                12227 non-null  int64   \n",
            " 1   acousticness      12227 non-null  float64 \n",
            " 2   danceability      12227 non-null  float64 \n",
            " 3   energy            12227 non-null  float64 \n",
            " 4   explicit          12227 non-null  int64   \n",
            " 5   instrumentalness  12227 non-null  float64 \n",
            " 6   key               12227 non-null  int64   \n",
            " 7   liveness          12227 non-null  float64 \n",
            " 8   loudness          12227 non-null  float64 \n",
            " 9   mode              12227 non-null  object  \n",
            " 10  release_date      12227 non-null  object  \n",
            " 11  speechiness       12227 non-null  float64 \n",
            " 12  tempo             12227 non-null  float64 \n",
            " 13  valence           12227 non-null  float64 \n",
            " 14  year              12227 non-null  int64   \n",
            " 15  duration-min      12227 non-null  float64 \n",
            " 16  popularity        12227 non-null  int64   \n",
            " 17  Year_bucket       12227 non-null  category\n",
            " 18  released_month    12227 non-null  object  \n",
            "dtypes: category(1), float64(10), int64(5), object(3)\n",
            "memory usage: 1.7+ MB\n"
          ],
          "name": "stdout"
        }
      ]
    },
    {
      "cell_type": "code",
      "metadata": {
        "colab": {
          "base_uri": "https://localhost:8080/"
        },
        "id": "O7q3vMeUHS5z",
        "outputId": "8734dca2-dba8-4277-a7c3-e82fd6053904"
      },
      "source": [
        "##test\n",
        "\n",
        "test[\"released_month\"]=\"\"\n",
        "released_month=[]\n",
        "for row in range(0, len(test),1):\n",
        "  released_month.append(test.iloc[row][\"release_date\"][3:5])\n",
        "\n",
        "test[\"released_month\"]=released_month\n",
        "test[\"released_month\"]=test[\"released_month\"].astype(int)\n",
        "test.info()"
      ],
      "execution_count": null,
      "outputs": [
        {
          "output_type": "stream",
          "text": [
            "<class 'pandas.core.frame.DataFrame'>\n",
            "RangeIndex: 4000 entries, 0 to 3999\n",
            "Data columns (total 18 columns):\n",
            " #   Column            Non-Null Count  Dtype   \n",
            "---  ------            --------------  -----   \n",
            " 0   id                4000 non-null   int64   \n",
            " 1   acousticness      4000 non-null   float64 \n",
            " 2   danceability      4000 non-null   float64 \n",
            " 3   energy            4000 non-null   float64 \n",
            " 4   explicit          4000 non-null   int64   \n",
            " 5   instrumentalness  4000 non-null   float64 \n",
            " 6   key               4000 non-null   int64   \n",
            " 7   liveness          4000 non-null   float64 \n",
            " 8   loudness          4000 non-null   float64 \n",
            " 9   mode              4000 non-null   object  \n",
            " 10  release_date      4000 non-null   object  \n",
            " 11  speechiness       4000 non-null   float64 \n",
            " 12  tempo             4000 non-null   float64 \n",
            " 13  valence           4000 non-null   float64 \n",
            " 14  year              4000 non-null   int64   \n",
            " 15  duration-min      4000 non-null   float64 \n",
            " 16  Year_bucket       4000 non-null   category\n",
            " 17  released_month    4000 non-null   int64   \n",
            "dtypes: category(1), float64(10), int64(5), object(2)\n",
            "memory usage: 535.7+ KB\n"
          ],
          "name": "stdout"
        }
      ]
    },
    {
      "cell_type": "code",
      "metadata": {
        "id": "ia-VbEnKZ26M"
      },
      "source": [
        "df[\"released_month\"]=df[\"released_month\"].astype(int)"
      ],
      "execution_count": null,
      "outputs": []
    },
    {
      "cell_type": "code",
      "metadata": {
        "colab": {
          "base_uri": "https://localhost:8080/",
          "height": 427
        },
        "id": "Gi_GQPeAZfhr",
        "outputId": "230578c6-c408-40d0-a314-b9bcd621a6ee"
      },
      "source": [
        "plt.figure(figsize=(14, 6))\n",
        "#plt.grid(True)\n",
        "plt.title('Kernel Density Plot for released year')\n",
        "plt.xlabel('released_month')\n",
        "plt.ylabel('Relative Density')\n",
        "sns.kdeplot(df[\"released_month\"])\n",
        "plt.axvline(df[\"released_month\"].mean(), linewidth=1.8, linestyle=\"dashed\")\n",
        "plt.axvline(np.quantile(df[\"released_month\"],0.25), linewidth=1.8, linestyle=\"dashed\", color=\"orange\")\n",
        "plt.axvline(np.quantile(df[\"released_month\"],0.50), linewidth=1.8, linestyle=\"dashed\", color=\"orange\")\n",
        "plt.axvline(np.quantile(df[\"released_month\"],0.75), linewidth=1.8, linestyle=\"dashed\", color=\"orange\")"
      ],
      "execution_count": null,
      "outputs": [
        {
          "output_type": "execute_result",
          "data": {
            "text/plain": [
              "<matplotlib.lines.Line2D at 0x7f9d82b124d0>"
            ]
          },
          "metadata": {
            "tags": []
          },
          "execution_count": 23
        },
        {
          "output_type": "display_data",
          "data": {
            "image/png": "[encoded data removed]",
            "text/plain": [
              "<Figure size 1008x432 with 1 Axes>"
            ]
          },
          "metadata": {
            "tags": []
          }
        }
      ]
    },
    {
      "cell_type": "markdown",
      "metadata": {
        "id": "_0f6tMPtotNq"
      },
      "source": [
        "Exploring Duration-min"
      ]
    },
    {
      "cell_type": "code",
      "metadata": {
        "colab": {
          "base_uri": "https://localhost:8080/",
          "height": 427
        },
        "id": "Cbs1w83josyY",
        "outputId": "50f45c39-d710-4e8c-960e-400b5afd6d19"
      },
      "source": [
        "plt.figure(figsize=(14, 6))\n",
        "#plt.grid(True)\n",
        "plt.title('Kernel Density Plot for released year')\n",
        "plt.xlabel('duration-min')\n",
        "plt.ylabel('Relative Density')\n",
        "sns.kdeplot(df[\"duration-min\"])\n",
        "plt.axvline(df[\"duration-min\"].mean(), linewidth=1.8, linestyle=\"dashed\")\n",
        "plt.axvline(np.quantile(df[\"duration-min\"],0.25), linewidth=1.8, linestyle=\"dashed\", color=\"orange\")\n",
        "plt.axvline(np.quantile(df[\"duration-min\"],0.50), linewidth=1.8, linestyle=\"dashed\", color=\"orange\")\n",
        "plt.axvline(np.quantile(df[\"duration-min\"],0.75), linewidth=1.8, linestyle=\"dashed\", color=\"orange\")"
      ],
      "execution_count": null,
      "outputs": [
        {
          "output_type": "execute_result",
          "data": {
            "text/plain": [
              "<matplotlib.lines.Line2D at 0x7f9d832a9d50>"
            ]
          },
          "metadata": {
            "tags": []
          },
          "execution_count": 24
        },
        {
          "output_type": "display_data",
          "data": {
            "image/png": "[encoded data removed]",
            "text/plain": [
              "<Figure size 1008x432 with 1 Axes>"
            ]
          },
          "metadata": {
            "tags": []
          }
        }
      ]
    },
    {
      "cell_type": "markdown",
      "metadata": {
        "id": "wziZcroypJzy"
      },
      "source": [
        "Bucketing for Duration\n"
      ]
    },
    {
      "cell_type": "code",
      "metadata": {
        "colab": {
          "base_uri": "https://localhost:8080/"
        },
        "id": "ovg38u5LpHSa",
        "outputId": "628fc318-4407-4006-91f6-596a6ed4ff95"
      },
      "source": [
        "D0=np.quantile(df[\"duration-min\"],0)\n",
        "D1=np.quantile(df[\"duration-min\"],0.10)\n",
        "D2=np.quantile(df[\"duration-min\"],0.20)\n",
        "D3=np.quantile(df[\"duration-min\"],0.30)\n",
        "D4=np.quantile(df[\"duration-min\"],0.40)\n",
        "D5=np.quantile(df[\"duration-min\"],0.50)\n",
        "D6=np.quantile(df[\"duration-min\"],0.60)\n",
        "D7=np.quantile(df[\"duration-min\"],0.70)\n",
        "D8=np.quantile(df[\"duration-min\"],0.80)\n",
        "D9=np.quantile(df[\"duration-min\"],0.90)\n",
        "D10=np.quantile(df[\"duration-min\"],1)\n",
        "print(D0,D1,D2,D3,D4,D5,D6,D7,D8,D9,D10)"
      ],
      "execution_count": null,
      "outputs": [
        {
          "output_type": "stream",
          "text": [
            "0.2 2.3 2.7 3.0 3.3 3.6 3.8 4.2 4.7 5.6 72.8\n"
          ],
          "name": "stdout"
        }
      ]
    },
    {
      "cell_type": "code",
      "metadata": {
        "id": "a4x2ttkCpbhc"
      },
      "source": [
        "df[\"Duration_bucket\"]=pd.cut(df[\"duration-min\"],bins = [0,D1,D2,D3,D4,D5,D6,D7,D8,D9,D10],\n",
        "                         labels=[\"0.2-2.3\",\"2.3-2.7\",\n",
        "                                 \"2.7-3.0\", \"3.0-3.3\",\n",
        "                                 \"3.3-3.6\",\"3.6-3.8\",\n",
        "                                 \"3.8-4.2\",\"4.2-4.7\",\n",
        "                                 \"4.7-5.6\",\"5.6-72.8\"])"
      ],
      "execution_count": null,
      "outputs": []
    },
    {
      "cell_type": "code",
      "metadata": {
        "colab": {
          "base_uri": "https://localhost:8080/"
        },
        "id": "VpoiS26eHupF",
        "outputId": "3218ceb6-aa3e-481a-aa34-c5f98197ce83"
      },
      "source": [
        "## test\n",
        "test[\"Duration_bucket\"]=pd.cut(test[\"duration-min\"],bins = [0,D1,D2,D3,D4,D5,D6,D7,D8,D9,81],\n",
        "                         labels=[\"0.2-2.3\",\"2.3-2.7\",\n",
        "                                 \"2.7-3.0\", \"3.0-3.3\",\n",
        "                                 \"3.3-3.6\",\"3.6-3.8\",\n",
        "                                 \"3.8-4.2\",\"4.2-4.7\",\n",
        "                                 \"4.7-5.6\",\"5.6-72.8\"])\n",
        "test.info()"
      ],
      "execution_count": null,
      "outputs": [
        {
          "output_type": "stream",
          "text": [
            "<class 'pandas.core.frame.DataFrame'>\n",
            "RangeIndex: 4000 entries, 0 to 3999\n",
            "Data columns (total 19 columns):\n",
            " #   Column            Non-Null Count  Dtype   \n",
            "---  ------            --------------  -----   \n",
            " 0   id                4000 non-null   int64   \n",
            " 1   acousticness      4000 non-null   float64 \n",
            " 2   danceability      4000 non-null   float64 \n",
            " 3   energy            4000 non-null   float64 \n",
            " 4   explicit          4000 non-null   int64   \n",
            " 5   instrumentalness  4000 non-null   float64 \n",
            " 6   key               4000 non-null   int64   \n",
            " 7   liveness          4000 non-null   float64 \n",
            " 8   loudness          4000 non-null   float64 \n",
            " 9   mode              4000 non-null   object  \n",
            " 10  release_date      4000 non-null   object  \n",
            " 11  speechiness       4000 non-null   float64 \n",
            " 12  tempo             4000 non-null   float64 \n",
            " 13  valence           4000 non-null   float64 \n",
            " 14  year              4000 non-null   int64   \n",
            " 15  duration-min      4000 non-null   float64 \n",
            " 16  Year_bucket       4000 non-null   category\n",
            " 17  released_month    4000 non-null   int64   \n",
            " 18  Duration_bucket   4000 non-null   category\n",
            "dtypes: category(2), float64(10), int64(5), object(2)\n",
            "memory usage: 540.0+ KB\n"
          ],
          "name": "stdout"
        }
      ]
    },
    {
      "cell_type": "code",
      "metadata": {
        "colab": {
          "base_uri": "https://localhost:8080/"
        },
        "id": "bXa7xJvrqIjP",
        "outputId": "7a8b4655-416f-4ad3-965f-3d1e5faf08d5"
      },
      "source": [
        "df.info()"
      ],
      "execution_count": null,
      "outputs": [
        {
          "output_type": "stream",
          "text": [
            "<class 'pandas.core.frame.DataFrame'>\n",
            "RangeIndex: 12227 entries, 0 to 12226\n",
            "Data columns (total 20 columns):\n",
            " #   Column            Non-Null Count  Dtype   \n",
            "---  ------            --------------  -----   \n",
            " 0   id                12227 non-null  int64   \n",
            " 1   acousticness      12227 non-null  float64 \n",
            " 2   danceability      12227 non-null  float64 \n",
            " 3   energy            12227 non-null  float64 \n",
            " 4   explicit          12227 non-null  int64   \n",
            " 5   instrumentalness  12227 non-null  float64 \n",
            " 6   key               12227 non-null  int64   \n",
            " 7   liveness          12227 non-null  float64 \n",
            " 8   loudness          12227 non-null  float64 \n",
            " 9   mode              12227 non-null  object  \n",
            " 10  release_date      12227 non-null  object  \n",
            " 11  speechiness       12227 non-null  float64 \n",
            " 12  tempo             12227 non-null  float64 \n",
            " 13  valence           12227 non-null  float64 \n",
            " 14  year              12227 non-null  int64   \n",
            " 15  duration-min      12227 non-null  float64 \n",
            " 16  popularity        12227 non-null  int64   \n",
            " 17  Year_bucket       12227 non-null  category\n",
            " 18  released_month    12227 non-null  int64   \n",
            " 19  Duration_bucket   12227 non-null  category\n",
            "dtypes: category(2), float64(10), int64(6), object(2)\n",
            "memory usage: 1.7+ MB\n"
          ],
          "name": "stdout"
        }
      ]
    },
    {
      "cell_type": "markdown",
      "metadata": {
        "id": "oSBHgh34oEiV"
      },
      "source": [
        "### Adjusting Class Imbalance for Popularity"
      ]
    },
    {
      "cell_type": "code",
      "metadata": {
        "colab": {
          "base_uri": "https://localhost:8080/",
          "height": 195
        },
        "id": "Y98I667me_Z9",
        "outputId": "e36cf563-5dd8-41d3-ff09-07a2481c2a6f"
      },
      "source": [
        "scores = pd.DataFrame(df.groupby('popularity').size().sort_values(ascending=False)).reset_index()\n",
        "scores.rename(columns={0:'count'},inplace=True)\n",
        "scores"
      ],
      "execution_count": null,
      "outputs": [
        {
          "output_type": "execute_result",
          "data": {
            "text/html": [
              "<div>\n",
              "<style scoped>\n",
              "    .dataframe tbody tr th:only-of-type {\n",
              "        vertical-align: middle;\n",
              "    }\n",
              "\n",
              "    .dataframe tbody tr th {\n",
              "        vertical-align: top;\n",
              "    }\n",
              "\n",
              "    .dataframe thead th {\n",
              "        text-align: right;\n",
              "    }\n",
              "</style>\n",
              "<table border=\"1\" class=\"dataframe\">\n",
              "  <thead>\n",
              "    <tr style=\"text-align: right;\">\n",
              "      <th></th>\n",
              "      <th>popularity</th>\n",
              "      <th>count</th>\n",
              "    </tr>\n",
              "  </thead>\n",
              "  <tbody>\n",
              "    <tr>\n",
              "      <th>0</th>\n",
              "      <td>0</td>\n",
              "      <td>3222</td>\n",
              "    </tr>\n",
              "    <tr>\n",
              "      <th>1</th>\n",
              "      <td>1</td>\n",
              "      <td>3118</td>\n",
              "    </tr>\n",
              "    <tr>\n",
              "      <th>2</th>\n",
              "      <td>2</td>\n",
              "      <td>2912</td>\n",
              "    </tr>\n",
              "    <tr>\n",
              "      <th>3</th>\n",
              "      <td>3</td>\n",
              "      <td>2606</td>\n",
              "    </tr>\n",
              "    <tr>\n",
              "      <th>4</th>\n",
              "      <td>4</td>\n",
              "      <td>369</td>\n",
              "    </tr>\n",
              "  </tbody>\n",
              "</table>\n",
              "</div>"
            ],
            "text/plain": [
              "   popularity  count\n",
              "0           0   3222\n",
              "1           1   3118\n",
              "2           2   2912\n",
              "3           3   2606\n",
              "4           4    369"
            ]
          },
          "metadata": {
            "tags": []
          },
          "execution_count": 29
        }
      ]
    },
    {
      "cell_type": "code",
      "metadata": {
        "colab": {
          "base_uri": "https://localhost:8080/",
          "height": 394
        },
        "id": "KD_9DvidhEfj",
        "outputId": "fef597a7-6595-4311-c76d-530f6702ed2c"
      },
      "source": [
        "plt.figure(figsize=(6,6))\n",
        "sns.barplot(x='popularity',y='count',data=scores)\n",
        "plt.show()"
      ],
      "execution_count": null,
      "outputs": [
        {
          "output_type": "display_data",
          "data": {
            "image/png": "[encoded data removed]",
            "text/plain": [
              "<Figure size 432x432 with 1 Axes>"
            ]
          },
          "metadata": {
            "tags": []
          }
        }
      ]
    },
    {
      "cell_type": "code",
      "metadata": {
        "colab": {
          "base_uri": "https://localhost:8080/",
          "height": 438
        },
        "id": "u9xHv0HIoQDU",
        "outputId": "a6ddbae5-a4a7-4491-cdea-4a59c641a0b5"
      },
      "source": [
        "df"
      ],
      "execution_count": null,
      "outputs": [
        {
          "output_type": "execute_result",
          "data": {
            "text/html": [
              "<div>\n",
              "<style scoped>\n",
              "    .dataframe tbody tr th:only-of-type {\n",
              "        vertical-align: middle;\n",
              "    }\n",
              "\n",
              "    .dataframe tbody tr th {\n",
              "        vertical-align: top;\n",
              "    }\n",
              "\n",
              "    .dataframe thead th {\n",
              "        text-align: right;\n",
              "    }\n",
              "</style>\n",
              "<table border=\"1\" class=\"dataframe\">\n",
              "  <thead>\n",
              "    <tr style=\"text-align: right;\">\n",
              "      <th></th>\n",
              "      <th>id</th>\n",
              "      <th>acousticness</th>\n",
              "      <th>danceability</th>\n",
              "      <th>energy</th>\n",
              "      <th>explicit</th>\n",
              "      <th>instrumentalness</th>\n",
              "      <th>key</th>\n",
              "      <th>liveness</th>\n",
              "      <th>loudness</th>\n",
              "      <th>mode</th>\n",
              "      <th>release_date</th>\n",
              "      <th>speechiness</th>\n",
              "      <th>tempo</th>\n",
              "      <th>valence</th>\n",
              "      <th>year</th>\n",
              "      <th>duration-min</th>\n",
              "      <th>popularity</th>\n",
              "      <th>Year_bucket</th>\n",
              "      <th>released_month</th>\n",
              "      <th>Duration_bucket</th>\n",
              "    </tr>\n",
              "  </thead>\n",
              "  <tbody>\n",
              "    <tr>\n",
              "      <th>0</th>\n",
              "      <td>2015</td>\n",
              "      <td>0.9490</td>\n",
              "      <td>0.2350</td>\n",
              "      <td>0.0276</td>\n",
              "      <td>0</td>\n",
              "      <td>0.927000</td>\n",
              "      <td>5</td>\n",
              "      <td>0.513</td>\n",
              "      <td>-27.398</td>\n",
              "      <td>Major</td>\n",
              "      <td>01-01-1947</td>\n",
              "      <td>0.0381</td>\n",
              "      <td>110.838</td>\n",
              "      <td>0.03980</td>\n",
              "      <td>1947</td>\n",
              "      <td>3.0</td>\n",
              "      <td>0</td>\n",
              "      <td>1920-1947</td>\n",
              "      <td>1</td>\n",
              "      <td>2.7-3.0</td>\n",
              "    </tr>\n",
              "    <tr>\n",
              "      <th>1</th>\n",
              "      <td>15901</td>\n",
              "      <td>0.8550</td>\n",
              "      <td>0.4560</td>\n",
              "      <td>0.4850</td>\n",
              "      <td>0</td>\n",
              "      <td>0.088400</td>\n",
              "      <td>4</td>\n",
              "      <td>0.151</td>\n",
              "      <td>-10.046</td>\n",
              "      <td>Major</td>\n",
              "      <td>13-11-2020</td>\n",
              "      <td>0.0437</td>\n",
              "      <td>152.066</td>\n",
              "      <td>0.85900</td>\n",
              "      <td>2020</td>\n",
              "      <td>2.4</td>\n",
              "      <td>1</td>\n",
              "      <td>2017-2021</td>\n",
              "      <td>11</td>\n",
              "      <td>2.3-2.7</td>\n",
              "    </tr>\n",
              "    <tr>\n",
              "      <th>2</th>\n",
              "      <td>9002</td>\n",
              "      <td>0.8270</td>\n",
              "      <td>0.4950</td>\n",
              "      <td>0.4990</td>\n",
              "      <td>0</td>\n",
              "      <td>0.000000</td>\n",
              "      <td>0</td>\n",
              "      <td>0.401</td>\n",
              "      <td>-8.009</td>\n",
              "      <td>Minor</td>\n",
              "      <td>01-01-1950</td>\n",
              "      <td>0.0474</td>\n",
              "      <td>108.004</td>\n",
              "      <td>0.70900</td>\n",
              "      <td>1950</td>\n",
              "      <td>2.6</td>\n",
              "      <td>0</td>\n",
              "      <td>1947-1960</td>\n",
              "      <td>1</td>\n",
              "      <td>2.3-2.7</td>\n",
              "    </tr>\n",
              "    <tr>\n",
              "      <th>3</th>\n",
              "      <td>6734</td>\n",
              "      <td>0.6540</td>\n",
              "      <td>0.6430</td>\n",
              "      <td>0.4690</td>\n",
              "      <td>0</td>\n",
              "      <td>0.108000</td>\n",
              "      <td>7</td>\n",
              "      <td>0.218</td>\n",
              "      <td>-15.917</td>\n",
              "      <td>Major</td>\n",
              "      <td>30-04-1974</td>\n",
              "      <td>0.0368</td>\n",
              "      <td>83.636</td>\n",
              "      <td>0.96400</td>\n",
              "      <td>1974</td>\n",
              "      <td>2.4</td>\n",
              "      <td>1</td>\n",
              "      <td>1970-1979</td>\n",
              "      <td>4</td>\n",
              "      <td>2.3-2.7</td>\n",
              "    </tr>\n",
              "    <tr>\n",
              "      <th>4</th>\n",
              "      <td>15563</td>\n",
              "      <td>0.7380</td>\n",
              "      <td>0.7050</td>\n",
              "      <td>0.3110</td>\n",
              "      <td>0</td>\n",
              "      <td>0.000000</td>\n",
              "      <td>5</td>\n",
              "      <td>0.322</td>\n",
              "      <td>-12.344</td>\n",
              "      <td>Major</td>\n",
              "      <td>01-01-1973</td>\n",
              "      <td>0.0488</td>\n",
              "      <td>117.260</td>\n",
              "      <td>0.78500</td>\n",
              "      <td>1973</td>\n",
              "      <td>3.4</td>\n",
              "      <td>2</td>\n",
              "      <td>1970-1979</td>\n",
              "      <td>1</td>\n",
              "      <td>3.3-3.6</td>\n",
              "    </tr>\n",
              "    <tr>\n",
              "      <th>...</th>\n",
              "      <td>...</td>\n",
              "      <td>...</td>\n",
              "      <td>...</td>\n",
              "      <td>...</td>\n",
              "      <td>...</td>\n",
              "      <td>...</td>\n",
              "      <td>...</td>\n",
              "      <td>...</td>\n",
              "      <td>...</td>\n",
              "      <td>...</td>\n",
              "      <td>...</td>\n",
              "      <td>...</td>\n",
              "      <td>...</td>\n",
              "      <td>...</td>\n",
              "      <td>...</td>\n",
              "      <td>...</td>\n",
              "      <td>...</td>\n",
              "      <td>...</td>\n",
              "      <td>...</td>\n",
              "      <td>...</td>\n",
              "    </tr>\n",
              "    <tr>\n",
              "      <th>12222</th>\n",
              "      <td>15343</td>\n",
              "      <td>0.0408</td>\n",
              "      <td>0.8090</td>\n",
              "      <td>0.8010</td>\n",
              "      <td>0</td>\n",
              "      <td>0.000000</td>\n",
              "      <td>1</td>\n",
              "      <td>0.353</td>\n",
              "      <td>-5.461</td>\n",
              "      <td>Major</td>\n",
              "      <td>01-07-2014</td>\n",
              "      <td>0.4070</td>\n",
              "      <td>81.940</td>\n",
              "      <td>0.74400</td>\n",
              "      <td>2014</td>\n",
              "      <td>3.4</td>\n",
              "      <td>2</td>\n",
              "      <td>2012-2017</td>\n",
              "      <td>7</td>\n",
              "      <td>3.3-3.6</td>\n",
              "    </tr>\n",
              "    <tr>\n",
              "      <th>12223</th>\n",
              "      <td>1701</td>\n",
              "      <td>0.9120</td>\n",
              "      <td>0.4510</td>\n",
              "      <td>0.2400</td>\n",
              "      <td>0</td>\n",
              "      <td>0.000002</td>\n",
              "      <td>1</td>\n",
              "      <td>0.175</td>\n",
              "      <td>-14.014</td>\n",
              "      <td>Major</td>\n",
              "      <td>01-01-1959</td>\n",
              "      <td>0.0351</td>\n",
              "      <td>134.009</td>\n",
              "      <td>0.70100</td>\n",
              "      <td>1959</td>\n",
              "      <td>2.0</td>\n",
              "      <td>4</td>\n",
              "      <td>1947-1960</td>\n",
              "      <td>1</td>\n",
              "      <td>0.2-2.3</td>\n",
              "    </tr>\n",
              "    <tr>\n",
              "      <th>12224</th>\n",
              "      <td>3351</td>\n",
              "      <td>0.3280</td>\n",
              "      <td>0.5510</td>\n",
              "      <td>0.5640</td>\n",
              "      <td>0</td>\n",
              "      <td>0.002950</td>\n",
              "      <td>2</td>\n",
              "      <td>0.352</td>\n",
              "      <td>-9.298</td>\n",
              "      <td>Minor</td>\n",
              "      <td>01-01-1984</td>\n",
              "      <td>0.0338</td>\n",
              "      <td>124.883</td>\n",
              "      <td>0.89000</td>\n",
              "      <td>1984</td>\n",
              "      <td>2.5</td>\n",
              "      <td>1</td>\n",
              "      <td>1979-1987</td>\n",
              "      <td>1</td>\n",
              "      <td>2.3-2.7</td>\n",
              "    </tr>\n",
              "    <tr>\n",
              "      <th>12225</th>\n",
              "      <td>8879</td>\n",
              "      <td>0.1220</td>\n",
              "      <td>0.0608</td>\n",
              "      <td>0.9390</td>\n",
              "      <td>0</td>\n",
              "      <td>0.991000</td>\n",
              "      <td>1</td>\n",
              "      <td>0.912</td>\n",
              "      <td>-26.324</td>\n",
              "      <td>Major</td>\n",
              "      <td>09-01-2017</td>\n",
              "      <td>0.1180</td>\n",
              "      <td>73.234</td>\n",
              "      <td>0.00558</td>\n",
              "      <td>2017</td>\n",
              "      <td>3.1</td>\n",
              "      <td>3</td>\n",
              "      <td>2012-2017</td>\n",
              "      <td>1</td>\n",
              "      <td>3.0-3.3</td>\n",
              "    </tr>\n",
              "    <tr>\n",
              "      <th>12226</th>\n",
              "      <td>9711</td>\n",
              "      <td>0.0380</td>\n",
              "      <td>0.3890</td>\n",
              "      <td>0.7680</td>\n",
              "      <td>1</td>\n",
              "      <td>0.000000</td>\n",
              "      <td>1</td>\n",
              "      <td>0.119</td>\n",
              "      <td>-4.765</td>\n",
              "      <td>Major</td>\n",
              "      <td>24-07-2020</td>\n",
              "      <td>0.2560</td>\n",
              "      <td>90.146</td>\n",
              "      <td>0.33400</td>\n",
              "      <td>2020</td>\n",
              "      <td>3.1</td>\n",
              "      <td>3</td>\n",
              "      <td>2017-2021</td>\n",
              "      <td>7</td>\n",
              "      <td>3.0-3.3</td>\n",
              "    </tr>\n",
              "  </tbody>\n",
              "</table>\n",
              "<p>12227 rows × 20 columns</p>\n",
              "</div>"
            ],
            "text/plain": [
              "          id  acousticness  ...  released_month  Duration_bucket\n",
              "0       2015        0.9490  ...               1          2.7-3.0\n",
              "1      15901        0.8550  ...              11          2.3-2.7\n",
              "2       9002        0.8270  ...               1          2.3-2.7\n",
              "3       6734        0.6540  ...               4          2.3-2.7\n",
              "4      15563        0.7380  ...               1          3.3-3.6\n",
              "...      ...           ...  ...             ...              ...\n",
              "12222  15343        0.0408  ...               7          3.3-3.6\n",
              "12223   1701        0.9120  ...               1          0.2-2.3\n",
              "12224   3351        0.3280  ...               1          2.3-2.7\n",
              "12225   8879        0.1220  ...               1          3.0-3.3\n",
              "12226   9711        0.0380  ...               7          3.0-3.3\n",
              "\n",
              "[12227 rows x 20 columns]"
            ]
          },
          "metadata": {
            "tags": []
          },
          "execution_count": 31
        }
      ]
    },
    {
      "cell_type": "code",
      "metadata": {
        "colab": {
          "base_uri": "https://localhost:8080/"
        },
        "id": "KSd7TJRQs79N",
        "outputId": "2569af9d-73dd-4680-ac13-1035ac68f15e"
      },
      "source": [
        "df_Processed = pd.concat([df ,pd.get_dummies(df['released_month'], prefix='released_month', drop_first=True) ],axis=1)\n",
        "df_Processed.drop(['released_month'],axis=1, inplace=True)\n",
        "\n",
        "df_Processed = pd.concat([df_Processed ,pd.get_dummies(df_Processed['key'], prefix='key', drop_first=True) ],axis=1)\n",
        "df_Processed.drop(['key'],axis=1, inplace=True)\n",
        "\n",
        "df_Processed = pd.concat([df_Processed ,pd.get_dummies(df_Processed['Year_bucket'], prefix='Year_bucket', drop_first=True) ],axis=1)\n",
        "df_Processed.drop(['Year_bucket'],axis=1, inplace=True)\n",
        "\n",
        "df_Processed = pd.concat([df_Processed ,pd.get_dummies(df_Processed['Duration_bucket'], prefix='Duration_bucket', drop_first=True) ],axis=1)\n",
        "df_Processed.drop(['Duration_bucket'],axis=1, inplace=True)\n",
        "\n",
        "df_Processed = pd.concat([df_Processed ,pd.get_dummies(df_Processed['explicit'], prefix='explicit', drop_first=True) ],axis=1)\n",
        "df_Processed.drop(['explicit'],axis=1, inplace=True)\n",
        "df_Processed.columns"
      ],
      "execution_count": null,
      "outputs": [
        {
          "output_type": "execute_result",
          "data": {
            "text/plain": [
              "Index(['id', 'acousticness', 'danceability', 'energy', 'instrumentalness',\n",
              "       'liveness', 'loudness', 'mode', 'release_date', 'speechiness', 'tempo',\n",
              "       'valence', 'year', 'duration-min', 'popularity', 'released_month_2',\n",
              "       'released_month_3', 'released_month_4', 'released_month_5',\n",
              "       'released_month_6', 'released_month_7', 'released_month_8',\n",
              "       'released_month_9', 'released_month_10', 'released_month_11',\n",
              "       'released_month_12', 'key_1', 'key_2', 'key_3', 'key_4', 'key_5',\n",
              "       'key_6', 'key_7', 'key_8', 'key_9', 'key_10', 'key_11',\n",
              "       'Year_bucket_1947-1960', 'Year_bucket_1960-1970',\n",
              "       'Year_bucket_1970-1979', 'Year_bucket_1979-1987',\n",
              "       'Year_bucket_1987-1995', 'Year_bucket_1995-2003',\n",
              "       'Year_bucket_2003-2012', 'Year_bucket_2012-2017',\n",
              "       'Year_bucket_2017-2021', 'Duration_bucket_2.3-2.7',\n",
              "       'Duration_bucket_2.7-3.0', 'Duration_bucket_3.0-3.3',\n",
              "       'Duration_bucket_3.3-3.6', 'Duration_bucket_3.6-3.8',\n",
              "       'Duration_bucket_3.8-4.2', 'Duration_bucket_4.2-4.7',\n",
              "       'Duration_bucket_4.7-5.6', 'Duration_bucket_5.6-72.8', 'explicit_1'],\n",
              "      dtype='object')"
            ]
          },
          "metadata": {
            "tags": []
          },
          "execution_count": 32
        }
      ]
    },
    {
      "cell_type": "code",
      "metadata": {
        "id": "00b4MAjyu3go"
      },
      "source": [
        ""
      ],
      "execution_count": null,
      "outputs": []
    },
    {
      "cell_type": "code",
      "metadata": {
        "colab": {
          "base_uri": "https://localhost:8080/"
        },
        "id": "46WfFkM6u9Mz",
        "outputId": "7a8c1bba-faf1-4038-c3c7-82cb47bd95c3"
      },
      "source": [
        "df_Processed = pd.concat([df_Processed ,pd.get_dummies(df_Processed['mode'], prefix='mode', drop_first=True) ],axis=1)\n",
        "df_Processed.drop(['mode'],axis=1, inplace=True)\n",
        "df_Processed.columns"
      ],
      "execution_count": null,
      "outputs": [
        {
          "output_type": "execute_result",
          "data": {
            "text/plain": [
              "Index(['id', 'acousticness', 'danceability', 'energy', 'instrumentalness',\n",
              "       'liveness', 'loudness', 'release_date', 'speechiness', 'tempo',\n",
              "       'valence', 'year', 'duration-min', 'popularity', 'released_month_2',\n",
              "       'released_month_3', 'released_month_4', 'released_month_5',\n",
              "       'released_month_6', 'released_month_7', 'released_month_8',\n",
              "       'released_month_9', 'released_month_10', 'released_month_11',\n",
              "       'released_month_12', 'key_1', 'key_2', 'key_3', 'key_4', 'key_5',\n",
              "       'key_6', 'key_7', 'key_8', 'key_9', 'key_10', 'key_11',\n",
              "       'Year_bucket_1947-1960', 'Year_bucket_1960-1970',\n",
              "       'Year_bucket_1970-1979', 'Year_bucket_1979-1987',\n",
              "       'Year_bucket_1987-1995', 'Year_bucket_1995-2003',\n",
              "       'Year_bucket_2003-2012', 'Year_bucket_2012-2017',\n",
              "       'Year_bucket_2017-2021', 'Duration_bucket_2.3-2.7',\n",
              "       'Duration_bucket_2.7-3.0', 'Duration_bucket_3.0-3.3',\n",
              "       'Duration_bucket_3.3-3.6', 'Duration_bucket_3.6-3.8',\n",
              "       'Duration_bucket_3.8-4.2', 'Duration_bucket_4.2-4.7',\n",
              "       'Duration_bucket_4.7-5.6', 'Duration_bucket_5.6-72.8', 'explicit_1',\n",
              "       'mode_Minor'],\n",
              "      dtype='object')"
            ]
          },
          "metadata": {
            "tags": []
          },
          "execution_count": 33
        }
      ]
    },
    {
      "cell_type": "code",
      "metadata": {
        "colab": {
          "base_uri": "https://localhost:8080/"
        },
        "id": "Gp8M3jFvIhZ9",
        "outputId": "2e0e06ef-6f7e-4b74-8ff6-0107144652e4"
      },
      "source": [
        "test_Processed = pd.concat([test ,pd.get_dummies(test['released_month'], prefix='released_month', drop_first=True) ],axis=1)\n",
        "test_Processed.drop(['released_month'],axis=1, inplace=True)\n",
        "\n",
        "test_Processed = pd.concat([test_Processed ,pd.get_dummies(test_Processed['key'], prefix='key', drop_first=True) ],axis=1)\n",
        "test_Processed.drop(['key'],axis=1, inplace=True)\n",
        "\n",
        "test_Processed = pd.concat([test_Processed ,pd.get_dummies(test_Processed['Year_bucket'], prefix='Year_bucket', drop_first=True) ],axis=1)\n",
        "test_Processed.drop(['Year_bucket'],axis=1, inplace=True)\n",
        "\n",
        "test_Processed = pd.concat([test_Processed ,pd.get_dummies(test_Processed['Duration_bucket'], prefix='Duration_bucket', drop_first=True) ],axis=1)\n",
        "test_Processed.drop(['Duration_bucket'],axis=1, inplace=True)\n",
        "\n",
        "test_Processed = pd.concat([test_Processed ,pd.get_dummies(test_Processed['explicit'], prefix='explicit', drop_first=True) ],axis=1)\n",
        "test_Processed.drop(['explicit'],axis=1, inplace=True)\n",
        "\n",
        "\n",
        "test_Processed = pd.concat([test_Processed ,pd.get_dummies(test_Processed['mode'], prefix='mode', drop_first=True) ],axis=1)\n",
        "test_Processed.drop(['mode'],axis=1, inplace=True)\n",
        "\n",
        "test_Processed=test_Processed.drop([\"id\",\"release_date\",\"year\",\"duration-min\"],axis=1)\n",
        "test_Processed.info()"
      ],
      "execution_count": null,
      "outputs": [
        {
          "output_type": "stream",
          "text": [
            "<class 'pandas.core.frame.DataFrame'>\n",
            "RangeIndex: 4000 entries, 0 to 3999\n",
            "Data columns (total 51 columns):\n",
            " #   Column                    Non-Null Count  Dtype  \n",
            "---  ------                    --------------  -----  \n",
            " 0   acousticness              4000 non-null   float64\n",
            " 1   danceability              4000 non-null   float64\n",
            " 2   energy                    4000 non-null   float64\n",
            " 3   instrumentalness          4000 non-null   float64\n",
            " 4   liveness                  4000 non-null   float64\n",
            " 5   loudness                  4000 non-null   float64\n",
            " 6   speechiness               4000 non-null   float64\n",
            " 7   tempo                     4000 non-null   float64\n",
            " 8   valence                   4000 non-null   float64\n",
            " 9   released_month_2          4000 non-null   uint8  \n",
            " 10  released_month_3          4000 non-null   uint8  \n",
            " 11  released_month_4          4000 non-null   uint8  \n",
            " 12  released_month_5          4000 non-null   uint8  \n",
            " 13  released_month_6          4000 non-null   uint8  \n",
            " 14  released_month_7          4000 non-null   uint8  \n",
            " 15  released_month_8          4000 non-null   uint8  \n",
            " 16  released_month_9          4000 non-null   uint8  \n",
            " 17  released_month_10         4000 non-null   uint8  \n",
            " 18  released_month_11         4000 non-null   uint8  \n",
            " 19  released_month_12         4000 non-null   uint8  \n",
            " 20  key_1                     4000 non-null   uint8  \n",
            " 21  key_2                     4000 non-null   uint8  \n",
            " 22  key_3                     4000 non-null   uint8  \n",
            " 23  key_4                     4000 non-null   uint8  \n",
            " 24  key_5                     4000 non-null   uint8  \n",
            " 25  key_6                     4000 non-null   uint8  \n",
            " 26  key_7                     4000 non-null   uint8  \n",
            " 27  key_8                     4000 non-null   uint8  \n",
            " 28  key_9                     4000 non-null   uint8  \n",
            " 29  key_10                    4000 non-null   uint8  \n",
            " 30  key_11                    4000 non-null   uint8  \n",
            " 31  Year_bucket_1947-1960     4000 non-null   uint8  \n",
            " 32  Year_bucket_1960-1970     4000 non-null   uint8  \n",
            " 33  Year_bucket_1970-1979     4000 non-null   uint8  \n",
            " 34  Year_bucket_1979-1987     4000 non-null   uint8  \n",
            " 35  Year_bucket_1987-1995     4000 non-null   uint8  \n",
            " 36  Year_bucket_1995-2003     4000 non-null   uint8  \n",
            " 37  Year_bucket_2003-2012     4000 non-null   uint8  \n",
            " 38  Year_bucket_2012-2017     4000 non-null   uint8  \n",
            " 39  Year_bucket_2017-2021     4000 non-null   uint8  \n",
            " 40  Duration_bucket_2.3-2.7   4000 non-null   uint8  \n",
            " 41  Duration_bucket_2.7-3.0   4000 non-null   uint8  \n",
            " 42  Duration_bucket_3.0-3.3   4000 non-null   uint8  \n",
            " 43  Duration_bucket_3.3-3.6   4000 non-null   uint8  \n",
            " 44  Duration_bucket_3.6-3.8   4000 non-null   uint8  \n",
            " 45  Duration_bucket_3.8-4.2   4000 non-null   uint8  \n",
            " 46  Duration_bucket_4.2-4.7   4000 non-null   uint8  \n",
            " 47  Duration_bucket_4.7-5.6   4000 non-null   uint8  \n",
            " 48  Duration_bucket_5.6-72.8  4000 non-null   uint8  \n",
            " 49  explicit_1                4000 non-null   uint8  \n",
            " 50  mode_Minor                4000 non-null   uint8  \n",
            "dtypes: float64(9), uint8(42)\n",
            "memory usage: 445.4 KB\n"
          ],
          "name": "stdout"
        }
      ]
    },
    {
      "cell_type": "code",
      "metadata": {
        "id": "_yIfXwCUKPvh"
      },
      "source": [
        "X_test=test_Processed\n"
      ],
      "execution_count": null,
      "outputs": []
    },
    {
      "cell_type": "code",
      "metadata": {
        "colab": {
          "base_uri": "https://localhost:8080/"
        },
        "id": "hwvNwb-qulFH",
        "outputId": "5cfe1fdf-ff88-4495-c693-570e4f377b16"
      },
      "source": [
        "df_Processed=df_Processed.drop([\"id\",\"release_date\",\"year\",\"duration-min\"],axis=1)\n",
        "df_Processed.info()"
      ],
      "execution_count": null,
      "outputs": [
        {
          "output_type": "stream",
          "text": [
            "<class 'pandas.core.frame.DataFrame'>\n",
            "RangeIndex: 12227 entries, 0 to 12226\n",
            "Data columns (total 52 columns):\n",
            " #   Column                    Non-Null Count  Dtype  \n",
            "---  ------                    --------------  -----  \n",
            " 0   acousticness              12227 non-null  float64\n",
            " 1   danceability              12227 non-null  float64\n",
            " 2   energy                    12227 non-null  float64\n",
            " 3   instrumentalness          12227 non-null  float64\n",
            " 4   liveness                  12227 non-null  float64\n",
            " 5   loudness                  12227 non-null  float64\n",
            " 6   speechiness               12227 non-null  float64\n",
            " 7   tempo                     12227 non-null  float64\n",
            " 8   valence                   12227 non-null  float64\n",
            " 9   popularity                12227 non-null  int64  \n",
            " 10  released_month_2          12227 non-null  uint8  \n",
            " 11  released_month_3          12227 non-null  uint8  \n",
            " 12  released_month_4          12227 non-null  uint8  \n",
            " 13  released_month_5          12227 non-null  uint8  \n",
            " 14  released_month_6          12227 non-null  uint8  \n",
            " 15  released_month_7          12227 non-null  uint8  \n",
            " 16  released_month_8          12227 non-null  uint8  \n",
            " 17  released_month_9          12227 non-null  uint8  \n",
            " 18  released_month_10         12227 non-null  uint8  \n",
            " 19  released_month_11         12227 non-null  uint8  \n",
            " 20  released_month_12         12227 non-null  uint8  \n",
            " 21  key_1                     12227 non-null  uint8  \n",
            " 22  key_2                     12227 non-null  uint8  \n",
            " 23  key_3                     12227 non-null  uint8  \n",
            " 24  key_4                     12227 non-null  uint8  \n",
            " 25  key_5                     12227 non-null  uint8  \n",
            " 26  key_6                     12227 non-null  uint8  \n",
            " 27  key_7                     12227 non-null  uint8  \n",
            " 28  key_8                     12227 non-null  uint8  \n",
            " 29  key_9                     12227 non-null  uint8  \n",
            " 30  key_10                    12227 non-null  uint8  \n",
            " 31  key_11                    12227 non-null  uint8  \n",
            " 32  Year_bucket_1947-1960     12227 non-null  uint8  \n",
            " 33  Year_bucket_1960-1970     12227 non-null  uint8  \n",
            " 34  Year_bucket_1970-1979     12227 non-null  uint8  \n",
            " 35  Year_bucket_1979-1987     12227 non-null  uint8  \n",
            " 36  Year_bucket_1987-1995     12227 non-null  uint8  \n",
            " 37  Year_bucket_1995-2003     12227 non-null  uint8  \n",
            " 38  Year_bucket_2003-2012     12227 non-null  uint8  \n",
            " 39  Year_bucket_2012-2017     12227 non-null  uint8  \n",
            " 40  Year_bucket_2017-2021     12227 non-null  uint8  \n",
            " 41  Duration_bucket_2.3-2.7   12227 non-null  uint8  \n",
            " 42  Duration_bucket_2.7-3.0   12227 non-null  uint8  \n",
            " 43  Duration_bucket_3.0-3.3   12227 non-null  uint8  \n",
            " 44  Duration_bucket_3.3-3.6   12227 non-null  uint8  \n",
            " 45  Duration_bucket_3.6-3.8   12227 non-null  uint8  \n",
            " 46  Duration_bucket_3.8-4.2   12227 non-null  uint8  \n",
            " 47  Duration_bucket_4.2-4.7   12227 non-null  uint8  \n",
            " 48  Duration_bucket_4.7-5.6   12227 non-null  uint8  \n",
            " 49  Duration_bucket_5.6-72.8  12227 non-null  uint8  \n",
            " 50  explicit_1                12227 non-null  uint8  \n",
            " 51  mode_Minor                12227 non-null  uint8  \n",
            "dtypes: float64(9), int64(1), uint8(42)\n",
            "memory usage: 1.4 MB\n"
          ],
          "name": "stdout"
        }
      ]
    },
    {
      "cell_type": "code",
      "metadata": {
        "colab": {
          "base_uri": "https://localhost:8080/"
        },
        "id": "TDZnUtWs_fmt",
        "outputId": "7cb3591c-aaad-403e-8238-a368968267df"
      },
      "source": [
        "import imblearn\n",
        "from imblearn.over_sampling import RandomOverSampler\n",
        "from sklearn.model_selection import train_test_split\n",
        "\n",
        "\n",
        "Y = df_Processed[\"popularity\"].values\n",
        "X = df_Processed.loc[:, df_Processed.columns != 'popularity'].values\n",
        "\n",
        "x_train, x_val, y_train, y_val = train_test_split(X, Y,test_size=.25,random_state=42)\n",
        "\n",
        "\n",
        "\n"
      ],
      "execution_count": null,
      "outputs": [
        {
          "output_type": "stream",
          "text": [
            "/usr/local/lib/python3.7/dist-packages/sklearn/externals/six.py:31: FutureWarning: The module is deprecated in version 0.21 and will be removed in version 0.23 since we've dropped support for Python 2.7. Please rely on the official version of six (https://pypi.org/project/six/).\n",
            "  \"(https://pypi.org/project/six/).\", FutureWarning)\n",
            "/usr/local/lib/python3.7/dist-packages/sklearn/utils/deprecation.py:144: FutureWarning: The sklearn.neighbors.base module is  deprecated in version 0.22 and will be removed in version 0.24. The corresponding classes / functions should instead be imported from sklearn.neighbors. Anything that cannot be imported from sklearn.neighbors is now part of the private API.\n",
            "  warnings.warn(message, FutureWarning)\n"
          ],
          "name": "stderr"
        }
      ]
    },
    {
      "cell_type": "code",
      "metadata": {
        "colab": {
          "base_uri": "https://localhost:8080/",
          "height": 311
        },
        "id": "1ppddI_xZ5sN",
        "outputId": "71e00358-82d4-4609-ae5e-29918b7deaa1"
      },
      "source": [
        "pd.DataFrame(y_train).value_counts().plot(kind='bar')"
      ],
      "execution_count": null,
      "outputs": [
        {
          "output_type": "execute_result",
          "data": {
            "text/plain": [
              "<matplotlib.axes._subplots.AxesSubplot at 0x7f9d7dfbad90>"
            ]
          },
          "metadata": {
            "tags": []
          },
          "execution_count": 38
        },
        {
          "output_type": "display_data",
          "data": {
            "image/png": "[encoded data removed]",
            "text/plain": [
              "<Figure size 432x288 with 1 Axes>"
            ]
          },
          "metadata": {
            "tags": []
          }
        }
      ]
    },
    {
      "cell_type": "code",
      "metadata": {
        "colab": {
          "base_uri": "https://localhost:8080/"
        },
        "id": "PRm7gVNXYm6y",
        "outputId": "e77a8bf7-49a3-4d93-fc1a-df41ee7cc79b"
      },
      "source": [
        "print(\"Before oversampling the minor label in the train set\")\n",
        "print(pd.DataFrame(y_train).value_counts())\n",
        "\n",
        "oversample = RandomOverSampler(sampling_strategy={4:500})\n",
        "\n",
        "x_train, y_train = oversample.fit_resample(x_train, y_train)\n",
        "\n",
        "print(\"After oversampling the minor label in the train set\")\n",
        "print(pd.DataFrame(y_train).value_counts())"
      ],
      "execution_count": null,
      "outputs": [
        {
          "output_type": "stream",
          "text": [
            "Before oversampling the minor label in the train set\n",
            "0    2428\n",
            "1    2348\n",
            "2    2189\n",
            "3    1928\n",
            "4     277\n",
            "dtype: int64\n",
            "After oversampling the minor label in the train set\n",
            "0    2428\n",
            "1    2348\n",
            "2    2189\n",
            "3    1928\n",
            "4     500\n",
            "dtype: int64\n"
          ],
          "name": "stdout"
        },
        {
          "output_type": "stream",
          "text": [
            "/usr/local/lib/python3.7/dist-packages/sklearn/utils/deprecation.py:87: FutureWarning: Function safe_indexing is deprecated; safe_indexing is deprecated in version 0.22 and will be removed in version 0.24.\n",
            "  warnings.warn(msg, category=FutureWarning)\n"
          ],
          "name": "stderr"
        }
      ]
    },
    {
      "cell_type": "markdown",
      "metadata": {
        "id": "aAf3NDJP_gnm"
      },
      "source": [
        "### Train Validation Split \n",
        " #### For training and cross validating model"
      ]
    },
    {
      "cell_type": "code",
      "metadata": {
        "id": "ce2zYLGoAKyB"
      },
      "source": [
        "from sklearn.preprocessing import OneHotEncoder\n",
        "from sklearn.metrics import roc_auc_score,f1_score,precision_score\n",
        "from sklearn.model_selection import train_test_split"
      ],
      "execution_count": null,
      "outputs": []
    },
    {
      "cell_type": "markdown",
      "metadata": {
        "id": "BmoV2em0CxMd"
      },
      "source": [
        "### Script for hyperparameter tuning\n",
        "\n",
        "1.   List item\n",
        "2.   List item\n",
        "\n"
      ]
    },
    {
      "cell_type": "code",
      "metadata": {
        "id": "jkfKNwBGC2Gb"
      },
      "source": [
        "import numpy as np\n",
        "import pandas as pd\n",
        "import matplotlib.pyplot as plt\n",
        "import seaborn as sns\n",
        "from sklearn.svm import SVC\n",
        "from sklearn.metrics import confusion_matrix, classification_report\n",
        "from sklearn.ensemble import RandomForestClassifier\n",
        "from sklearn.model_selection import GridSearchCV, StratifiedKFold\n",
        "from sklearn.tree import DecisionTreeClassifier\n",
        "from sklearn.linear_model import LogisticRegression\n",
        "from sklearn.neighbors import KNeighborsClassifier\n",
        "from sklearn.naive_bayes import GaussianNB\n",
        "#from yellowbrick.model_selection import feature_importances\n",
        "\n",
        "#===============================================================================================#\n",
        "\n",
        "# Classification Models Class\n",
        "\n",
        "#===============================================================================================#\n",
        "\n",
        "class Classification():\n",
        "    \n",
        "    \"\"\"\n",
        "    This class is for performing classifcation algorithms such as Logistic Regression, Decision Tree, Random Forest, and SVM.\n",
        "    \n",
        "    Parameters\n",
        "    ----------\n",
        "    model_type: 'Logistic Regression', 'Decision Tree', 'Random Forest', 'SVM'\n",
        "    the type of classifcation algorithm you would like to apply \n",
        "    \n",
        "    x_train: dataframe\n",
        "    the independant variables of the training data\n",
        "    \n",
        "    x_val: dataframe\n",
        "    the independant variables of the validation data\n",
        "    \n",
        "    y_train: series\n",
        "    the target variable of the training data\n",
        "    \n",
        "    y_val: series\n",
        "    the target variable of the validation data\n",
        "    \n",
        "    \"\"\"\n",
        "    \n",
        "    def __init__(self,model_type,x_train,x_val,y_train,y_val):\n",
        "\n",
        "        self.model_type = model_type\n",
        "        self.x_train = x_train\n",
        "        self.y_train = y_train\n",
        "        self.x_val = x_val\n",
        "        self.y_val = y_val\n",
        "        self.scores_table = pd.DataFrame()\n",
        "        self.feature_importances = pd.DataFrame()\n",
        "        self.name = self\n",
        "        \n",
        "        if self.model_type == 'Logistic Regression':\n",
        "            self.technique = LogisticRegression(fit_intercept=False)\n",
        "        elif self.model_type == 'Decision Tree':\n",
        "            self.technique = DecisionTreeClassifier(random_state=42)\n",
        "        elif self.model_type == 'Random Forest':\n",
        "            self.technique = RandomForestClassifier(n_jobs=-1,random_state=42)\n",
        "        elif self.model_type == 'SVM':\n",
        "            self.technique = SVC()\n",
        "        elif self.model_type == 'Naive Bayes':\n",
        "            self.technique = GaussianNB()\n",
        "        elif self.model_type == 'KNN':\n",
        "            self.technique = KNeighborsClassifier(n_jobs=-1)\n",
        "            \n",
        "#===============================================================================================#\n",
        "\n",
        "# Score Function\n",
        "\n",
        "#===============================================================================================#\n",
        "\n",
        "    def scores(self,model,x_train,x_val,y_train,y_val):\n",
        "        \n",
        "        \"\"\"\n",
        "        Gets the accuracy for the given data and creates a dataframe containing scores.\n",
        "        Parameters\n",
        "        ----------\n",
        "        model: 'Logistic Regression', 'Decision Tree', 'Random Forest', 'SVM'\n",
        "        the type of classifcation applied\n",
        "        x_train: dataframe\n",
        "        the independant variables of the training data\n",
        "        x_val: dataframe\n",
        "        the independant variables of the validation data\n",
        "        y_train: series\n",
        "        the target variable of the training data\n",
        "        y_val: series\n",
        "        the target variable of the validation data\n",
        "        \n",
        "        Returns\n",
        "        ----------\n",
        "        scores_table: a dataframe with the model used, the train accuracy and validation accuracy\n",
        "        \"\"\"\n",
        "        \n",
        "        self.acc_train = self.best_model.score(x_train,y_train)\n",
        "        self.acc_val = self.best_model.score(x_val,y_val)\n",
        "        \n",
        "        d = {'Model Name': [self.model_type],\n",
        "             'Train Accuracy': [self.acc_train], \n",
        "             'Validation Accuracy': [self.acc_val],\n",
        "             'Accuracy Difference':[self.acc_train-self.acc_val]}\n",
        "        self.scores_table = pd.DataFrame(data=d)\n",
        "        \n",
        "        return self.scores_table\n",
        "\n",
        "\n",
        "#===============================================================================================#\n",
        "\n",
        "# Get Scores Function\n",
        "\n",
        "#===============================================================================================#\n",
        "\n",
        "    def get_scores(self,params,cv_type):\n",
        "        \n",
        "        \"\"\"\n",
        "        Performs a gridsearch cross validation with given hyperparameters and data.\n",
        "        Gets the accuracy for the given data and creates a dataframe containing scores.\n",
        "        Parameters\n",
        "        ----------\n",
        "        param_grid: dictionary \n",
        "        specified hyperparameters for chosen classification algorithm to be passed through gridsearch cross validation\n",
        "        \n",
        "        cv_type: 'skf'\n",
        "        the type of cross validation split to be used for gridsearch\n",
        "        \"\"\"\n",
        "        \n",
        "        classifier = self.technique\n",
        "        fit_classifier = classifier.fit(self.x_train,self.y_train)\n",
        "        opt_model = GridSearchCV(fit_classifier,\n",
        "                                 params,\n",
        "                                 cv=cv_type,\n",
        "                                 scoring='accuracy',\n",
        "                                 return_train_score=True,\n",
        "                                 n_jobs=-1)\n",
        "        self.opt_model = opt_model.fit(self.x_train,self.y_train) \n",
        "        self.best_model = opt_model.best_estimator_\n",
        "        self.scores = Classification.scores(self,self.best_model,self.x_train,self.x_val,self.y_train,self.y_val)\n",
        "        self.best_params = opt_model.best_params_\n",
        "        display(self.scores_table)\n",
        "        if params == {}:\n",
        "            pass\n",
        "        else:\n",
        "            print(\"The best hyperparameters are: \", self.best_params,'\\n')\n",
        "        self.y_validated = self.best_model.predict(self.x_val)\n",
        "        self.classification_report = pd.DataFrame.from_dict(classification_report(self.y_val,self.y_validated,output_dict=True)).iloc[0:3,0:5]\n",
        "        return self.classification_report\n",
        "\n",
        "#===============================================================================================#\n",
        "\n",
        "# Feature Importance Function\n",
        "\n",
        "#===============================================================================================#\n",
        "   \n",
        "    def get_feature_importances(self):\n",
        "        \n",
        "        \"\"\"\n",
        "        Create a confusion matrix.\n",
        "        Returns\n",
        "        ----------\n",
        "        feature_importances_bar : a bar chart with feature importance of given model\n",
        "        \"\"\"\n",
        "        if (self.model_type == 'Decision Tree') or (self.model_type == 'Random Forest') or (self.model_type == 'SVM'):    \n",
        "            self.feature_importances_table = pd.DataFrame(self.best_model.feature_importances_,\n",
        "                                                    index = self.x_train.columns,\n",
        "                                                    columns=['Importance']).sort_values('Importance',ascending =False)\n",
        "            plt.figure(figsize=(9,7.5))\n",
        "            self.feature_importances_bar = sns.barplot(y= self.feature_importances_table.index[:15], x= self.feature_importances_table['Importance'][:15])\n",
        "            plt.show()\n",
        "            return self.feature_importances_bar\n",
        "        \n",
        "        else:\n",
        "            return print('This classification method does not have the attribute feature importance.')\n",
        "\n",
        "#===============================================================================================#\n",
        "\n",
        "# Confusion Matrix Function\n",
        "\n",
        "#===============================================================================================#\n",
        "\n",
        "    def conf_matrix(self):\n",
        "        \n",
        "        \"\"\"\n",
        "        Create a confusion matrix.\n",
        "        \n",
        "        Returns\n",
        "        ----------\n",
        "        scores_table: a confusion matrix\n",
        "        \"\"\"\n",
        "        \n",
        "        plt.figure(figsize=(9,9))\n",
        "        ax = sns.heatmap(confusion_matrix(self.y_val, self.y_validated),\n",
        "                         annot= True, \n",
        "                         fmt = '.4g', \n",
        "                         cbar=0,\n",
        "                         xticklabels=[1,2,3,4,5],\n",
        "                         yticklabels=[1,2,3,4,5])\n",
        "        ax.set(xlabel='Predicted', ylabel='True')\n",
        "        plt.show()\n",
        "\n",
        "\n",
        "\n",
        "#===============================================================================================#\n",
        "\n",
        "# Test Score Function\n",
        "\n",
        "#===============================================================================================#\n",
        "\n",
        "    def get_test_scores(self,X_test,y_test):\n",
        "        \n",
        "        \"\"\"\n",
        "        Gets a ROC AUC score for given data and creates a dataframe containing scores.\n",
        "        Creates a ROC plot.\n",
        "        \n",
        "        Parameters\n",
        "        ----------\n",
        "        x_test: dataframe \n",
        "        independant variables of the test data\n",
        "        \n",
        "        y_test: dataframe \n",
        "        target variable of the test data\n",
        "        \"\"\"\n",
        "            \n",
        "        self.y_test = y_test\n",
        "        self.x_test = X_test\n",
        "        self.scores_table = pd.DataFrame()\n",
        "        self.test_scores = Classification.scores(self,self.best_model,self.x_train,self.x_test,self.y_train,self.y_test)\n",
        "        display(self.scores_table)\n",
        "        self.y_tested = self.best_model.predict(self.x_test)\n",
        "        self.test_classification_report = pd.DataFrame.from_dict(classification_report(self.y_test,self.y_tested,output_dict=True)).iloc[0:3,0:5]\n",
        "        \n",
        "        return self.test_classification_report\n",
        "    \n",
        "#===============================================================================================#\n",
        "\n",
        "# Show Test Confusion Matrix Function\n",
        "\n",
        "#===============================================================================================#\n",
        "\n",
        "    def test_conf_matrix(self):\n",
        "        \n",
        "        \"\"\"\n",
        "        Create a confusion matrix for the test data.\n",
        "        \n",
        "        Returns\n",
        "        ----------\n",
        "        scores_table: a confusion matrix\n",
        "        \"\"\"\n",
        "        plt.figure(figsize=(9,9))\n",
        "        ax = sns.heatmap(confusion_matrix(self.y_test, self.y_tested),\n",
        "                         annot= True, \n",
        "                         fmt = '.4g', \n",
        "                         cbar=0,\n",
        "                         xticklabels=[1,2,3,4,5],\n",
        "                         yticklabels=[1,2,3,4,5])\n",
        "        ax.set(xlabel='Predicted', ylabel='True')\n",
        "        plt.show()"
      ],
      "execution_count": null,
      "outputs": []
    },
    {
      "cell_type": "code",
      "metadata": {
        "id": "_qlO9i3xC248"
      },
      "source": [
        "import pandas as pd\n",
        "from sklearn.ensemble import VotingClassifier, BaggingClassifier, AdaBoostClassifier, StackingClassifier\n",
        "from xgboost.sklearn import XGBClassifier\n",
        "\n",
        "#===============================================================================================#\n",
        "\n",
        "# Ensemble Models Class\n",
        "\n",
        "#===============================================================================================#\n",
        "\n",
        "class Ensemble(Classification):\n",
        "    \n",
        "    \"\"\"\n",
        "    This class is for performing ensemble algorithms such as voting, adaboost, xgboost, or stacking.\n",
        "    \n",
        "    Parameters\n",
        "    ----------\n",
        "    ensemble_method: 'Voting', 'AdaBoost', 'XGBoost', 'Stacking'\n",
        "    the type of ensemble algorithm you would like to apply\n",
        "    \n",
        "    estimators: list\n",
        "    the classifcation models to be used by the ensemble algorithm\n",
        "    \n",
        "    x_train: dataframe\n",
        "    the independant variables of the training data\n",
        "    \n",
        "    x_val: dataframe\n",
        "    the independant variables of the validation data\n",
        "    \n",
        "    y_train: series\n",
        "    the target variable of the training data\n",
        "    \n",
        "    y_val: series\n",
        "    the target variable of the validation data\n",
        "    \n",
        "    \"\"\"\n",
        "    \n",
        "    def __init__(self, ensemble_method, estimators, X_train, X_val, y_train, y_val):\n",
        "        \n",
        "        self.ensemble_method = ensemble_method\n",
        "        self.x_train = X_train\n",
        "        self.y_train = y_train\n",
        "        self.x_val = X_val\n",
        "        self.y_val = y_val\n",
        "        self.model_type = ensemble_method\n",
        "        self.scores_table = pd.DataFrame()\n",
        "        \n",
        "        if self.ensemble_method == \"Voting\":\n",
        "            self.technique = VotingClassifier(estimators=estimators, voting='soft', n_jobs=-1)\n",
        "        elif self.ensemble_method == \"AdaBoost\":\n",
        "            self.technique = AdaBoostClassifier(estimators, algorithm='SAMME')\n",
        "        elif self.ensemble_method == \"XGBoost\":\n",
        "            self.technique = XGBClassifier(n_jobs=-1)\n",
        "        elif self.ensemble_method == \"Stacking\":\n",
        "            self.technique = StackingClassifier(estimators)"
      ],
      "execution_count": null,
      "outputs": []
    },
    {
      "cell_type": "code",
      "metadata": {
        "id": "EwL92x1BDJN4"
      },
      "source": [
        "from sklearn.model_selection import  StratifiedKFold\n",
        "skf = StratifiedKFold(n_splits=5,random_state=42,shuffle=True)"
      ],
      "execution_count": null,
      "outputs": []
    },
    {
      "cell_type": "markdown",
      "metadata": {
        "id": "paUeXlVZFp7v"
      },
      "source": [
        "Decision Tree"
      ]
    },
    {
      "cell_type": "code",
      "metadata": {
        "colab": {
          "base_uri": "https://localhost:8080/",
          "height": 230
        },
        "id": "FifPgrVFFpo7",
        "outputId": "9b5ab527-0f6f-49fe-dd72-c1e0937acd32"
      },
      "source": [
        "params = {'min_samples_leaf':[3,5,10,15,30,50,100],\n",
        "          'max_depth':[3,4,5,6,7,8,9]}\n",
        "dec_tree_1 = Classification('Decision Tree',x_train,x_val,y_train,y_val)\n",
        "dec_tree_1.get_scores(params,skf)"
      ],
      "execution_count": null,
      "outputs": [
        {
          "output_type": "display_data",
          "data": {
            "text/html": [
              "<div>\n",
              "<style scoped>\n",
              "    .dataframe tbody tr th:only-of-type {\n",
              "        vertical-align: middle;\n",
              "    }\n",
              "\n",
              "    .dataframe tbody tr th {\n",
              "        vertical-align: top;\n",
              "    }\n",
              "\n",
              "    .dataframe thead th {\n",
              "        text-align: right;\n",
              "    }\n",
              "</style>\n",
              "<table border=\"1\" class=\"dataframe\">\n",
              "  <thead>\n",
              "    <tr style=\"text-align: right;\">\n",
              "      <th></th>\n",
              "      <th>Model Name</th>\n",
              "      <th>Train Accuracy</th>\n",
              "      <th>Validation Accuracy</th>\n",
              "      <th>Accuracy Difference</th>\n",
              "    </tr>\n",
              "  </thead>\n",
              "  <tbody>\n",
              "    <tr>\n",
              "      <th>0</th>\n",
              "      <td>Decision Tree</td>\n",
              "      <td>0.632705</td>\n",
              "      <td>0.586196</td>\n",
              "      <td>0.04651</td>\n",
              "    </tr>\n",
              "  </tbody>\n",
              "</table>\n",
              "</div>"
            ],
            "text/plain": [
              "      Model Name  Train Accuracy  Validation Accuracy  Accuracy Difference\n",
              "0  Decision Tree        0.632705             0.586196              0.04651"
            ]
          },
          "metadata": {
            "tags": []
          }
        },
        {
          "output_type": "stream",
          "text": [
            "The best hyperparameters are:  {'max_depth': 8, 'min_samples_leaf': 3} \n",
            "\n"
          ],
          "name": "stdout"
        },
        {
          "output_type": "execute_result",
          "data": {
            "text/html": [
              "<div>\n",
              "<style scoped>\n",
              "    .dataframe tbody tr th:only-of-type {\n",
              "        vertical-align: middle;\n",
              "    }\n",
              "\n",
              "    .dataframe tbody tr th {\n",
              "        vertical-align: top;\n",
              "    }\n",
              "\n",
              "    .dataframe thead th {\n",
              "        text-align: right;\n",
              "    }\n",
              "</style>\n",
              "<table border=\"1\" class=\"dataframe\">\n",
              "  <thead>\n",
              "    <tr style=\"text-align: right;\">\n",
              "      <th></th>\n",
              "      <th>0</th>\n",
              "      <th>1</th>\n",
              "      <th>2</th>\n",
              "      <th>3</th>\n",
              "      <th>4</th>\n",
              "    </tr>\n",
              "  </thead>\n",
              "  <tbody>\n",
              "    <tr>\n",
              "      <th>precision</th>\n",
              "      <td>0.753769</td>\n",
              "      <td>0.537623</td>\n",
              "      <td>0.494978</td>\n",
              "      <td>0.591241</td>\n",
              "      <td>0.303030</td>\n",
              "    </tr>\n",
              "    <tr>\n",
              "      <th>recall</th>\n",
              "      <td>0.755668</td>\n",
              "      <td>0.640260</td>\n",
              "      <td>0.477178</td>\n",
              "      <td>0.477876</td>\n",
              "      <td>0.326087</td>\n",
              "    </tr>\n",
              "    <tr>\n",
              "      <th>f1-score</th>\n",
              "      <td>0.754717</td>\n",
              "      <td>0.584469</td>\n",
              "      <td>0.485915</td>\n",
              "      <td>0.528548</td>\n",
              "      <td>0.314136</td>\n",
              "    </tr>\n",
              "  </tbody>\n",
              "</table>\n",
              "</div>"
            ],
            "text/plain": [
              "                  0         1         2         3         4\n",
              "precision  0.753769  0.537623  0.494978  0.591241  0.303030\n",
              "recall     0.755668  0.640260  0.477178  0.477876  0.326087\n",
              "f1-score   0.754717  0.584469  0.485915  0.528548  0.314136"
            ]
          },
          "metadata": {
            "tags": []
          },
          "execution_count": 44
        }
      ]
    },
    {
      "cell_type": "code",
      "metadata": {
        "colab": {
          "base_uri": "https://localhost:8080/",
          "height": 230
        },
        "id": "NKxGTFTWFnT0",
        "outputId": "79956cba-aed6-4447-d6d7-e4393baf2eaf"
      },
      "source": [
        "params = {'min_samples_leaf':[3,4,5],\n",
        "          'max_depth':[7,8,9,10]}\n",
        "dec_tree_2 = Classification('Decision Tree',x_train,x_val,y_train,y_val)\n",
        "dec_tree_2.get_scores(params,skf)"
      ],
      "execution_count": null,
      "outputs": [
        {
          "output_type": "display_data",
          "data": {
            "text/html": [
              "<div>\n",
              "<style scoped>\n",
              "    .dataframe tbody tr th:only-of-type {\n",
              "        vertical-align: middle;\n",
              "    }\n",
              "\n",
              "    .dataframe tbody tr th {\n",
              "        vertical-align: top;\n",
              "    }\n",
              "\n",
              "    .dataframe thead th {\n",
              "        text-align: right;\n",
              "    }\n",
              "</style>\n",
              "<table border=\"1\" class=\"dataframe\">\n",
              "  <thead>\n",
              "    <tr style=\"text-align: right;\">\n",
              "      <th></th>\n",
              "      <th>Model Name</th>\n",
              "      <th>Train Accuracy</th>\n",
              "      <th>Validation Accuracy</th>\n",
              "      <th>Accuracy Difference</th>\n",
              "    </tr>\n",
              "  </thead>\n",
              "  <tbody>\n",
              "    <tr>\n",
              "      <th>0</th>\n",
              "      <td>Decision Tree</td>\n",
              "      <td>0.632705</td>\n",
              "      <td>0.586196</td>\n",
              "      <td>0.04651</td>\n",
              "    </tr>\n",
              "  </tbody>\n",
              "</table>\n",
              "</div>"
            ],
            "text/plain": [
              "      Model Name  Train Accuracy  Validation Accuracy  Accuracy Difference\n",
              "0  Decision Tree        0.632705             0.586196              0.04651"
            ]
          },
          "metadata": {
            "tags": []
          }
        },
        {
          "output_type": "stream",
          "text": [
            "The best hyperparameters are:  {'max_depth': 8, 'min_samples_leaf': 3} \n",
            "\n"
          ],
          "name": "stdout"
        },
        {
          "output_type": "execute_result",
          "data": {
            "text/html": [
              "<div>\n",
              "<style scoped>\n",
              "    .dataframe tbody tr th:only-of-type {\n",
              "        vertical-align: middle;\n",
              "    }\n",
              "\n",
              "    .dataframe tbody tr th {\n",
              "        vertical-align: top;\n",
              "    }\n",
              "\n",
              "    .dataframe thead th {\n",
              "        text-align: right;\n",
              "    }\n",
              "</style>\n",
              "<table border=\"1\" class=\"dataframe\">\n",
              "  <thead>\n",
              "    <tr style=\"text-align: right;\">\n",
              "      <th></th>\n",
              "      <th>0</th>\n",
              "      <th>1</th>\n",
              "      <th>2</th>\n",
              "      <th>3</th>\n",
              "      <th>4</th>\n",
              "    </tr>\n",
              "  </thead>\n",
              "  <tbody>\n",
              "    <tr>\n",
              "      <th>precision</th>\n",
              "      <td>0.753769</td>\n",
              "      <td>0.537623</td>\n",
              "      <td>0.494978</td>\n",
              "      <td>0.591241</td>\n",
              "      <td>0.303030</td>\n",
              "    </tr>\n",
              "    <tr>\n",
              "      <th>recall</th>\n",
              "      <td>0.755668</td>\n",
              "      <td>0.640260</td>\n",
              "      <td>0.477178</td>\n",
              "      <td>0.477876</td>\n",
              "      <td>0.326087</td>\n",
              "    </tr>\n",
              "    <tr>\n",
              "      <th>f1-score</th>\n",
              "      <td>0.754717</td>\n",
              "      <td>0.584469</td>\n",
              "      <td>0.485915</td>\n",
              "      <td>0.528548</td>\n",
              "      <td>0.314136</td>\n",
              "    </tr>\n",
              "  </tbody>\n",
              "</table>\n",
              "</div>"
            ],
            "text/plain": [
              "                  0         1         2         3         4\n",
              "precision  0.753769  0.537623  0.494978  0.591241  0.303030\n",
              "recall     0.755668  0.640260  0.477178  0.477876  0.326087\n",
              "f1-score   0.754717  0.584469  0.485915  0.528548  0.314136"
            ]
          },
          "metadata": {
            "tags": []
          },
          "execution_count": 45
        }
      ]
    },
    {
      "cell_type": "markdown",
      "metadata": {
        "id": "h_yiNsmVIZKq"
      },
      "source": [
        "Random Forest"
      ]
    },
    {
      "cell_type": "code",
      "metadata": {
        "colab": {
          "base_uri": "https://localhost:8080/"
        },
        "id": "HZFb9MlETTPz",
        "outputId": "f1860277-88df-4444-d5b6-07eda620b81b"
      },
      "source": [
        ""
      ],
      "execution_count": null,
      "outputs": [
        {
          "output_type": "execute_result",
          "data": {
            "text/plain": [
              "array([[1.10e-01, 7.81e-01, 5.22e-01, ..., 0.00e+00, 0.00e+00, 1.00e+00],\n",
              "       [9.58e-02, 6.53e-01, 3.40e-01, ..., 0.00e+00, 1.00e+00, 0.00e+00],\n",
              "       [5.40e-04, 6.48e-01, 7.40e-01, ..., 0.00e+00, 0.00e+00, 1.00e+00],\n",
              "       ...,\n",
              "       [9.95e-01, 3.52e-01, 2.17e-02, ..., 0.00e+00, 0.00e+00, 0.00e+00],\n",
              "       [2.55e-01, 3.69e-01, 5.58e-01, ..., 1.00e+00, 0.00e+00, 1.00e+00],\n",
              "       [2.89e-03, 6.44e-01, 5.48e-01, ..., 0.00e+00, 1.00e+00, 1.00e+00]])"
            ]
          },
          "metadata": {
            "tags": []
          },
          "execution_count": 143
        }
      ]
    },
    {
      "cell_type": "code",
      "metadata": {
        "id": "dTgp4YQzFjNR",
        "colab": {
          "base_uri": "https://localhost:8080/",
          "height": 230
        },
        "outputId": "e1765c07-549c-4d2c-a82c-a9004a7e71eb"
      },
      "source": [
        "params = {'min_samples_leaf':[7], 'n_estimators':[50],\n",
        "          'max_depth':[17]}\n",
        "ran_for_1 = Classification('Random Forest',x_train,x_val,y_train,y_val)\n",
        "ran_for_1.get_scores(params,skf)"
      ],
      "execution_count": null,
      "outputs": [
        {
          "output_type": "display_data",
          "data": {
            "text/html": [
              "<div>\n",
              "<style scoped>\n",
              "    .dataframe tbody tr th:only-of-type {\n",
              "        vertical-align: middle;\n",
              "    }\n",
              "\n",
              "    .dataframe tbody tr th {\n",
              "        vertical-align: top;\n",
              "    }\n",
              "\n",
              "    .dataframe thead th {\n",
              "        text-align: right;\n",
              "    }\n",
              "</style>\n",
              "<table border=\"1\" class=\"dataframe\">\n",
              "  <thead>\n",
              "    <tr style=\"text-align: right;\">\n",
              "      <th></th>\n",
              "      <th>Model Name</th>\n",
              "      <th>Train Accuracy</th>\n",
              "      <th>Validation Accuracy</th>\n",
              "      <th>Accuracy Difference</th>\n",
              "    </tr>\n",
              "  </thead>\n",
              "  <tbody>\n",
              "    <tr>\n",
              "      <th>0</th>\n",
              "      <td>Random Forest</td>\n",
              "      <td>0.724156</td>\n",
              "      <td>0.607458</td>\n",
              "      <td>0.116698</td>\n",
              "    </tr>\n",
              "  </tbody>\n",
              "</table>\n",
              "</div>"
            ],
            "text/plain": [
              "      Model Name  Train Accuracy  Validation Accuracy  Accuracy Difference\n",
              "0  Random Forest        0.724156             0.607458             0.116698"
            ]
          },
          "metadata": {
            "tags": []
          }
        },
        {
          "output_type": "stream",
          "text": [
            "The best hyperparameters are:  {'max_depth': 17, 'min_samples_leaf': 7, 'n_estimators': 50} \n",
            "\n"
          ],
          "name": "stdout"
        },
        {
          "output_type": "execute_result",
          "data": {
            "text/html": [
              "<div>\n",
              "<style scoped>\n",
              "    .dataframe tbody tr th:only-of-type {\n",
              "        vertical-align: middle;\n",
              "    }\n",
              "\n",
              "    .dataframe tbody tr th {\n",
              "        vertical-align: top;\n",
              "    }\n",
              "\n",
              "    .dataframe thead th {\n",
              "        text-align: right;\n",
              "    }\n",
              "</style>\n",
              "<table border=\"1\" class=\"dataframe\">\n",
              "  <thead>\n",
              "    <tr style=\"text-align: right;\">\n",
              "      <th></th>\n",
              "      <th>0</th>\n",
              "      <th>1</th>\n",
              "      <th>2</th>\n",
              "      <th>3</th>\n",
              "      <th>4</th>\n",
              "    </tr>\n",
              "  </thead>\n",
              "  <tbody>\n",
              "    <tr>\n",
              "      <th>precision</th>\n",
              "      <td>0.773171</td>\n",
              "      <td>0.545641</td>\n",
              "      <td>0.499182</td>\n",
              "      <td>0.607973</td>\n",
              "      <td>0.408163</td>\n",
              "    </tr>\n",
              "    <tr>\n",
              "      <th>recall</th>\n",
              "      <td>0.798489</td>\n",
              "      <td>0.690909</td>\n",
              "      <td>0.421853</td>\n",
              "      <td>0.539823</td>\n",
              "      <td>0.217391</td>\n",
              "    </tr>\n",
              "    <tr>\n",
              "      <th>f1-score</th>\n",
              "      <td>0.785626</td>\n",
              "      <td>0.609742</td>\n",
              "      <td>0.457271</td>\n",
              "      <td>0.571875</td>\n",
              "      <td>0.283688</td>\n",
              "    </tr>\n",
              "  </tbody>\n",
              "</table>\n",
              "</div>"
            ],
            "text/plain": [
              "                  0         1         2         3         4\n",
              "precision  0.773171  0.545641  0.499182  0.607973  0.408163\n",
              "recall     0.798489  0.690909  0.421853  0.539823  0.217391\n",
              "f1-score   0.785626  0.609742  0.457271  0.571875  0.283688"
            ]
          },
          "metadata": {
            "tags": []
          },
          "execution_count": 142
        }
      ]
    },
    {
      "cell_type": "code",
      "metadata": {
        "colab": {
          "background_save": true
        },
        "id": "bEw0pRufInae",
        "outputId": "40f8bd4e-1ffb-4781-add3-09aaafa01ddd"
      },
      "source": [
        "params = {'min_samples_leaf':[7,8,9,10,11,12,13,14],'n_estimators':[10,50,100],\n",
        "          'max_depth':[13,14,15,16,17,18]}\n",
        "ran_for_2 = Classification('Random Forest',x_train,x_val,y_train,y_val)\n",
        "ran_for_2.get_scores(params,skf)"
      ],
      "execution_count": null,
      "outputs": [
        {
          "output_type": "display_data",
          "data": {
            "text/html": [
              "<div>\n",
              "<style scoped>\n",
              "    .dataframe tbody tr th:only-of-type {\n",
              "        vertical-align: middle;\n",
              "    }\n",
              "\n",
              "    .dataframe tbody tr th {\n",
              "        vertical-align: top;\n",
              "    }\n",
              "\n",
              "    .dataframe thead th {\n",
              "        text-align: right;\n",
              "    }\n",
              "</style>\n",
              "<table border=\"1\" class=\"dataframe\">\n",
              "  <thead>\n",
              "    <tr style=\"text-align: right;\">\n",
              "      <th></th>\n",
              "      <th>Model Name</th>\n",
              "      <th>Train Accuracy</th>\n",
              "      <th>Validation Accuracy</th>\n",
              "      <th>Accuracy Difference</th>\n",
              "    </tr>\n",
              "  </thead>\n",
              "  <tbody>\n",
              "    <tr>\n",
              "      <th>0</th>\n",
              "      <td>Random Forest</td>\n",
              "      <td>0.713617</td>\n",
              "      <td>0.610729</td>\n",
              "      <td>0.102887</td>\n",
              "    </tr>\n",
              "  </tbody>\n",
              "</table>\n",
              "</div>"
            ],
            "text/plain": [
              "      Model Name  Train Accuracy  Validation Accuracy  Accuracy Difference\n",
              "0  Random Forest        0.713617             0.610729             0.102887"
            ]
          },
          "metadata": {
            "tags": []
          }
        },
        {
          "output_type": "stream",
          "text": [
            "The best hyperparameters are:  {'max_depth': 18, 'min_samples_leaf': 9, 'n_estimators': 100} \n",
            "\n"
          ],
          "name": "stdout"
        },
        {
          "output_type": "execute_result",
          "data": {
            "text/html": [
              "<div>\n",
              "<style scoped>\n",
              "    .dataframe tbody tr th:only-of-type {\n",
              "        vertical-align: middle;\n",
              "    }\n",
              "\n",
              "    .dataframe tbody tr th {\n",
              "        vertical-align: top;\n",
              "    }\n",
              "\n",
              "    .dataframe thead th {\n",
              "        text-align: right;\n",
              "    }\n",
              "</style>\n",
              "<table border=\"1\" class=\"dataframe\">\n",
              "  <thead>\n",
              "    <tr style=\"text-align: right;\">\n",
              "      <th></th>\n",
              "      <th>0</th>\n",
              "      <th>1</th>\n",
              "      <th>2</th>\n",
              "      <th>3</th>\n",
              "      <th>4</th>\n",
              "    </tr>\n",
              "  </thead>\n",
              "  <tbody>\n",
              "    <tr>\n",
              "      <th>precision</th>\n",
              "      <td>0.774786</td>\n",
              "      <td>0.548420</td>\n",
              "      <td>0.504839</td>\n",
              "      <td>0.613176</td>\n",
              "      <td>0.425532</td>\n",
              "    </tr>\n",
              "    <tr>\n",
              "      <th>recall</th>\n",
              "      <td>0.797229</td>\n",
              "      <td>0.698701</td>\n",
              "      <td>0.432918</td>\n",
              "      <td>0.535398</td>\n",
              "      <td>0.217391</td>\n",
              "    </tr>\n",
              "    <tr>\n",
              "      <th>f1-score</th>\n",
              "      <td>0.785847</td>\n",
              "      <td>0.614506</td>\n",
              "      <td>0.466121</td>\n",
              "      <td>0.571654</td>\n",
              "      <td>0.287770</td>\n",
              "    </tr>\n",
              "  </tbody>\n",
              "</table>\n",
              "</div>"
            ],
            "text/plain": [
              "                  0         1         2         3         4\n",
              "precision  0.774786  0.548420  0.504839  0.613176  0.425532\n",
              "recall     0.797229  0.698701  0.432918  0.535398  0.217391\n",
              "f1-score   0.785847  0.614506  0.466121  0.571654  0.287770"
            ]
          },
          "metadata": {
            "tags": []
          },
          "execution_count": 0
        }
      ]
    },
    {
      "cell_type": "markdown",
      "metadata": {
        "id": "sfnc96jbI4sO"
      },
      "source": [
        "Logistic Regression"
      ]
    },
    {
      "cell_type": "code",
      "metadata": {
        "colab": {
          "background_save": true
        },
        "id": "dNUfJUC0IzN0",
        "outputId": "0556488b-b6b7-4648-9653-46bc6018af5a"
      },
      "source": [
        "params = {'penalty':['l1','l2'],\n",
        "          'C':[0.01,0.05,0.1,0.5,1,5,10]}\n",
        "log_reg_1 = Classification('Logistic Regression',x_train,x_val,y_train,y_val)\n",
        "log_reg_1.get_scores(params,skf)"
      ],
      "execution_count": null,
      "outputs": [
        {
          "output_type": "stream",
          "text": [
            "/usr/local/lib/python3.7/dist-packages/sklearn/linear_model/_logistic.py:940: ConvergenceWarning: lbfgs failed to converge (status=1):\n",
            "STOP: TOTAL NO. of ITERATIONS REACHED LIMIT.\n",
            "\n",
            "Increase the number of iterations (max_iter) or scale the data as shown in:\n",
            "    https://scikit-learn.org/stable/modules/preprocessing.html\n",
            "Please also refer to the documentation for alternative solver options:\n",
            "    https://scikit-learn.org/stable/modules/linear_model.html#logistic-regression\n",
            "  extra_warning_msg=_LOGISTIC_SOLVER_CONVERGENCE_MSG)\n",
            "/usr/local/lib/python3.7/dist-packages/sklearn/linear_model/_logistic.py:940: ConvergenceWarning: lbfgs failed to converge (status=1):\n",
            "STOP: TOTAL NO. of ITERATIONS REACHED LIMIT.\n",
            "\n",
            "Increase the number of iterations (max_iter) or scale the data as shown in:\n",
            "    https://scikit-learn.org/stable/modules/preprocessing.html\n",
            "Please also refer to the documentation for alternative solver options:\n",
            "    https://scikit-learn.org/stable/modules/linear_model.html#logistic-regression\n",
            "  extra_warning_msg=_LOGISTIC_SOLVER_CONVERGENCE_MSG)\n"
          ],
          "name": "stderr"
        },
        {
          "output_type": "display_data",
          "data": {
            "text/html": [
              "<div>\n",
              "<style scoped>\n",
              "    .dataframe tbody tr th:only-of-type {\n",
              "        vertical-align: middle;\n",
              "    }\n",
              "\n",
              "    .dataframe tbody tr th {\n",
              "        vertical-align: top;\n",
              "    }\n",
              "\n",
              "    .dataframe thead th {\n",
              "        text-align: right;\n",
              "    }\n",
              "</style>\n",
              "<table border=\"1\" class=\"dataframe\">\n",
              "  <thead>\n",
              "    <tr style=\"text-align: right;\">\n",
              "      <th></th>\n",
              "      <th>Model Name</th>\n",
              "      <th>Train Accuracy</th>\n",
              "      <th>Validation Accuracy</th>\n",
              "      <th>Accuracy Difference</th>\n",
              "    </tr>\n",
              "  </thead>\n",
              "  <tbody>\n",
              "    <tr>\n",
              "      <th>0</th>\n",
              "      <td>Logistic Regression</td>\n",
              "      <td>0.577025</td>\n",
              "      <td>0.58227</td>\n",
              "      <td>-0.005245</td>\n",
              "    </tr>\n",
              "  </tbody>\n",
              "</table>\n",
              "</div>"
            ],
            "text/plain": [
              "            Model Name  ...  Accuracy Difference\n",
              "0  Logistic Regression  ...            -0.005245\n",
              "\n",
              "[1 rows x 4 columns]"
            ]
          },
          "metadata": {
            "tags": []
          }
        },
        {
          "output_type": "stream",
          "text": [
            "The best hyperparameters are:  {'C': 0.5, 'penalty': 'l2'} \n",
            "\n"
          ],
          "name": "stdout"
        },
        {
          "output_type": "execute_result",
          "data": {
            "text/html": [
              "<div>\n",
              "<style scoped>\n",
              "    .dataframe tbody tr th:only-of-type {\n",
              "        vertical-align: middle;\n",
              "    }\n",
              "\n",
              "    .dataframe tbody tr th {\n",
              "        vertical-align: top;\n",
              "    }\n",
              "\n",
              "    .dataframe thead th {\n",
              "        text-align: right;\n",
              "    }\n",
              "</style>\n",
              "<table border=\"1\" class=\"dataframe\">\n",
              "  <thead>\n",
              "    <tr style=\"text-align: right;\">\n",
              "      <th></th>\n",
              "      <th>0</th>\n",
              "      <th>1</th>\n",
              "      <th>2</th>\n",
              "      <th>3</th>\n",
              "      <th>4</th>\n",
              "    </tr>\n",
              "  </thead>\n",
              "  <tbody>\n",
              "    <tr>\n",
              "      <th>precision</th>\n",
              "      <td>0.730722</td>\n",
              "      <td>0.554939</td>\n",
              "      <td>0.483405</td>\n",
              "      <td>0.538462</td>\n",
              "      <td>0.555556</td>\n",
              "    </tr>\n",
              "    <tr>\n",
              "      <th>recall</th>\n",
              "      <td>0.751889</td>\n",
              "      <td>0.649351</td>\n",
              "      <td>0.463347</td>\n",
              "      <td>0.505900</td>\n",
              "      <td>0.054348</td>\n",
              "    </tr>\n",
              "    <tr>\n",
              "      <th>f1-score</th>\n",
              "      <td>0.741155</td>\n",
              "      <td>0.598444</td>\n",
              "      <td>0.473164</td>\n",
              "      <td>0.521673</td>\n",
              "      <td>0.099010</td>\n",
              "    </tr>\n",
              "  </tbody>\n",
              "</table>\n",
              "</div>"
            ],
            "text/plain": [
              "                  0         1         2         3         4\n",
              "precision  0.730722  0.554939  0.483405  0.538462  0.555556\n",
              "recall     0.751889  0.649351  0.463347  0.505900  0.054348\n",
              "f1-score   0.741155  0.598444  0.473164  0.521673  0.099010"
            ]
          },
          "metadata": {
            "tags": []
          },
          "execution_count": 0
        }
      ]
    },
    {
      "cell_type": "code",
      "metadata": {
        "colab": {
          "background_save": true
        },
        "id": "8VU7Nu-MJBF1",
        "outputId": "2493ee38-d704-4308-e79b-3bea06852715"
      },
      "source": [
        "params = {'penalty':['l1','l2'],\n",
        "          'C':[0.3,0.4,0.5,0.6,0,7]}\n",
        "log_reg_2 = Classification('Logistic Regression',x_train,x_val,y_train,y_val)\n",
        "log_reg_2.get_scores(params,skf)"
      ],
      "execution_count": null,
      "outputs": [
        {
          "output_type": "stream",
          "text": [
            "/usr/local/lib/python3.7/dist-packages/sklearn/linear_model/_logistic.py:940: ConvergenceWarning: lbfgs failed to converge (status=1):\n",
            "STOP: TOTAL NO. of ITERATIONS REACHED LIMIT.\n",
            "\n",
            "Increase the number of iterations (max_iter) or scale the data as shown in:\n",
            "    https://scikit-learn.org/stable/modules/preprocessing.html\n",
            "Please also refer to the documentation for alternative solver options:\n",
            "    https://scikit-learn.org/stable/modules/linear_model.html#logistic-regression\n",
            "  extra_warning_msg=_LOGISTIC_SOLVER_CONVERGENCE_MSG)\n",
            "/usr/local/lib/python3.7/dist-packages/sklearn/linear_model/_logistic.py:940: ConvergenceWarning: lbfgs failed to converge (status=1):\n",
            "STOP: TOTAL NO. of ITERATIONS REACHED LIMIT.\n",
            "\n",
            "Increase the number of iterations (max_iter) or scale the data as shown in:\n",
            "    https://scikit-learn.org/stable/modules/preprocessing.html\n",
            "Please also refer to the documentation for alternative solver options:\n",
            "    https://scikit-learn.org/stable/modules/linear_model.html#logistic-regression\n",
            "  extra_warning_msg=_LOGISTIC_SOLVER_CONVERGENCE_MSG)\n"
          ],
          "name": "stderr"
        },
        {
          "output_type": "display_data",
          "data": {
            "text/html": [
              "<div>\n",
              "<style scoped>\n",
              "    .dataframe tbody tr th:only-of-type {\n",
              "        vertical-align: middle;\n",
              "    }\n",
              "\n",
              "    .dataframe tbody tr th {\n",
              "        vertical-align: top;\n",
              "    }\n",
              "\n",
              "    .dataframe thead th {\n",
              "        text-align: right;\n",
              "    }\n",
              "</style>\n",
              "<table border=\"1\" class=\"dataframe\">\n",
              "  <thead>\n",
              "    <tr style=\"text-align: right;\">\n",
              "      <th></th>\n",
              "      <th>Model Name</th>\n",
              "      <th>Train Accuracy</th>\n",
              "      <th>Validation Accuracy</th>\n",
              "      <th>Accuracy Difference</th>\n",
              "    </tr>\n",
              "  </thead>\n",
              "  <tbody>\n",
              "    <tr>\n",
              "      <th>0</th>\n",
              "      <td>Logistic Regression</td>\n",
              "      <td>0.577345</td>\n",
              "      <td>0.58227</td>\n",
              "      <td>-0.004925</td>\n",
              "    </tr>\n",
              "  </tbody>\n",
              "</table>\n",
              "</div>"
            ],
            "text/plain": [
              "            Model Name  ...  Accuracy Difference\n",
              "0  Logistic Regression  ...            -0.004925\n",
              "\n",
              "[1 rows x 4 columns]"
            ]
          },
          "metadata": {
            "tags": []
          }
        },
        {
          "output_type": "stream",
          "text": [
            "The best hyperparameters are:  {'C': 0.3, 'penalty': 'l2'} \n",
            "\n"
          ],
          "name": "stdout"
        },
        {
          "output_type": "execute_result",
          "data": {
            "text/html": [
              "<div>\n",
              "<style scoped>\n",
              "    .dataframe tbody tr th:only-of-type {\n",
              "        vertical-align: middle;\n",
              "    }\n",
              "\n",
              "    .dataframe tbody tr th {\n",
              "        vertical-align: top;\n",
              "    }\n",
              "\n",
              "    .dataframe thead th {\n",
              "        text-align: right;\n",
              "    }\n",
              "</style>\n",
              "<table border=\"1\" class=\"dataframe\">\n",
              "  <thead>\n",
              "    <tr style=\"text-align: right;\">\n",
              "      <th></th>\n",
              "      <th>0</th>\n",
              "      <th>1</th>\n",
              "      <th>2</th>\n",
              "      <th>3</th>\n",
              "      <th>4</th>\n",
              "    </tr>\n",
              "  </thead>\n",
              "  <tbody>\n",
              "    <tr>\n",
              "      <th>precision</th>\n",
              "      <td>0.730627</td>\n",
              "      <td>0.555310</td>\n",
              "      <td>0.484892</td>\n",
              "      <td>0.537736</td>\n",
              "      <td>0.555556</td>\n",
              "    </tr>\n",
              "    <tr>\n",
              "      <th>recall</th>\n",
              "      <td>0.748111</td>\n",
              "      <td>0.651948</td>\n",
              "      <td>0.466113</td>\n",
              "      <td>0.504425</td>\n",
              "      <td>0.054348</td>\n",
              "    </tr>\n",
              "    <tr>\n",
              "      <th>f1-score</th>\n",
              "      <td>0.739266</td>\n",
              "      <td>0.599761</td>\n",
              "      <td>0.475317</td>\n",
              "      <td>0.520548</td>\n",
              "      <td>0.099010</td>\n",
              "    </tr>\n",
              "  </tbody>\n",
              "</table>\n",
              "</div>"
            ],
            "text/plain": [
              "                  0         1         2         3         4\n",
              "precision  0.730627  0.555310  0.484892  0.537736  0.555556\n",
              "recall     0.748111  0.651948  0.466113  0.504425  0.054348\n",
              "f1-score   0.739266  0.599761  0.475317  0.520548  0.099010"
            ]
          },
          "metadata": {
            "tags": []
          },
          "execution_count": 0
        }
      ]
    },
    {
      "cell_type": "code",
      "metadata": {
        "colab": {
          "background_save": true
        },
        "id": "RxQ6mF5rJakJ",
        "outputId": "84cfa604-e4c6-4b8b-ddd7-f906204aa833"
      },
      "source": [
        "params = {'penalty':['l2'],\n",
        "          'C':[0.25,0.26,0.27,0.28,0.29,0.30,0.31,0.32]}\n",
        "log_reg_3 = Classification('Logistic Regression',x_train,x_val,y_train,y_val)\n",
        "log_reg_3.get_scores(params,skf)"
      ],
      "execution_count": null,
      "outputs": [
        {
          "output_type": "stream",
          "text": [
            "/usr/local/lib/python3.7/dist-packages/sklearn/linear_model/_logistic.py:940: ConvergenceWarning: lbfgs failed to converge (status=1):\n",
            "STOP: TOTAL NO. of ITERATIONS REACHED LIMIT.\n",
            "\n",
            "Increase the number of iterations (max_iter) or scale the data as shown in:\n",
            "    https://scikit-learn.org/stable/modules/preprocessing.html\n",
            "Please also refer to the documentation for alternative solver options:\n",
            "    https://scikit-learn.org/stable/modules/linear_model.html#logistic-regression\n",
            "  extra_warning_msg=_LOGISTIC_SOLVER_CONVERGENCE_MSG)\n",
            "/usr/local/lib/python3.7/dist-packages/sklearn/linear_model/_logistic.py:940: ConvergenceWarning: lbfgs failed to converge (status=1):\n",
            "STOP: TOTAL NO. of ITERATIONS REACHED LIMIT.\n",
            "\n",
            "Increase the number of iterations (max_iter) or scale the data as shown in:\n",
            "    https://scikit-learn.org/stable/modules/preprocessing.html\n",
            "Please also refer to the documentation for alternative solver options:\n",
            "    https://scikit-learn.org/stable/modules/linear_model.html#logistic-regression\n",
            "  extra_warning_msg=_LOGISTIC_SOLVER_CONVERGENCE_MSG)\n"
          ],
          "name": "stderr"
        },
        {
          "output_type": "display_data",
          "data": {
            "text/html": [
              "<div>\n",
              "<style scoped>\n",
              "    .dataframe tbody tr th:only-of-type {\n",
              "        vertical-align: middle;\n",
              "    }\n",
              "\n",
              "    .dataframe tbody tr th {\n",
              "        vertical-align: top;\n",
              "    }\n",
              "\n",
              "    .dataframe thead th {\n",
              "        text-align: right;\n",
              "    }\n",
              "</style>\n",
              "<table border=\"1\" class=\"dataframe\">\n",
              "  <thead>\n",
              "    <tr style=\"text-align: right;\">\n",
              "      <th></th>\n",
              "      <th>Model Name</th>\n",
              "      <th>Train Accuracy</th>\n",
              "      <th>Validation Accuracy</th>\n",
              "      <th>Accuracy Difference</th>\n",
              "    </tr>\n",
              "  </thead>\n",
              "  <tbody>\n",
              "    <tr>\n",
              "      <th>0</th>\n",
              "      <td>Logistic Regression</td>\n",
              "      <td>0.577132</td>\n",
              "      <td>0.582924</td>\n",
              "      <td>-0.005793</td>\n",
              "    </tr>\n",
              "  </tbody>\n",
              "</table>\n",
              "</div>"
            ],
            "text/plain": [
              "            Model Name  ...  Accuracy Difference\n",
              "0  Logistic Regression  ...            -0.005793\n",
              "\n",
              "[1 rows x 4 columns]"
            ]
          },
          "metadata": {
            "tags": []
          }
        },
        {
          "output_type": "stream",
          "text": [
            "The best hyperparameters are:  {'C': 0.27, 'penalty': 'l2'} \n",
            "\n"
          ],
          "name": "stdout"
        },
        {
          "output_type": "execute_result",
          "data": {
            "text/html": [
              "<div>\n",
              "<style scoped>\n",
              "    .dataframe tbody tr th:only-of-type {\n",
              "        vertical-align: middle;\n",
              "    }\n",
              "\n",
              "    .dataframe tbody tr th {\n",
              "        vertical-align: top;\n",
              "    }\n",
              "\n",
              "    .dataframe thead th {\n",
              "        text-align: right;\n",
              "    }\n",
              "</style>\n",
              "<table border=\"1\" class=\"dataframe\">\n",
              "  <thead>\n",
              "    <tr style=\"text-align: right;\">\n",
              "      <th></th>\n",
              "      <th>0</th>\n",
              "      <th>1</th>\n",
              "      <th>2</th>\n",
              "      <th>3</th>\n",
              "      <th>4</th>\n",
              "    </tr>\n",
              "  </thead>\n",
              "  <tbody>\n",
              "    <tr>\n",
              "      <th>precision</th>\n",
              "      <td>0.725061</td>\n",
              "      <td>0.555310</td>\n",
              "      <td>0.488987</td>\n",
              "      <td>0.540373</td>\n",
              "      <td>0.500000</td>\n",
              "    </tr>\n",
              "    <tr>\n",
              "      <th>recall</th>\n",
              "      <td>0.750630</td>\n",
              "      <td>0.651948</td>\n",
              "      <td>0.460581</td>\n",
              "      <td>0.513274</td>\n",
              "      <td>0.032609</td>\n",
              "    </tr>\n",
              "    <tr>\n",
              "      <th>f1-score</th>\n",
              "      <td>0.737624</td>\n",
              "      <td>0.599761</td>\n",
              "      <td>0.474359</td>\n",
              "      <td>0.526475</td>\n",
              "      <td>0.061224</td>\n",
              "    </tr>\n",
              "  </tbody>\n",
              "</table>\n",
              "</div>"
            ],
            "text/plain": [
              "                  0         1         2         3         4\n",
              "precision  0.725061  0.555310  0.488987  0.540373  0.500000\n",
              "recall     0.750630  0.651948  0.460581  0.513274  0.032609\n",
              "f1-score   0.737624  0.599761  0.474359  0.526475  0.061224"
            ]
          },
          "metadata": {
            "tags": []
          },
          "execution_count": 0
        }
      ]
    },
    {
      "cell_type": "markdown",
      "metadata": {
        "id": "-8E5ejG-KLIs"
      },
      "source": [
        "Support Vector Machines"
      ]
    },
    {
      "cell_type": "code",
      "metadata": {
        "colab": {
          "background_save": true
        },
        "id": "hcW5a9SlKQ_6",
        "outputId": "6577c27c-c8f5-4476-9d7e-a2c576c552b2"
      },
      "source": [
        "params = {'kernel':['poly'],\n",
        "          'degree':[2,3]}\n",
        "svm_1 = Classification('SVM',x_train,x_val,y_train,y_val)\n",
        "svm_1.get_scores(params,skf)\n"
      ],
      "execution_count": null,
      "outputs": [
        {
          "output_type": "display_data",
          "data": {
            "text/html": [
              "<div>\n",
              "<style scoped>\n",
              "    .dataframe tbody tr th:only-of-type {\n",
              "        vertical-align: middle;\n",
              "    }\n",
              "\n",
              "    .dataframe tbody tr th {\n",
              "        vertical-align: top;\n",
              "    }\n",
              "\n",
              "    .dataframe thead th {\n",
              "        text-align: right;\n",
              "    }\n",
              "</style>\n",
              "<table border=\"1\" class=\"dataframe\">\n",
              "  <thead>\n",
              "    <tr style=\"text-align: right;\">\n",
              "      <th></th>\n",
              "      <th>Model Name</th>\n",
              "      <th>Train Accuracy</th>\n",
              "      <th>Validation Accuracy</th>\n",
              "      <th>Accuracy Difference</th>\n",
              "    </tr>\n",
              "  </thead>\n",
              "  <tbody>\n",
              "    <tr>\n",
              "      <th>0</th>\n",
              "      <td>SVM</td>\n",
              "      <td>0.375705</td>\n",
              "      <td>0.383382</td>\n",
              "      <td>-0.007677</td>\n",
              "    </tr>\n",
              "  </tbody>\n",
              "</table>\n",
              "</div>"
            ],
            "text/plain": [
              "  Model Name  Train Accuracy  Validation Accuracy  Accuracy Difference\n",
              "0        SVM        0.375705             0.383382            -0.007677"
            ]
          },
          "metadata": {
            "tags": []
          }
        },
        {
          "output_type": "stream",
          "text": [
            "The best hyperparameters are:  {'degree': 2, 'kernel': 'poly'} \n",
            "\n"
          ],
          "name": "stdout"
        },
        {
          "output_type": "stream",
          "text": [
            "/usr/local/lib/python3.7/dist-packages/sklearn/metrics/_classification.py:1272: UndefinedMetricWarning: Precision and F-score are ill-defined and being set to 0.0 in labels with no predicted samples. Use `zero_division` parameter to control this behavior.\n",
            "  _warn_prf(average, modifier, msg_start, len(result))\n"
          ],
          "name": "stderr"
        },
        {
          "output_type": "execute_result",
          "data": {
            "text/html": [
              "<div>\n",
              "<style scoped>\n",
              "    .dataframe tbody tr th:only-of-type {\n",
              "        vertical-align: middle;\n",
              "    }\n",
              "\n",
              "    .dataframe tbody tr th {\n",
              "        vertical-align: top;\n",
              "    }\n",
              "\n",
              "    .dataframe thead th {\n",
              "        text-align: right;\n",
              "    }\n",
              "</style>\n",
              "<table border=\"1\" class=\"dataframe\">\n",
              "  <thead>\n",
              "    <tr style=\"text-align: right;\">\n",
              "      <th></th>\n",
              "      <th>0</th>\n",
              "      <th>1</th>\n",
              "      <th>2</th>\n",
              "      <th>3</th>\n",
              "      <th>4</th>\n",
              "    </tr>\n",
              "  </thead>\n",
              "  <tbody>\n",
              "    <tr>\n",
              "      <th>precision</th>\n",
              "      <td>0.438078</td>\n",
              "      <td>0.401899</td>\n",
              "      <td>0.296559</td>\n",
              "      <td>0.414307</td>\n",
              "      <td>0.0</td>\n",
              "    </tr>\n",
              "    <tr>\n",
              "      <th>recall</th>\n",
              "      <td>0.596977</td>\n",
              "      <td>0.164935</td>\n",
              "      <td>0.405256</td>\n",
              "      <td>0.410029</td>\n",
              "      <td>0.0</td>\n",
              "    </tr>\n",
              "    <tr>\n",
              "      <th>f1-score</th>\n",
              "      <td>0.505330</td>\n",
              "      <td>0.233886</td>\n",
              "      <td>0.342490</td>\n",
              "      <td>0.412157</td>\n",
              "      <td>0.0</td>\n",
              "    </tr>\n",
              "  </tbody>\n",
              "</table>\n",
              "</div>"
            ],
            "text/plain": [
              "                  0         1         2         3    4\n",
              "precision  0.438078  0.401899  0.296559  0.414307  0.0\n",
              "recall     0.596977  0.164935  0.405256  0.410029  0.0\n",
              "f1-score   0.505330  0.233886  0.342490  0.412157  0.0"
            ]
          },
          "metadata": {
            "tags": []
          },
          "execution_count": 0
        }
      ]
    },
    {
      "cell_type": "markdown",
      "metadata": {
        "id": "y_YV4bkKxI4N"
      },
      "source": [
        "Guassian Naive Bayes"
      ]
    },
    {
      "cell_type": "code",
      "metadata": {
        "colab": {
          "background_save": true
        },
        "id": "5AJOZUJRxTCJ",
        "outputId": "a632ffd2-6071-4496-cca5-9ef22d272b1e"
      },
      "source": [
        "\n",
        "params = {'var_smoothing':[1e-02,1e-01,1]}\n",
        "gnb_2 = Classification('Naive Bayes',x_train,x_val,y_train,y_val)\n",
        "gnb_2.get_scores(params,skf)"
      ],
      "execution_count": null,
      "outputs": [
        {
          "output_type": "display_data",
          "data": {
            "text/html": [
              "<div>\n",
              "<style scoped>\n",
              "    .dataframe tbody tr th:only-of-type {\n",
              "        vertical-align: middle;\n",
              "    }\n",
              "\n",
              "    .dataframe tbody tr th {\n",
              "        vertical-align: top;\n",
              "    }\n",
              "\n",
              "    .dataframe thead th {\n",
              "        text-align: right;\n",
              "    }\n",
              "</style>\n",
              "<table border=\"1\" class=\"dataframe\">\n",
              "  <thead>\n",
              "    <tr style=\"text-align: right;\">\n",
              "      <th></th>\n",
              "      <th>Model Name</th>\n",
              "      <th>Train Accuracy</th>\n",
              "      <th>Validation Accuracy</th>\n",
              "      <th>Accuracy Difference</th>\n",
              "    </tr>\n",
              "  </thead>\n",
              "  <tbody>\n",
              "    <tr>\n",
              "      <th>0</th>\n",
              "      <td>Naive Bayes</td>\n",
              "      <td>0.379538</td>\n",
              "      <td>0.370298</td>\n",
              "      <td>0.00924</td>\n",
              "    </tr>\n",
              "  </tbody>\n",
              "</table>\n",
              "</div>"
            ],
            "text/plain": [
              "    Model Name  Train Accuracy  Validation Accuracy  Accuracy Difference\n",
              "0  Naive Bayes        0.379538             0.370298              0.00924"
            ]
          },
          "metadata": {
            "tags": []
          }
        },
        {
          "output_type": "stream",
          "text": [
            "The best hyperparameters are:  {'var_smoothing': 0.01} \n",
            "\n"
          ],
          "name": "stdout"
        },
        {
          "output_type": "stream",
          "text": [
            "/usr/local/lib/python3.7/dist-packages/sklearn/metrics/_classification.py:1272: UndefinedMetricWarning: Precision and F-score are ill-defined and being set to 0.0 in labels with no predicted samples. Use `zero_division` parameter to control this behavior.\n",
            "  _warn_prf(average, modifier, msg_start, len(result))\n"
          ],
          "name": "stderr"
        },
        {
          "output_type": "execute_result",
          "data": {
            "text/html": [
              "<div>\n",
              "<style scoped>\n",
              "    .dataframe tbody tr th:only-of-type {\n",
              "        vertical-align: middle;\n",
              "    }\n",
              "\n",
              "    .dataframe tbody tr th {\n",
              "        vertical-align: top;\n",
              "    }\n",
              "\n",
              "    .dataframe thead th {\n",
              "        text-align: right;\n",
              "    }\n",
              "</style>\n",
              "<table border=\"1\" class=\"dataframe\">\n",
              "  <thead>\n",
              "    <tr style=\"text-align: right;\">\n",
              "      <th></th>\n",
              "      <th>0</th>\n",
              "      <th>1</th>\n",
              "      <th>2</th>\n",
              "      <th>3</th>\n",
              "      <th>4</th>\n",
              "    </tr>\n",
              "  </thead>\n",
              "  <tbody>\n",
              "    <tr>\n",
              "      <th>precision</th>\n",
              "      <td>0.458333</td>\n",
              "      <td>0.367816</td>\n",
              "      <td>0.257036</td>\n",
              "      <td>0.361720</td>\n",
              "      <td>0.0</td>\n",
              "    </tr>\n",
              "    <tr>\n",
              "      <th>recall</th>\n",
              "      <td>0.471033</td>\n",
              "      <td>0.249351</td>\n",
              "      <td>0.189488</td>\n",
              "      <td>0.632743</td>\n",
              "      <td>0.0</td>\n",
              "    </tr>\n",
              "    <tr>\n",
              "      <th>f1-score</th>\n",
              "      <td>0.464596</td>\n",
              "      <td>0.297214</td>\n",
              "      <td>0.218153</td>\n",
              "      <td>0.460300</td>\n",
              "      <td>0.0</td>\n",
              "    </tr>\n",
              "  </tbody>\n",
              "</table>\n",
              "</div>"
            ],
            "text/plain": [
              "                  0         1         2         3    4\n",
              "precision  0.458333  0.367816  0.257036  0.361720  0.0\n",
              "recall     0.471033  0.249351  0.189488  0.632743  0.0\n",
              "f1-score   0.464596  0.297214  0.218153  0.460300  0.0"
            ]
          },
          "metadata": {
            "tags": []
          },
          "execution_count": 0
        }
      ]
    },
    {
      "cell_type": "markdown",
      "metadata": {
        "id": "SkJEQjlXxbyN"
      },
      "source": [
        "KNN"
      ]
    },
    {
      "cell_type": "code",
      "metadata": {
        "colab": {
          "background_save": true
        },
        "id": "d0uu5QXixZkD",
        "outputId": "4c93c530-f407-4cb1-cd97-293773203ccc"
      },
      "source": [
        "params = {'n_neighbors':[5,10,50,100,200,300]}\n",
        "\n",
        "knn_1 = Classification('KNN',x_train,x_val,y_train,y_val)\n",
        "knn_1.get_scores(params,skf)"
      ],
      "execution_count": null,
      "outputs": [
        {
          "output_type": "display_data",
          "data": {
            "text/html": [
              "<div>\n",
              "<style scoped>\n",
              "    .dataframe tbody tr th:only-of-type {\n",
              "        vertical-align: middle;\n",
              "    }\n",
              "\n",
              "    .dataframe tbody tr th {\n",
              "        vertical-align: top;\n",
              "    }\n",
              "\n",
              "    .dataframe thead th {\n",
              "        text-align: right;\n",
              "    }\n",
              "</style>\n",
              "<table border=\"1\" class=\"dataframe\">\n",
              "  <thead>\n",
              "    <tr style=\"text-align: right;\">\n",
              "      <th></th>\n",
              "      <th>Model Name</th>\n",
              "      <th>Train Accuracy</th>\n",
              "      <th>Validation Accuracy</th>\n",
              "      <th>Accuracy Difference</th>\n",
              "    </tr>\n",
              "  </thead>\n",
              "  <tbody>\n",
              "    <tr>\n",
              "      <th>0</th>\n",
              "      <td>KNN</td>\n",
              "      <td>0.550942</td>\n",
              "      <td>0.440301</td>\n",
              "      <td>0.110641</td>\n",
              "    </tr>\n",
              "  </tbody>\n",
              "</table>\n",
              "</div>"
            ],
            "text/plain": [
              "  Model Name  Train Accuracy  Validation Accuracy  Accuracy Difference\n",
              "0        KNN        0.550942             0.440301             0.110641"
            ]
          },
          "metadata": {
            "tags": []
          }
        },
        {
          "output_type": "stream",
          "text": [
            "The best hyperparameters are:  {'n_neighbors': 10} \n",
            "\n"
          ],
          "name": "stdout"
        },
        {
          "output_type": "execute_result",
          "data": {
            "text/html": [
              "<div>\n",
              "<style scoped>\n",
              "    .dataframe tbody tr th:only-of-type {\n",
              "        vertical-align: middle;\n",
              "    }\n",
              "\n",
              "    .dataframe tbody tr th {\n",
              "        vertical-align: top;\n",
              "    }\n",
              "\n",
              "    .dataframe thead th {\n",
              "        text-align: right;\n",
              "    }\n",
              "</style>\n",
              "<table border=\"1\" class=\"dataframe\">\n",
              "  <thead>\n",
              "    <tr style=\"text-align: right;\">\n",
              "      <th></th>\n",
              "      <th>0</th>\n",
              "      <th>1</th>\n",
              "      <th>2</th>\n",
              "      <th>3</th>\n",
              "      <th>4</th>\n",
              "    </tr>\n",
              "  </thead>\n",
              "  <tbody>\n",
              "    <tr>\n",
              "      <th>precision</th>\n",
              "      <td>0.483290</td>\n",
              "      <td>0.406609</td>\n",
              "      <td>0.370618</td>\n",
              "      <td>0.484171</td>\n",
              "      <td>0.293103</td>\n",
              "    </tr>\n",
              "    <tr>\n",
              "      <th>recall</th>\n",
              "      <td>0.710327</td>\n",
              "      <td>0.367532</td>\n",
              "      <td>0.307054</td>\n",
              "      <td>0.383481</td>\n",
              "      <td>0.184783</td>\n",
              "    </tr>\n",
              "    <tr>\n",
              "      <th>f1-score</th>\n",
              "      <td>0.575217</td>\n",
              "      <td>0.386085</td>\n",
              "      <td>0.335855</td>\n",
              "      <td>0.427984</td>\n",
              "      <td>0.226667</td>\n",
              "    </tr>\n",
              "  </tbody>\n",
              "</table>\n",
              "</div>"
            ],
            "text/plain": [
              "                  0         1         2         3         4\n",
              "precision  0.483290  0.406609  0.370618  0.484171  0.293103\n",
              "recall     0.710327  0.367532  0.307054  0.383481  0.184783\n",
              "f1-score   0.575217  0.386085  0.335855  0.427984  0.226667"
            ]
          },
          "metadata": {
            "tags": []
          },
          "execution_count": 0
        }
      ]
    },
    {
      "cell_type": "code",
      "metadata": {
        "colab": {
          "background_save": true
        },
        "id": "UncnrglSxmjo",
        "outputId": "1a9f6d17-0261-4b5b-8364-548928ba8c74"
      },
      "source": [
        "params = {'n_neighbors':[250,300,350]}\n",
        "knn_2 = Classification('KNN',x_train,x_val,y_train,y_val)\n",
        "\n",
        "knn_2.get_scores(params,skf)"
      ],
      "execution_count": null,
      "outputs": [
        {
          "output_type": "display_data",
          "data": {
            "text/html": [
              "<div>\n",
              "<style scoped>\n",
              "    .dataframe tbody tr th:only-of-type {\n",
              "        vertical-align: middle;\n",
              "    }\n",
              "\n",
              "    .dataframe tbody tr th {\n",
              "        vertical-align: top;\n",
              "    }\n",
              "\n",
              "    .dataframe thead th {\n",
              "        text-align: right;\n",
              "    }\n",
              "</style>\n",
              "<table border=\"1\" class=\"dataframe\">\n",
              "  <thead>\n",
              "    <tr style=\"text-align: right;\">\n",
              "      <th></th>\n",
              "      <th>Model Name</th>\n",
              "      <th>Train Accuracy</th>\n",
              "      <th>Validation Accuracy</th>\n",
              "      <th>Accuracy Difference</th>\n",
              "    </tr>\n",
              "  </thead>\n",
              "  <tbody>\n",
              "    <tr>\n",
              "      <th>0</th>\n",
              "      <td>KNN</td>\n",
              "      <td>0.398488</td>\n",
              "      <td>0.390906</td>\n",
              "      <td>0.007582</td>\n",
              "    </tr>\n",
              "  </tbody>\n",
              "</table>\n",
              "</div>"
            ],
            "text/plain": [
              "  Model Name  Train Accuracy  Validation Accuracy  Accuracy Difference\n",
              "0        KNN        0.398488             0.390906             0.007582"
            ]
          },
          "metadata": {
            "tags": []
          }
        },
        {
          "output_type": "stream",
          "text": [
            "The best hyperparameters are:  {'n_neighbors': 250} \n",
            "\n"
          ],
          "name": "stdout"
        },
        {
          "output_type": "stream",
          "text": [
            "/usr/local/lib/python3.7/dist-packages/sklearn/metrics/_classification.py:1272: UndefinedMetricWarning: Precision and F-score are ill-defined and being set to 0.0 in labels with no predicted samples. Use `zero_division` parameter to control this behavior.\n",
            "  _warn_prf(average, modifier, msg_start, len(result))\n"
          ],
          "name": "stderr"
        },
        {
          "output_type": "execute_result",
          "data": {
            "text/html": [
              "<div>\n",
              "<style scoped>\n",
              "    .dataframe tbody tr th:only-of-type {\n",
              "        vertical-align: middle;\n",
              "    }\n",
              "\n",
              "    .dataframe tbody tr th {\n",
              "        vertical-align: top;\n",
              "    }\n",
              "\n",
              "    .dataframe thead th {\n",
              "        text-align: right;\n",
              "    }\n",
              "</style>\n",
              "<table border=\"1\" class=\"dataframe\">\n",
              "  <thead>\n",
              "    <tr style=\"text-align: right;\">\n",
              "      <th></th>\n",
              "      <th>0</th>\n",
              "      <th>1</th>\n",
              "      <th>2</th>\n",
              "      <th>3</th>\n",
              "      <th>4</th>\n",
              "    </tr>\n",
              "  </thead>\n",
              "  <tbody>\n",
              "    <tr>\n",
              "      <th>precision</th>\n",
              "      <td>0.473618</td>\n",
              "      <td>0.362473</td>\n",
              "      <td>0.300518</td>\n",
              "      <td>0.386339</td>\n",
              "      <td>0.0</td>\n",
              "    </tr>\n",
              "    <tr>\n",
              "      <th>recall</th>\n",
              "      <td>0.474811</td>\n",
              "      <td>0.441558</td>\n",
              "      <td>0.160443</td>\n",
              "      <td>0.533923</td>\n",
              "      <td>0.0</td>\n",
              "    </tr>\n",
              "    <tr>\n",
              "      <th>f1-score</th>\n",
              "      <td>0.474214</td>\n",
              "      <td>0.398126</td>\n",
              "      <td>0.209197</td>\n",
              "      <td>0.448297</td>\n",
              "      <td>0.0</td>\n",
              "    </tr>\n",
              "  </tbody>\n",
              "</table>\n",
              "</div>"
            ],
            "text/plain": [
              "                  0         1         2         3    4\n",
              "precision  0.473618  0.362473  0.300518  0.386339  0.0\n",
              "recall     0.474811  0.441558  0.160443  0.533923  0.0\n",
              "f1-score   0.474214  0.398126  0.209197  0.448297  0.0"
            ]
          },
          "metadata": {
            "tags": []
          },
          "execution_count": 0
        }
      ]
    },
    {
      "cell_type": "code",
      "metadata": {
        "colab": {
          "background_save": true
        },
        "id": "Ih8WkFMFxsEO",
        "outputId": "736f4ec4-2246-44a7-ea47-197c481d5e62"
      },
      "source": [
        "params = {'n_neighbors':[340,345,350,355,360]}\n",
        "knn_3 = Classification('KNN',x_train,x_val,y_train,y_val)\n",
        "\n",
        "knn_3.get_scores(params,skf)"
      ],
      "execution_count": null,
      "outputs": [
        {
          "output_type": "display_data",
          "data": {
            "text/html": [
              "<div>\n",
              "<style scoped>\n",
              "    .dataframe tbody tr th:only-of-type {\n",
              "        vertical-align: middle;\n",
              "    }\n",
              "\n",
              "    .dataframe tbody tr th {\n",
              "        vertical-align: top;\n",
              "    }\n",
              "\n",
              "    .dataframe thead th {\n",
              "        text-align: right;\n",
              "    }\n",
              "</style>\n",
              "<table border=\"1\" class=\"dataframe\">\n",
              "  <thead>\n",
              "    <tr style=\"text-align: right;\">\n",
              "      <th></th>\n",
              "      <th>Model Name</th>\n",
              "      <th>Train Accuracy</th>\n",
              "      <th>Validation Accuracy</th>\n",
              "      <th>Accuracy Difference</th>\n",
              "    </tr>\n",
              "  </thead>\n",
              "  <tbody>\n",
              "    <tr>\n",
              "      <th>0</th>\n",
              "      <td>KNN</td>\n",
              "      <td>0.391462</td>\n",
              "      <td>0.386981</td>\n",
              "      <td>0.004481</td>\n",
              "    </tr>\n",
              "  </tbody>\n",
              "</table>\n",
              "</div>"
            ],
            "text/plain": [
              "  Model Name  Train Accuracy  Validation Accuracy  Accuracy Difference\n",
              "0        KNN        0.391462             0.386981             0.004481"
            ]
          },
          "metadata": {
            "tags": []
          }
        },
        {
          "output_type": "stream",
          "text": [
            "The best hyperparameters are:  {'n_neighbors': 340} \n",
            "\n"
          ],
          "name": "stdout"
        },
        {
          "output_type": "stream",
          "text": [
            "/usr/local/lib/python3.7/dist-packages/sklearn/metrics/_classification.py:1272: UndefinedMetricWarning: Precision and F-score are ill-defined and being set to 0.0 in labels with no predicted samples. Use `zero_division` parameter to control this behavior.\n",
            "  _warn_prf(average, modifier, msg_start, len(result))\n"
          ],
          "name": "stderr"
        },
        {
          "output_type": "execute_result",
          "data": {
            "text/html": [
              "<div>\n",
              "<style scoped>\n",
              "    .dataframe tbody tr th:only-of-type {\n",
              "        vertical-align: middle;\n",
              "    }\n",
              "\n",
              "    .dataframe tbody tr th {\n",
              "        vertical-align: top;\n",
              "    }\n",
              "\n",
              "    .dataframe thead th {\n",
              "        text-align: right;\n",
              "    }\n",
              "</style>\n",
              "<table border=\"1\" class=\"dataframe\">\n",
              "  <thead>\n",
              "    <tr style=\"text-align: right;\">\n",
              "      <th></th>\n",
              "      <th>0</th>\n",
              "      <th>1</th>\n",
              "      <th>2</th>\n",
              "      <th>3</th>\n",
              "      <th>4</th>\n",
              "    </tr>\n",
              "  </thead>\n",
              "  <tbody>\n",
              "    <tr>\n",
              "      <th>precision</th>\n",
              "      <td>0.473890</td>\n",
              "      <td>0.352442</td>\n",
              "      <td>0.313869</td>\n",
              "      <td>0.382729</td>\n",
              "      <td>0.0</td>\n",
              "    </tr>\n",
              "    <tr>\n",
              "      <th>recall</th>\n",
              "      <td>0.457179</td>\n",
              "      <td>0.431169</td>\n",
              "      <td>0.178423</td>\n",
              "      <td>0.529499</td>\n",
              "      <td>0.0</td>\n",
              "    </tr>\n",
              "    <tr>\n",
              "      <th>f1-score</th>\n",
              "      <td>0.465385</td>\n",
              "      <td>0.387850</td>\n",
              "      <td>0.227513</td>\n",
              "      <td>0.444307</td>\n",
              "      <td>0.0</td>\n",
              "    </tr>\n",
              "  </tbody>\n",
              "</table>\n",
              "</div>"
            ],
            "text/plain": [
              "                  0         1         2         3    4\n",
              "precision  0.473890  0.352442  0.313869  0.382729  0.0\n",
              "recall     0.457179  0.431169  0.178423  0.529499  0.0\n",
              "f1-score   0.465385  0.387850  0.227513  0.444307  0.0"
            ]
          },
          "metadata": {
            "tags": []
          },
          "execution_count": 0
        }
      ]
    },
    {
      "cell_type": "markdown",
      "metadata": {
        "id": "kgJwSyH9zfeD"
      },
      "source": [
        "Adaboost (log_reg_2)"
      ]
    },
    {
      "cell_type": "code",
      "metadata": {
        "colab": {
          "background_save": true
        },
        "id": "1zUIkkkBzcVj",
        "outputId": "60514516-0934-4664-aaa7-28c456868102"
      },
      "source": [
        "params = {'learning_rate':[0.1,1,10]}\n",
        "\n",
        "adaboost_1 = Ensemble('AdaBoost',log_reg_2.best_model,x_train,x_val,y_train,y_val)\n",
        "adaboost_1.get_scores(params,skf)"
      ],
      "execution_count": null,
      "outputs": [
        {
          "output_type": "display_data",
          "data": {
            "text/html": [
              "<div>\n",
              "<style scoped>\n",
              "    .dataframe tbody tr th:only-of-type {\n",
              "        vertical-align: middle;\n",
              "    }\n",
              "\n",
              "    .dataframe tbody tr th {\n",
              "        vertical-align: top;\n",
              "    }\n",
              "\n",
              "    .dataframe thead th {\n",
              "        text-align: right;\n",
              "    }\n",
              "</style>\n",
              "<table border=\"1\" class=\"dataframe\">\n",
              "  <thead>\n",
              "    <tr style=\"text-align: right;\">\n",
              "      <th></th>\n",
              "      <th>Model Name</th>\n",
              "      <th>Train Accuracy</th>\n",
              "      <th>Validation Accuracy</th>\n",
              "      <th>Accuracy Difference</th>\n",
              "    </tr>\n",
              "  </thead>\n",
              "  <tbody>\n",
              "    <tr>\n",
              "      <th>0</th>\n",
              "      <td>AdaBoost</td>\n",
              "      <td>0.468647</td>\n",
              "      <td>0.456984</td>\n",
              "      <td>0.011663</td>\n",
              "    </tr>\n",
              "  </tbody>\n",
              "</table>\n",
              "</div>"
            ],
            "text/plain": [
              "  Model Name  Train Accuracy  Validation Accuracy  Accuracy Difference\n",
              "0   AdaBoost        0.468647             0.456984             0.011663"
            ]
          },
          "metadata": {
            "tags": []
          }
        },
        {
          "output_type": "stream",
          "text": [
            "The best hyperparameters are:  {'learning_rate': 1} \n",
            "\n"
          ],
          "name": "stdout"
        },
        {
          "output_type": "execute_result",
          "data": {
            "text/html": [
              "<div>\n",
              "<style scoped>\n",
              "    .dataframe tbody tr th:only-of-type {\n",
              "        vertical-align: middle;\n",
              "    }\n",
              "\n",
              "    .dataframe tbody tr th {\n",
              "        vertical-align: top;\n",
              "    }\n",
              "\n",
              "    .dataframe thead th {\n",
              "        text-align: right;\n",
              "    }\n",
              "</style>\n",
              "<table border=\"1\" class=\"dataframe\">\n",
              "  <thead>\n",
              "    <tr style=\"text-align: right;\">\n",
              "      <th></th>\n",
              "      <th>0</th>\n",
              "      <th>1</th>\n",
              "      <th>2</th>\n",
              "      <th>3</th>\n",
              "      <th>4</th>\n",
              "    </tr>\n",
              "  </thead>\n",
              "  <tbody>\n",
              "    <tr>\n",
              "      <th>precision</th>\n",
              "      <td>0.553145</td>\n",
              "      <td>0.456422</td>\n",
              "      <td>0.399433</td>\n",
              "      <td>0.471322</td>\n",
              "      <td>0.115385</td>\n",
              "    </tr>\n",
              "    <tr>\n",
              "      <th>recall</th>\n",
              "      <td>0.642317</td>\n",
              "      <td>0.516883</td>\n",
              "      <td>0.390041</td>\n",
              "      <td>0.278761</td>\n",
              "      <td>0.195652</td>\n",
              "    </tr>\n",
              "    <tr>\n",
              "      <th>f1-score</th>\n",
              "      <td>0.594406</td>\n",
              "      <td>0.484775</td>\n",
              "      <td>0.394682</td>\n",
              "      <td>0.350324</td>\n",
              "      <td>0.145161</td>\n",
              "    </tr>\n",
              "  </tbody>\n",
              "</table>\n",
              "</div>"
            ],
            "text/plain": [
              "                  0         1         2         3         4\n",
              "precision  0.553145  0.456422  0.399433  0.471322  0.115385\n",
              "recall     0.642317  0.516883  0.390041  0.278761  0.195652\n",
              "f1-score   0.594406  0.484775  0.394682  0.350324  0.145161"
            ]
          },
          "metadata": {
            "tags": []
          },
          "execution_count": 0
        }
      ]
    },
    {
      "cell_type": "code",
      "metadata": {
        "colab": {
          "background_save": true
        },
        "id": "uGqXLI3lznEE",
        "outputId": "e22107e2-e602-4f99-ad70-17d80f47a7e1"
      },
      "source": [
        "\n",
        "params = {'learning_rate':[0.01,0.05,0.1]}\n",
        "\n",
        "adaboost_2 = Ensemble('AdaBoost',log_reg_2.best_model,x_train,x_val,y_train,y_val)\n",
        "adaboost_2.get_scores(params,skf)"
      ],
      "execution_count": null,
      "outputs": [
        {
          "output_type": "display_data",
          "data": {
            "text/html": [
              "<div>\n",
              "<style scoped>\n",
              "    .dataframe tbody tr th:only-of-type {\n",
              "        vertical-align: middle;\n",
              "    }\n",
              "\n",
              "    .dataframe tbody tr th {\n",
              "        vertical-align: top;\n",
              "    }\n",
              "\n",
              "    .dataframe thead th {\n",
              "        text-align: right;\n",
              "    }\n",
              "</style>\n",
              "<table border=\"1\" class=\"dataframe\">\n",
              "  <thead>\n",
              "    <tr style=\"text-align: right;\">\n",
              "      <th></th>\n",
              "      <th>Model Name</th>\n",
              "      <th>Train Accuracy</th>\n",
              "      <th>Validation Accuracy</th>\n",
              "      <th>Accuracy Difference</th>\n",
              "    </tr>\n",
              "  </thead>\n",
              "  <tbody>\n",
              "    <tr>\n",
              "      <th>0</th>\n",
              "      <td>AdaBoost</td>\n",
              "      <td>0.442351</td>\n",
              "      <td>0.443245</td>\n",
              "      <td>-0.000894</td>\n",
              "    </tr>\n",
              "  </tbody>\n",
              "</table>\n",
              "</div>"
            ],
            "text/plain": [
              "  Model Name  Train Accuracy  Validation Accuracy  Accuracy Difference\n",
              "0   AdaBoost        0.442351             0.443245            -0.000894"
            ]
          },
          "metadata": {
            "tags": []
          }
        },
        {
          "output_type": "stream",
          "text": [
            "The best hyperparameters are:  {'learning_rate': 0.1} \n",
            "\n"
          ],
          "name": "stdout"
        },
        {
          "output_type": "stream",
          "text": [
            "/usr/local/lib/python3.7/dist-packages/sklearn/metrics/_classification.py:1272: UndefinedMetricWarning: Precision and F-score are ill-defined and being set to 0.0 in labels with no predicted samples. Use `zero_division` parameter to control this behavior.\n",
            "  _warn_prf(average, modifier, msg_start, len(result))\n"
          ],
          "name": "stderr"
        },
        {
          "output_type": "execute_result",
          "data": {
            "text/html": [
              "<div>\n",
              "<style scoped>\n",
              "    .dataframe tbody tr th:only-of-type {\n",
              "        vertical-align: middle;\n",
              "    }\n",
              "\n",
              "    .dataframe tbody tr th {\n",
              "        vertical-align: top;\n",
              "    }\n",
              "\n",
              "    .dataframe thead th {\n",
              "        text-align: right;\n",
              "    }\n",
              "</style>\n",
              "<table border=\"1\" class=\"dataframe\">\n",
              "  <thead>\n",
              "    <tr style=\"text-align: right;\">\n",
              "      <th></th>\n",
              "      <th>0</th>\n",
              "      <th>1</th>\n",
              "      <th>2</th>\n",
              "      <th>3</th>\n",
              "      <th>4</th>\n",
              "    </tr>\n",
              "  </thead>\n",
              "  <tbody>\n",
              "    <tr>\n",
              "      <th>precision</th>\n",
              "      <td>0.670807</td>\n",
              "      <td>0.441731</td>\n",
              "      <td>0.302703</td>\n",
              "      <td>0.417376</td>\n",
              "      <td>0.0</td>\n",
              "    </tr>\n",
              "    <tr>\n",
              "      <th>recall</th>\n",
              "      <td>0.544081</td>\n",
              "      <td>0.516883</td>\n",
              "      <td>0.387275</td>\n",
              "      <td>0.361357</td>\n",
              "      <td>0.0</td>\n",
              "    </tr>\n",
              "    <tr>\n",
              "      <th>f1-score</th>\n",
              "      <td>0.600834</td>\n",
              "      <td>0.476361</td>\n",
              "      <td>0.339806</td>\n",
              "      <td>0.387352</td>\n",
              "      <td>0.0</td>\n",
              "    </tr>\n",
              "  </tbody>\n",
              "</table>\n",
              "</div>"
            ],
            "text/plain": [
              "                  0         1         2         3    4\n",
              "precision  0.670807  0.441731  0.302703  0.417376  0.0\n",
              "recall     0.544081  0.516883  0.387275  0.361357  0.0\n",
              "f1-score   0.600834  0.476361  0.339806  0.387352  0.0"
            ]
          },
          "metadata": {
            "tags": []
          },
          "execution_count": 0
        }
      ]
    },
    {
      "cell_type": "markdown",
      "metadata": {
        "id": "D7Vmr_HVzyAN"
      },
      "source": [
        "XGBoost (log_reg_2)"
      ]
    },
    {
      "cell_type": "code",
      "metadata": {
        "colab": {
          "background_save": true
        },
        "id": "pJ4N1sLazvag",
        "outputId": "6d52812d-6d2a-499f-e6fc-1c69bad43509"
      },
      "source": [
        "params = {'eta':[0.001,0.005,0.1,0.5],\n",
        "          'min_child_weight':[1,5,10]}\n",
        "xgboost_1 = Ensemble('XGBoost',log_reg_2.best_model,x_train,x_val,y_train,y_val)\n",
        "xgboost_1.get_scores(params,skf)"
      ],
      "execution_count": null,
      "outputs": [
        {
          "output_type": "display_data",
          "data": {
            "text/html": [
              "<div>\n",
              "<style scoped>\n",
              "    .dataframe tbody tr th:only-of-type {\n",
              "        vertical-align: middle;\n",
              "    }\n",
              "\n",
              "    .dataframe tbody tr th {\n",
              "        vertical-align: top;\n",
              "    }\n",
              "\n",
              "    .dataframe thead th {\n",
              "        text-align: right;\n",
              "    }\n",
              "</style>\n",
              "<table border=\"1\" class=\"dataframe\">\n",
              "  <thead>\n",
              "    <tr style=\"text-align: right;\">\n",
              "      <th></th>\n",
              "      <th>Model Name</th>\n",
              "      <th>Train Accuracy</th>\n",
              "      <th>Validation Accuracy</th>\n",
              "      <th>Accuracy Difference</th>\n",
              "    </tr>\n",
              "  </thead>\n",
              "  <tbody>\n",
              "    <tr>\n",
              "      <th>0</th>\n",
              "      <td>XGBoost</td>\n",
              "      <td>0.632279</td>\n",
              "      <td>0.604187</td>\n",
              "      <td>0.028092</td>\n",
              "    </tr>\n",
              "  </tbody>\n",
              "</table>\n",
              "</div>"
            ],
            "text/plain": [
              "  Model Name  Train Accuracy  Validation Accuracy  Accuracy Difference\n",
              "0    XGBoost        0.632279             0.604187             0.028092"
            ]
          },
          "metadata": {
            "tags": []
          }
        },
        {
          "output_type": "stream",
          "text": [
            "The best hyperparameters are:  {'eta': 0.001, 'min_child_weight': 10} \n",
            "\n"
          ],
          "name": "stdout"
        },
        {
          "output_type": "execute_result",
          "data": {
            "text/html": [
              "<div>\n",
              "<style scoped>\n",
              "    .dataframe tbody tr th:only-of-type {\n",
              "        vertical-align: middle;\n",
              "    }\n",
              "\n",
              "    .dataframe tbody tr th {\n",
              "        vertical-align: top;\n",
              "    }\n",
              "\n",
              "    .dataframe thead th {\n",
              "        text-align: right;\n",
              "    }\n",
              "</style>\n",
              "<table border=\"1\" class=\"dataframe\">\n",
              "  <thead>\n",
              "    <tr style=\"text-align: right;\">\n",
              "      <th></th>\n",
              "      <th>0</th>\n",
              "      <th>1</th>\n",
              "      <th>2</th>\n",
              "      <th>3</th>\n",
              "      <th>4</th>\n",
              "    </tr>\n",
              "  </thead>\n",
              "  <tbody>\n",
              "    <tr>\n",
              "      <th>precision</th>\n",
              "      <td>0.765432</td>\n",
              "      <td>0.550999</td>\n",
              "      <td>0.496988</td>\n",
              "      <td>0.620321</td>\n",
              "      <td>0.352113</td>\n",
              "    </tr>\n",
              "    <tr>\n",
              "      <th>recall</th>\n",
              "      <td>0.780856</td>\n",
              "      <td>0.680519</td>\n",
              "      <td>0.456432</td>\n",
              "      <td>0.513274</td>\n",
              "      <td>0.271739</td>\n",
              "    </tr>\n",
              "    <tr>\n",
              "      <th>f1-score</th>\n",
              "      <td>0.773067</td>\n",
              "      <td>0.608948</td>\n",
              "      <td>0.475847</td>\n",
              "      <td>0.561743</td>\n",
              "      <td>0.306748</td>\n",
              "    </tr>\n",
              "  </tbody>\n",
              "</table>\n",
              "</div>"
            ],
            "text/plain": [
              "                  0         1         2         3         4\n",
              "precision  0.765432  0.550999  0.496988  0.620321  0.352113\n",
              "recall     0.780856  0.680519  0.456432  0.513274  0.271739\n",
              "f1-score   0.773067  0.608948  0.475847  0.561743  0.306748"
            ]
          },
          "metadata": {
            "tags": []
          },
          "execution_count": 0
        }
      ]
    },
    {
      "cell_type": "code",
      "metadata": {
        "colab": {
          "background_save": true
        },
        "id": "l3g0zbmyz5Ik",
        "outputId": "946292ad-b3d0-4a5f-b6d6-7c5a8bc65671"
      },
      "source": [
        "\n",
        "params = {'eta':[0.0001,0.0005,0.001],\n",
        "          'min_child_weight':[5]}\n",
        "xgboost_2 = Ensemble('XGBoost',log_reg_1.best_model,x_train,x_val,y_train,y_val)\n",
        "xgboost_2.get_scores(params,skf)"
      ],
      "execution_count": null,
      "outputs": [
        {
          "output_type": "display_data",
          "data": {
            "text/html": [
              "<div>\n",
              "<style scoped>\n",
              "    .dataframe tbody tr th:only-of-type {\n",
              "        vertical-align: middle;\n",
              "    }\n",
              "\n",
              "    .dataframe tbody tr th {\n",
              "        vertical-align: top;\n",
              "    }\n",
              "\n",
              "    .dataframe thead th {\n",
              "        text-align: right;\n",
              "    }\n",
              "</style>\n",
              "<table border=\"1\" class=\"dataframe\">\n",
              "  <thead>\n",
              "    <tr style=\"text-align: right;\">\n",
              "      <th></th>\n",
              "      <th>Model Name</th>\n",
              "      <th>Train Accuracy</th>\n",
              "      <th>Validation Accuracy</th>\n",
              "      <th>Accuracy Difference</th>\n",
              "    </tr>\n",
              "  </thead>\n",
              "  <tbody>\n",
              "    <tr>\n",
              "      <th>0</th>\n",
              "      <td>XGBoost</td>\n",
              "      <td>0.634196</td>\n",
              "      <td>0.601897</td>\n",
              "      <td>0.032298</td>\n",
              "    </tr>\n",
              "  </tbody>\n",
              "</table>\n",
              "</div>"
            ],
            "text/plain": [
              "  Model Name  Train Accuracy  Validation Accuracy  Accuracy Difference\n",
              "0    XGBoost        0.634196             0.601897             0.032298"
            ]
          },
          "metadata": {
            "tags": []
          }
        },
        {
          "output_type": "stream",
          "text": [
            "The best hyperparameters are:  {'eta': 0.0001, 'min_child_weight': 5} \n",
            "\n"
          ],
          "name": "stdout"
        },
        {
          "output_type": "execute_result",
          "data": {
            "text/html": [
              "<div>\n",
              "<style scoped>\n",
              "    .dataframe tbody tr th:only-of-type {\n",
              "        vertical-align: middle;\n",
              "    }\n",
              "\n",
              "    .dataframe tbody tr th {\n",
              "        vertical-align: top;\n",
              "    }\n",
              "\n",
              "    .dataframe thead th {\n",
              "        text-align: right;\n",
              "    }\n",
              "</style>\n",
              "<table border=\"1\" class=\"dataframe\">\n",
              "  <thead>\n",
              "    <tr style=\"text-align: right;\">\n",
              "      <th></th>\n",
              "      <th>0</th>\n",
              "      <th>1</th>\n",
              "      <th>2</th>\n",
              "      <th>3</th>\n",
              "      <th>4</th>\n",
              "    </tr>\n",
              "  </thead>\n",
              "  <tbody>\n",
              "    <tr>\n",
              "      <th>precision</th>\n",
              "      <td>0.761267</td>\n",
              "      <td>0.550694</td>\n",
              "      <td>0.493192</td>\n",
              "      <td>0.617857</td>\n",
              "      <td>0.346154</td>\n",
              "    </tr>\n",
              "    <tr>\n",
              "      <th>recall</th>\n",
              "      <td>0.787154</td>\n",
              "      <td>0.670130</td>\n",
              "      <td>0.450899</td>\n",
              "      <td>0.510324</td>\n",
              "      <td>0.293478</td>\n",
              "    </tr>\n",
              "    <tr>\n",
              "      <th>f1-score</th>\n",
              "      <td>0.773994</td>\n",
              "      <td>0.604569</td>\n",
              "      <td>0.471098</td>\n",
              "      <td>0.558966</td>\n",
              "      <td>0.317647</td>\n",
              "    </tr>\n",
              "  </tbody>\n",
              "</table>\n",
              "</div>"
            ],
            "text/plain": [
              "                  0         1         2         3         4\n",
              "precision  0.761267  0.550694  0.493192  0.617857  0.346154\n",
              "recall     0.787154  0.670130  0.450899  0.510324  0.293478\n",
              "f1-score   0.773994  0.604569  0.471098  0.558966  0.317647"
            ]
          },
          "metadata": {
            "tags": []
          },
          "execution_count": 0
        }
      ]
    },
    {
      "cell_type": "markdown",
      "metadata": {
        "id": "ZKIkWm060BB8"
      },
      "source": [
        "Voting (Adaboost(log_reg_2)/Logistic Regression)"
      ]
    },
    {
      "cell_type": "code",
      "metadata": {
        "colab": {
          "background_save": true
        },
        "id": "8QN2Mo-Mz_L_",
        "outputId": "72a1019a-fd36-4049-cf7f-17c298e709b0"
      },
      "source": [
        "params = {'voting':['hard','soft']}\n",
        "\n",
        "adaboost_best = ('ada', adaboost_2.best_model)\n",
        "log_reg_best = ('lr2', log_reg_3.best_model)\n",
        "ran_best=('ran', ran_for_2.best_model)\n",
        "xg_best=('xgb', xgboost_1.best_model)\n",
        "\n",
        "estimators = [adaboost_best,log_reg_best, ran_best, xg_best ]\n",
        "voting = Ensemble('Voting',estimators,x_train,x_val,y_train,y_val)\n",
        "\n",
        "voting.get_scores(params,skf)"
      ],
      "execution_count": null,
      "outputs": [
        {
          "output_type": "display_data",
          "data": {
            "text/html": [
              "<div>\n",
              "<style scoped>\n",
              "    .dataframe tbody tr th:only-of-type {\n",
              "        vertical-align: middle;\n",
              "    }\n",
              "\n",
              "    .dataframe tbody tr th {\n",
              "        vertical-align: top;\n",
              "    }\n",
              "\n",
              "    .dataframe thead th {\n",
              "        text-align: right;\n",
              "    }\n",
              "</style>\n",
              "<table border=\"1\" class=\"dataframe\">\n",
              "  <thead>\n",
              "    <tr style=\"text-align: right;\">\n",
              "      <th></th>\n",
              "      <th>Model Name</th>\n",
              "      <th>Train Accuracy</th>\n",
              "      <th>Validation Accuracy</th>\n",
              "      <th>Accuracy Difference</th>\n",
              "    </tr>\n",
              "  </thead>\n",
              "  <tbody>\n",
              "    <tr>\n",
              "      <th>0</th>\n",
              "      <td>Voting</td>\n",
              "      <td>0.643032</td>\n",
              "      <td>0.606477</td>\n",
              "      <td>0.036555</td>\n",
              "    </tr>\n",
              "  </tbody>\n",
              "</table>\n",
              "</div>"
            ],
            "text/plain": [
              "  Model Name  Train Accuracy  Validation Accuracy  Accuracy Difference\n",
              "0     Voting        0.643032             0.606477             0.036555"
            ]
          },
          "metadata": {
            "tags": []
          }
        },
        {
          "output_type": "stream",
          "text": [
            "The best hyperparameters are:  {'voting': 'soft'} \n",
            "\n"
          ],
          "name": "stdout"
        },
        {
          "output_type": "execute_result",
          "data": {
            "text/html": [
              "<div>\n",
              "<style scoped>\n",
              "    .dataframe tbody tr th:only-of-type {\n",
              "        vertical-align: middle;\n",
              "    }\n",
              "\n",
              "    .dataframe tbody tr th {\n",
              "        vertical-align: top;\n",
              "    }\n",
              "\n",
              "    .dataframe thead th {\n",
              "        text-align: right;\n",
              "    }\n",
              "</style>\n",
              "<table border=\"1\" class=\"dataframe\">\n",
              "  <thead>\n",
              "    <tr style=\"text-align: right;\">\n",
              "      <th></th>\n",
              "      <th>0</th>\n",
              "      <th>1</th>\n",
              "      <th>2</th>\n",
              "      <th>3</th>\n",
              "      <th>4</th>\n",
              "    </tr>\n",
              "  </thead>\n",
              "  <tbody>\n",
              "    <tr>\n",
              "      <th>precision</th>\n",
              "      <td>0.764417</td>\n",
              "      <td>0.556391</td>\n",
              "      <td>0.497041</td>\n",
              "      <td>0.598684</td>\n",
              "      <td>0.481481</td>\n",
              "    </tr>\n",
              "    <tr>\n",
              "      <th>recall</th>\n",
              "      <td>0.784635</td>\n",
              "      <td>0.672727</td>\n",
              "      <td>0.464730</td>\n",
              "      <td>0.536873</td>\n",
              "      <td>0.141304</td>\n",
              "    </tr>\n",
              "    <tr>\n",
              "      <th>f1-score</th>\n",
              "      <td>0.774394</td>\n",
              "      <td>0.609053</td>\n",
              "      <td>0.480343</td>\n",
              "      <td>0.566096</td>\n",
              "      <td>0.218487</td>\n",
              "    </tr>\n",
              "  </tbody>\n",
              "</table>\n",
              "</div>"
            ],
            "text/plain": [
              "                  0         1         2         3         4\n",
              "precision  0.764417  0.556391  0.497041  0.598684  0.481481\n",
              "recall     0.784635  0.672727  0.464730  0.536873  0.141304\n",
              "f1-score   0.774394  0.609053  0.480343  0.566096  0.218487"
            ]
          },
          "metadata": {
            "tags": []
          },
          "execution_count": 0
        }
      ]
    },
    {
      "cell_type": "markdown",
      "metadata": {
        "id": "_YUU-Awg0KhE"
      },
      "source": [
        "Stacking (Adaboost(log_reg_2)/Logistic Regression)"
      ]
    },
    {
      "cell_type": "code",
      "metadata": {
        "colab": {
          "background_save": true
        },
        "id": "F7pvm7nP0It3",
        "outputId": "5899f45c-39d5-4ed0-d273-42b7736eec33"
      },
      "source": [
        "adaboost_best = ('ada', adaboost_2.best_model)\n",
        "log_reg_best = ('lr2', log_reg_3.best_model)\n",
        "ran_best=('ran', ran_for_2.best_model)\n",
        "xg_best=('xgb', xgboost_1.best_model)\n",
        "\n",
        "estimators = [adaboost_best,log_reg_best, ran_best, xg_best ]\n",
        "stacking = Ensemble('Stacking',estimators,x_train,x_val,y_train,y_val)\n",
        "stacking.get_scores({},skf)"
      ],
      "execution_count": null,
      "outputs": [
        {
          "output_type": "stream",
          "text": [
            "/usr/local/lib/python3.7/dist-packages/sklearn/linear_model/_logistic.py:940: ConvergenceWarning: lbfgs failed to converge (status=1):\n",
            "STOP: TOTAL NO. of ITERATIONS REACHED LIMIT.\n",
            "\n",
            "Increase the number of iterations (max_iter) or scale the data as shown in:\n",
            "    https://scikit-learn.org/stable/modules/preprocessing.html\n",
            "Please also refer to the documentation for alternative solver options:\n",
            "    https://scikit-learn.org/stable/modules/linear_model.html#logistic-regression\n",
            "  extra_warning_msg=_LOGISTIC_SOLVER_CONVERGENCE_MSG)\n",
            "/usr/local/lib/python3.7/dist-packages/sklearn/linear_model/_logistic.py:940: ConvergenceWarning: lbfgs failed to converge (status=1):\n",
            "STOP: TOTAL NO. of ITERATIONS REACHED LIMIT.\n",
            "\n",
            "Increase the number of iterations (max_iter) or scale the data as shown in:\n",
            "    https://scikit-learn.org/stable/modules/preprocessing.html\n",
            "Please also refer to the documentation for alternative solver options:\n",
            "    https://scikit-learn.org/stable/modules/linear_model.html#logistic-regression\n",
            "  extra_warning_msg=_LOGISTIC_SOLVER_CONVERGENCE_MSG)\n",
            "/usr/local/lib/python3.7/dist-packages/sklearn/linear_model/_logistic.py:940: ConvergenceWarning: lbfgs failed to converge (status=1):\n",
            "STOP: TOTAL NO. of ITERATIONS REACHED LIMIT.\n",
            "\n",
            "Increase the number of iterations (max_iter) or scale the data as shown in:\n",
            "    https://scikit-learn.org/stable/modules/preprocessing.html\n",
            "Please also refer to the documentation for alternative solver options:\n",
            "    https://scikit-learn.org/stable/modules/linear_model.html#logistic-regression\n",
            "  extra_warning_msg=_LOGISTIC_SOLVER_CONVERGENCE_MSG)\n",
            "/usr/local/lib/python3.7/dist-packages/sklearn/linear_model/_logistic.py:940: ConvergenceWarning: lbfgs failed to converge (status=1):\n",
            "STOP: TOTAL NO. of ITERATIONS REACHED LIMIT.\n",
            "\n",
            "Increase the number of iterations (max_iter) or scale the data as shown in:\n",
            "    https://scikit-learn.org/stable/modules/preprocessing.html\n",
            "Please also refer to the documentation for alternative solver options:\n",
            "    https://scikit-learn.org/stable/modules/linear_model.html#logistic-regression\n",
            "  extra_warning_msg=_LOGISTIC_SOLVER_CONVERGENCE_MSG)\n",
            "/usr/local/lib/python3.7/dist-packages/sklearn/linear_model/_logistic.py:940: ConvergenceWarning: lbfgs failed to converge (status=1):\n",
            "STOP: TOTAL NO. of ITERATIONS REACHED LIMIT.\n",
            "\n",
            "Increase the number of iterations (max_iter) or scale the data as shown in:\n",
            "    https://scikit-learn.org/stable/modules/preprocessing.html\n",
            "Please also refer to the documentation for alternative solver options:\n",
            "    https://scikit-learn.org/stable/modules/linear_model.html#logistic-regression\n",
            "  extra_warning_msg=_LOGISTIC_SOLVER_CONVERGENCE_MSG)\n",
            "/usr/local/lib/python3.7/dist-packages/sklearn/linear_model/_logistic.py:940: ConvergenceWarning: lbfgs failed to converge (status=1):\n",
            "STOP: TOTAL NO. of ITERATIONS REACHED LIMIT.\n",
            "\n",
            "Increase the number of iterations (max_iter) or scale the data as shown in:\n",
            "    https://scikit-learn.org/stable/modules/preprocessing.html\n",
            "Please also refer to the documentation for alternative solver options:\n",
            "    https://scikit-learn.org/stable/modules/linear_model.html#logistic-regression\n",
            "  extra_warning_msg=_LOGISTIC_SOLVER_CONVERGENCE_MSG)\n",
            "/usr/local/lib/python3.7/dist-packages/sklearn/linear_model/_logistic.py:940: ConvergenceWarning: lbfgs failed to converge (status=1):\n",
            "STOP: TOTAL NO. of ITERATIONS REACHED LIMIT.\n",
            "\n",
            "Increase the number of iterations (max_iter) or scale the data as shown in:\n",
            "    https://scikit-learn.org/stable/modules/preprocessing.html\n",
            "Please also refer to the documentation for alternative solver options:\n",
            "    https://scikit-learn.org/stable/modules/linear_model.html#logistic-regression\n",
            "  extra_warning_msg=_LOGISTIC_SOLVER_CONVERGENCE_MSG)\n",
            "/usr/local/lib/python3.7/dist-packages/sklearn/linear_model/_logistic.py:940: ConvergenceWarning: lbfgs failed to converge (status=1):\n",
            "STOP: TOTAL NO. of ITERATIONS REACHED LIMIT.\n",
            "\n",
            "Increase the number of iterations (max_iter) or scale the data as shown in:\n",
            "    https://scikit-learn.org/stable/modules/preprocessing.html\n",
            "Please also refer to the documentation for alternative solver options:\n",
            "    https://scikit-learn.org/stable/modules/linear_model.html#logistic-regression\n",
            "  extra_warning_msg=_LOGISTIC_SOLVER_CONVERGENCE_MSG)\n",
            "/usr/local/lib/python3.7/dist-packages/sklearn/linear_model/_logistic.py:940: ConvergenceWarning: lbfgs failed to converge (status=1):\n",
            "STOP: TOTAL NO. of ITERATIONS REACHED LIMIT.\n",
            "\n",
            "Increase the number of iterations (max_iter) or scale the data as shown in:\n",
            "    https://scikit-learn.org/stable/modules/preprocessing.html\n",
            "Please also refer to the documentation for alternative solver options:\n",
            "    https://scikit-learn.org/stable/modules/linear_model.html#logistic-regression\n",
            "  extra_warning_msg=_LOGISTIC_SOLVER_CONVERGENCE_MSG)\n",
            "/usr/local/lib/python3.7/dist-packages/sklearn/linear_model/_logistic.py:940: ConvergenceWarning: lbfgs failed to converge (status=1):\n",
            "STOP: TOTAL NO. of ITERATIONS REACHED LIMIT.\n",
            "\n",
            "Increase the number of iterations (max_iter) or scale the data as shown in:\n",
            "    https://scikit-learn.org/stable/modules/preprocessing.html\n",
            "Please also refer to the documentation for alternative solver options:\n",
            "    https://scikit-learn.org/stable/modules/linear_model.html#logistic-regression\n",
            "  extra_warning_msg=_LOGISTIC_SOLVER_CONVERGENCE_MSG)\n",
            "/usr/local/lib/python3.7/dist-packages/sklearn/linear_model/_logistic.py:940: ConvergenceWarning: lbfgs failed to converge (status=1):\n",
            "STOP: TOTAL NO. of ITERATIONS REACHED LIMIT.\n",
            "\n",
            "Increase the number of iterations (max_iter) or scale the data as shown in:\n",
            "    https://scikit-learn.org/stable/modules/preprocessing.html\n",
            "Please also refer to the documentation for alternative solver options:\n",
            "    https://scikit-learn.org/stable/modules/linear_model.html#logistic-regression\n",
            "  extra_warning_msg=_LOGISTIC_SOLVER_CONVERGENCE_MSG)\n",
            "/usr/local/lib/python3.7/dist-packages/sklearn/linear_model/_logistic.py:940: ConvergenceWarning: lbfgs failed to converge (status=1):\n",
            "STOP: TOTAL NO. of ITERATIONS REACHED LIMIT.\n",
            "\n",
            "Increase the number of iterations (max_iter) or scale the data as shown in:\n",
            "    https://scikit-learn.org/stable/modules/preprocessing.html\n",
            "Please also refer to the documentation for alternative solver options:\n",
            "    https://scikit-learn.org/stable/modules/linear_model.html#logistic-regression\n",
            "  extra_warning_msg=_LOGISTIC_SOLVER_CONVERGENCE_MSG)\n",
            "/usr/local/lib/python3.7/dist-packages/sklearn/linear_model/_logistic.py:940: ConvergenceWarning: lbfgs failed to converge (status=1):\n",
            "STOP: TOTAL NO. of ITERATIONS REACHED LIMIT.\n",
            "\n",
            "Increase the number of iterations (max_iter) or scale the data as shown in:\n",
            "    https://scikit-learn.org/stable/modules/preprocessing.html\n",
            "Please also refer to the documentation for alternative solver options:\n",
            "    https://scikit-learn.org/stable/modules/linear_model.html#logistic-regression\n",
            "  extra_warning_msg=_LOGISTIC_SOLVER_CONVERGENCE_MSG)\n",
            "/usr/local/lib/python3.7/dist-packages/sklearn/linear_model/_logistic.py:940: ConvergenceWarning: lbfgs failed to converge (status=1):\n",
            "STOP: TOTAL NO. of ITERATIONS REACHED LIMIT.\n",
            "\n",
            "Increase the number of iterations (max_iter) or scale the data as shown in:\n",
            "    https://scikit-learn.org/stable/modules/preprocessing.html\n",
            "Please also refer to the documentation for alternative solver options:\n",
            "    https://scikit-learn.org/stable/modules/linear_model.html#logistic-regression\n",
            "  extra_warning_msg=_LOGISTIC_SOLVER_CONVERGENCE_MSG)\n"
          ],
          "name": "stderr"
        },
        {
          "output_type": "display_data",
          "data": {
            "text/html": [
              "<div>\n",
              "<style scoped>\n",
              "    .dataframe tbody tr th:only-of-type {\n",
              "        vertical-align: middle;\n",
              "    }\n",
              "\n",
              "    .dataframe tbody tr th {\n",
              "        vertical-align: top;\n",
              "    }\n",
              "\n",
              "    .dataframe thead th {\n",
              "        text-align: right;\n",
              "    }\n",
              "</style>\n",
              "<table border=\"1\" class=\"dataframe\">\n",
              "  <thead>\n",
              "    <tr style=\"text-align: right;\">\n",
              "      <th></th>\n",
              "      <th>Model Name</th>\n",
              "      <th>Train Accuracy</th>\n",
              "      <th>Validation Accuracy</th>\n",
              "      <th>Accuracy Difference</th>\n",
              "    </tr>\n",
              "  </thead>\n",
              "  <tbody>\n",
              "    <tr>\n",
              "      <th>0</th>\n",
              "      <td>Stacking</td>\n",
              "      <td>0.675077</td>\n",
              "      <td>0.608767</td>\n",
              "      <td>0.06631</td>\n",
              "    </tr>\n",
              "  </tbody>\n",
              "</table>\n",
              "</div>"
            ],
            "text/plain": [
              "  Model Name  Train Accuracy  Validation Accuracy  Accuracy Difference\n",
              "0   Stacking        0.675077             0.608767              0.06631"
            ]
          },
          "metadata": {
            "tags": []
          }
        },
        {
          "output_type": "execute_result",
          "data": {
            "text/html": [
              "<div>\n",
              "<style scoped>\n",
              "    .dataframe tbody tr th:only-of-type {\n",
              "        vertical-align: middle;\n",
              "    }\n",
              "\n",
              "    .dataframe tbody tr th {\n",
              "        vertical-align: top;\n",
              "    }\n",
              "\n",
              "    .dataframe thead th {\n",
              "        text-align: right;\n",
              "    }\n",
              "</style>\n",
              "<table border=\"1\" class=\"dataframe\">\n",
              "  <thead>\n",
              "    <tr style=\"text-align: right;\">\n",
              "      <th></th>\n",
              "      <th>0</th>\n",
              "      <th>1</th>\n",
              "      <th>2</th>\n",
              "      <th>3</th>\n",
              "      <th>4</th>\n",
              "    </tr>\n",
              "  </thead>\n",
              "  <tbody>\n",
              "    <tr>\n",
              "      <th>precision</th>\n",
              "      <td>0.777640</td>\n",
              "      <td>0.553684</td>\n",
              "      <td>0.498462</td>\n",
              "      <td>0.610544</td>\n",
              "      <td>0.406250</td>\n",
              "    </tr>\n",
              "    <tr>\n",
              "      <th>recall</th>\n",
              "      <td>0.788413</td>\n",
              "      <td>0.683117</td>\n",
              "      <td>0.448133</td>\n",
              "      <td>0.529499</td>\n",
              "      <td>0.282609</td>\n",
              "    </tr>\n",
              "    <tr>\n",
              "      <th>f1-score</th>\n",
              "      <td>0.782989</td>\n",
              "      <td>0.611628</td>\n",
              "      <td>0.471959</td>\n",
              "      <td>0.567141</td>\n",
              "      <td>0.333333</td>\n",
              "    </tr>\n",
              "  </tbody>\n",
              "</table>\n",
              "</div>"
            ],
            "text/plain": [
              "                  0         1         2         3         4\n",
              "precision  0.777640  0.553684  0.498462  0.610544  0.406250\n",
              "recall     0.788413  0.683117  0.448133  0.529499  0.282609\n",
              "f1-score   0.782989  0.611628  0.471959  0.567141  0.333333"
            ]
          },
          "metadata": {
            "tags": []
          },
          "execution_count": 0
        }
      ]
    },
    {
      "cell_type": "markdown",
      "metadata": {
        "id": "8-jjyI1x0XMP"
      },
      "source": [
        "Taking out best models"
      ]
    },
    {
      "cell_type": "code",
      "metadata": {
        "colab": {
          "background_save": true
        },
        "id": "7BjybL-00VqD"
      },
      "source": [
        "all_models = pd.concat([dec_tree_1.scores_table,\n",
        "                        ran_for_2.scores_table,\n",
        "                        log_reg_3.scores_table,\n",
        "                        svm_1.scores_table,\n",
        "                        gnb_2.scores_table,\n",
        "                        knn_1.scores_table,\n",
        "                        adaboost_2.scores_table,\n",
        "                        xgboost_2.scores_table,\n",
        "                        voting.scores_table,\n",
        "                        stacking.scores_table],\n",
        "                        axis=0)"
      ],
      "execution_count": null,
      "outputs": []
    },
    {
      "cell_type": "code",
      "metadata": {
        "id": "8QA7LKX_0d8W"
      },
      "source": [
        "all_models"
      ],
      "execution_count": null,
      "outputs": []
    },
    {
      "cell_type": "markdown",
      "metadata": {
        "id": "FQ3pzh0I1ixZ"
      },
      "source": [
        "We chose a model with highest validation error and with minimum gap between Test accuracy and Validation accuracy"
      ]
    },
    {
      "cell_type": "code",
      "metadata": {
        "id": "3eDlcahh10AO"
      },
      "source": [
        "best_model=ran_for_2"
      ],
      "execution_count": null,
      "outputs": []
    },
    {
      "cell_type": "markdown",
      "metadata": {
        "id": "O6LP7dGb32sL"
      },
      "source": [
        "### Evaluation"
      ]
    },
    {
      "cell_type": "code",
      "metadata": {
        "id": "nIRe6W6N35se"
      },
      "source": [
        "best_model.get_test_scores(X,Y)"
      ],
      "execution_count": null,
      "outputs": []
    },
    {
      "cell_type": "code",
      "metadata": {
        "id": "ZYakY_iu4RVa"
      },
      "source": [
        "best_model.classification_report"
      ],
      "execution_count": null,
      "outputs": []
    },
    {
      "cell_type": "code",
      "metadata": {
        "id": "1vF8umFi4WTb"
      },
      "source": [
        "best_model.conf_matrix()"
      ],
      "execution_count": null,
      "outputs": []
    },
    {
      "cell_type": "code",
      "metadata": {
        "id": "WhT2HBMpDiJo"
      },
      "source": [
        "best_model=dec_tree_1"
      ],
      "execution_count": null,
      "outputs": []
    },
    {
      "cell_type": "code",
      "metadata": {
        "id": "g6SMKAq-Ef_B"
      },
      "source": [
        "best_model.get_test_scores(X_over,Y_over)"
      ],
      "execution_count": null,
      "outputs": []
    },
    {
      "cell_type": "code",
      "metadata": {
        "id": "y3sYhi_hEjv-"
      },
      "source": [
        "best_model.classification_report"
      ],
      "execution_count": null,
      "outputs": []
    },
    {
      "cell_type": "code",
      "metadata": {
        "id": "PDTfcQIvEmGw"
      },
      "source": [
        "best_model.conf_matrix()"
      ],
      "execution_count": null,
      "outputs": []
    },
    {
      "cell_type": "code",
      "metadata": {
        "id": "tQG2erXEEt_h"
      },
      "source": [
        "best_model=ran_for_2\n",
        "best_model.get_test_scores(X_over,Y_over)"
      ],
      "execution_count": null,
      "outputs": []
    },
    {
      "cell_type": "code",
      "metadata": {
        "id": "rUw1FFg1FUpv"
      },
      "source": [
        "best_model.classification_report"
      ],
      "execution_count": null,
      "outputs": []
    },
    {
      "cell_type": "code",
      "metadata": {
        "id": "18AW6aOfFa17"
      },
      "source": [
        "best_model.conf_matrix()"
      ],
      "execution_count": null,
      "outputs": []
    },
    {
      "cell_type": "code",
      "metadata": {
        "id": "lKyrjwMZFb5g"
      },
      "source": [
        ""
      ],
      "execution_count": null,
      "outputs": []
    },
    {
      "cell_type": "code",
      "metadata": {
        "id": "jSCzPzRTGGKG"
      },
      "source": [
        ""
      ],
      "execution_count": null,
      "outputs": []
    },
    {
      "cell_type": "markdown",
      "metadata": {
        "id": "UHc4q1ZiGE22"
      },
      "source": [
        "### Testing data"
      ]
    },
    {
      "cell_type": "code",
      "metadata": {
        "id": "0e7Uz4AZGMk3"
      },
      "source": [
        "test = pd.read_csv(Test_data)\n",
        "test.info()"
      ],
      "execution_count": null,
      "outputs": []
    },
    {
      "cell_type": "code",
      "metadata": {
        "id": "xVsfK3cKGaXx"
      },
      "source": [
        "test['explicit']= pd.factorize(test.explicit)[0]\n"
      ],
      "execution_count": null,
      "outputs": []
    },
    {
      "cell_type": "code",
      "metadata": {
        "id": "xolEaPHTGqHQ"
      },
      "source": [
        "test[\"Year_bucket\"]=pd.cut(test[\"year\"],bins = [0,D1,D2,D3,D4,D5,D6,D7,D8,D9,D10],\n",
        "                         labels=[\"1920-1947\",\"1947-1960\",\"1960-1970\", \"1970-1979\",\"1979-1987\",\"1987-1995\",\"1995-2003\",\"2003-2012\",\"2012-2017\",\"2017-2021\"])"
      ],
      "execution_count": null,
      "outputs": []
    },
    {
      "cell_type": "code",
      "metadata": {
        "id": "UGkcWAaEHDhP"
      },
      "source": [
        "test.info()"
      ],
      "execution_count": null,
      "outputs": []
    },
    {
      "cell_type": "code",
      "metadata": {
        "id": "yYiDw5kMK9bO"
      },
      "source": [
        "'max_depth': 17, 'min_samples_leaf': 7, \n",
        "'n_estimators': 50\n"
      ],
      "execution_count": null,
      "outputs": []
    },
    {
      "cell_type": "code",
      "metadata": {
        "id": "S628yHFNMI1s"
      },
      "source": [
        "from sklearn.ensemble import RandomForestClassifier\n",
        "Classifier3= RandomForestClassifier(max_depth= 17, min_samples_leaf= 7, n_estimators= 50)\n",
        "Classifier3.fit(x_train, y_train)"
      ],
      "execution_count": null,
      "outputs": []
    },
    {
      "cell_type": "code",
      "metadata": {
        "colab": {
          "base_uri": "https://localhost:8080/"
        },
        "id": "6f1bii3qRH3d",
        "outputId": "ebbdcc1b-902f-4282-915f-08b44f52c58b"
      },
      "source": [
        "from sklearn.metrics import accuracy_score\n",
        "accuracy_score(y_val,Classifier3.predict(x_val))"
      ],
      "execution_count": null,
      "outputs": [
        {
          "output_type": "execute_result",
          "data": {
            "text/plain": [
              "0.6107294733398757"
            ]
          },
          "metadata": {
            "tags": []
          },
          "execution_count": 137
        }
      ]
    },
    {
      "cell_type": "code",
      "metadata": {
        "colab": {
          "base_uri": "https://localhost:8080/"
        },
        "id": "rhRgYYJZRH1e",
        "outputId": "7dcc5c0a-4c2d-40aa-c3f9-48724b794fe8"
      },
      "source": [
        "accuracy_score(Y,Classifier3.predict(X))"
      ],
      "execution_count": null,
      "outputs": [
        {
          "output_type": "execute_result",
          "data": {
            "text/plain": [
              "0.7009078269403779"
            ]
          },
          "metadata": {
            "tags": []
          },
          "execution_count": 138
        }
      ]
    },
    {
      "cell_type": "code",
      "metadata": {
        "colab": {
          "base_uri": "https://localhost:8080/",
          "height": 285
        },
        "id": "t8eSxQUqRHDJ",
        "outputId": "7762ee9c-2f6e-4ceb-cf91-e43288ee4fc9"
      },
      "source": [
        "sns.heatmap(confusion_matrix(Y,Classifier3.predict(X)))"
      ],
      "execution_count": null,
      "outputs": [
        {
          "output_type": "execute_result",
          "data": {
            "text/plain": [
              "<matplotlib.axes._subplots.AxesSubplot at 0x7f7f2b39ecd0>"
            ]
          },
          "metadata": {
            "tags": []
          },
          "execution_count": 140
        },
        {
          "output_type": "display_data",
          "data": {
            "image/png": "[encoded data removed]",
            "text/plain": [
              "<Figure size 432x288 with 2 Axes>"
            ]
          },
          "metadata": {
            "tags": []
          }
        }
      ]
    },
    {
      "cell_type": "code",
      "metadata": {
        "id": "3_FBNVlKMOPM"
      },
      "source": [
        "y_pred=Classifier3.predict(X_test)"
      ],
      "execution_count": null,
      "outputs": []
    },
    {
      "cell_type": "code",
      "metadata": {
        "id": "eNSlT4KkMe-W"
      },
      "source": [
        "y_pred"
      ],
      "execution_count": null,
      "outputs": []
    },
    {
      "cell_type": "code",
      "metadata": {
        "id": "TDeKW_G3Miu6"
      },
      "source": [
        "X_test"
      ],
      "execution_count": null,
      "outputs": []
    },
    {
      "cell_type": "code",
      "metadata": {
        "id": "pn-B0E8kMltd"
      },
      "source": [
        "X_test[\"pred\"]=y_pred\n",
        "X_test.to_excel(\"test_with_pred.xlsx\")"
      ],
      "execution_count": null,
      "outputs": []
    },
    {
      "cell_type": "code",
      "metadata": {
        "id": "SZaeT3ClM5Ze"
      },
      "source": [
        ""
      ],
      "execution_count": null,
      "outputs": []
    }
  ]
}